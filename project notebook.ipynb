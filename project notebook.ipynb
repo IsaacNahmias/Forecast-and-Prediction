{
 "cells": [
  {
   "cell_type": "markdown",
   "metadata": {},
   "source": [
    "<p style=\"font-family:'Tw Cen MT';font-size:14px\"> P100 - Forecasting and Prediction - Course Project</p>\n",
    "\n",
    "# Predict Churn for a Gym Chain\n",
    "<p style=\"font-family:'Tw Cen MT';font-size:16px\">by Isaac Nahmias, March 2022</p>\n"
   ]
  },
  {
   "cell_type": "markdown",
   "metadata": {},
   "source": [
    "---\n",
    "## Introduction\n",
    "### Abstract\n",
    "One of the most common problems gyms and other services face is customer churn. The gym chain *Model Fitness* is developing a customer interaction strategy based on analytical data in order to fight churn.\n",
    "\n",
    "*Model Fitness* provided me with CSV files containing data on churn for a given month and information on the month preceding it. In this paper I will analyze the data provided to select churn indicators, with it I will create a forecasting model so the gym will be able to predict the probability of churn for each customer.\n",
    "\n",
    "### Uploading the data files and relevant liberies:"
   ]
  },
  {
   "cell_type": "code",
   "execution_count": 1,
   "metadata": {},
   "outputs": [],
   "source": [
    "import pandas as pd\n",
    "import numpy as np\n",
    "import plotly.express as px\n",
    "import matplotlib.pyplot as plt\n",
    "import seaborn as sns\n",
    "\n",
    "sns.set_theme(style=\"darkgrid\")"
   ]
  },
  {
   "cell_type": "code",
   "execution_count": 2,
   "metadata": {},
   "outputs": [],
   "source": [
    "try:\n",
    "    df = pd.read_csv('/datasets/gym_churn_us.csv')\n",
    "except:\n",
    "    df = pd.read_csv('gym_churn_us.csv')\n",
    "\n",
    "df.columns = df.columns.str.lower()"
   ]
  },
  {
   "cell_type": "code",
   "execution_count": 3,
   "metadata": {
    "scrolled": false
   },
   "outputs": [
    {
     "data": {
      "text/html": [
       "<div>\n",
       "<style scoped>\n",
       "    .dataframe tbody tr th:only-of-type {\n",
       "        vertical-align: middle;\n",
       "    }\n",
       "\n",
       "    .dataframe tbody tr th {\n",
       "        vertical-align: top;\n",
       "    }\n",
       "\n",
       "    .dataframe thead th {\n",
       "        text-align: right;\n",
       "    }\n",
       "</style>\n",
       "<table border=\"1\" class=\"dataframe\">\n",
       "  <thead>\n",
       "    <tr style=\"text-align: right;\">\n",
       "      <th></th>\n",
       "      <th>gender</th>\n",
       "      <th>near_location</th>\n",
       "      <th>partner</th>\n",
       "      <th>promo_friends</th>\n",
       "      <th>phone</th>\n",
       "      <th>contract_period</th>\n",
       "      <th>group_visits</th>\n",
       "      <th>age</th>\n",
       "      <th>avg_additional_charges_total</th>\n",
       "      <th>month_to_end_contract</th>\n",
       "      <th>lifetime</th>\n",
       "      <th>avg_class_frequency_total</th>\n",
       "      <th>avg_class_frequency_current_month</th>\n",
       "      <th>churn</th>\n",
       "    </tr>\n",
       "  </thead>\n",
       "  <tbody>\n",
       "    <tr>\n",
       "      <th>0</th>\n",
       "      <td>1</td>\n",
       "      <td>1</td>\n",
       "      <td>1</td>\n",
       "      <td>1</td>\n",
       "      <td>0</td>\n",
       "      <td>6</td>\n",
       "      <td>1</td>\n",
       "      <td>29</td>\n",
       "      <td>14.227470</td>\n",
       "      <td>5.0</td>\n",
       "      <td>3</td>\n",
       "      <td>0.020398</td>\n",
       "      <td>0.000000</td>\n",
       "      <td>0</td>\n",
       "    </tr>\n",
       "    <tr>\n",
       "      <th>1</th>\n",
       "      <td>0</td>\n",
       "      <td>1</td>\n",
       "      <td>0</td>\n",
       "      <td>0</td>\n",
       "      <td>1</td>\n",
       "      <td>12</td>\n",
       "      <td>1</td>\n",
       "      <td>31</td>\n",
       "      <td>113.202938</td>\n",
       "      <td>12.0</td>\n",
       "      <td>7</td>\n",
       "      <td>1.922936</td>\n",
       "      <td>1.910244</td>\n",
       "      <td>0</td>\n",
       "    </tr>\n",
       "    <tr>\n",
       "      <th>2</th>\n",
       "      <td>0</td>\n",
       "      <td>1</td>\n",
       "      <td>1</td>\n",
       "      <td>0</td>\n",
       "      <td>1</td>\n",
       "      <td>1</td>\n",
       "      <td>0</td>\n",
       "      <td>28</td>\n",
       "      <td>129.448479</td>\n",
       "      <td>1.0</td>\n",
       "      <td>2</td>\n",
       "      <td>1.859098</td>\n",
       "      <td>1.736502</td>\n",
       "      <td>0</td>\n",
       "    </tr>\n",
       "    <tr>\n",
       "      <th>3</th>\n",
       "      <td>0</td>\n",
       "      <td>1</td>\n",
       "      <td>1</td>\n",
       "      <td>1</td>\n",
       "      <td>1</td>\n",
       "      <td>12</td>\n",
       "      <td>1</td>\n",
       "      <td>33</td>\n",
       "      <td>62.669863</td>\n",
       "      <td>12.0</td>\n",
       "      <td>2</td>\n",
       "      <td>3.205633</td>\n",
       "      <td>3.357215</td>\n",
       "      <td>0</td>\n",
       "    </tr>\n",
       "    <tr>\n",
       "      <th>4</th>\n",
       "      <td>1</td>\n",
       "      <td>1</td>\n",
       "      <td>1</td>\n",
       "      <td>1</td>\n",
       "      <td>1</td>\n",
       "      <td>1</td>\n",
       "      <td>0</td>\n",
       "      <td>26</td>\n",
       "      <td>198.362265</td>\n",
       "      <td>1.0</td>\n",
       "      <td>3</td>\n",
       "      <td>1.113884</td>\n",
       "      <td>1.120078</td>\n",
       "      <td>0</td>\n",
       "    </tr>\n",
       "  </tbody>\n",
       "</table>\n",
       "</div>"
      ],
      "text/plain": [
       "   gender  near_location  partner  promo_friends  phone  contract_period  \\\n",
       "0       1              1        1              1      0                6   \n",
       "1       0              1        0              0      1               12   \n",
       "2       0              1        1              0      1                1   \n",
       "3       0              1        1              1      1               12   \n",
       "4       1              1        1              1      1                1   \n",
       "\n",
       "   group_visits  age  avg_additional_charges_total  month_to_end_contract  \\\n",
       "0             1   29                     14.227470                    5.0   \n",
       "1             1   31                    113.202938                   12.0   \n",
       "2             0   28                    129.448479                    1.0   \n",
       "3             1   33                     62.669863                   12.0   \n",
       "4             0   26                    198.362265                    1.0   \n",
       "\n",
       "   lifetime  avg_class_frequency_total  avg_class_frequency_current_month  \\\n",
       "0         3                   0.020398                           0.000000   \n",
       "1         7                   1.922936                           1.910244   \n",
       "2         2                   1.859098                           1.736502   \n",
       "3         2                   3.205633                           3.357215   \n",
       "4         3                   1.113884                           1.120078   \n",
       "\n",
       "   churn  \n",
       "0      0  \n",
       "1      0  \n",
       "2      0  \n",
       "3      0  \n",
       "4      0  "
      ]
     },
     "execution_count": 3,
     "metadata": {},
     "output_type": "execute_result"
    }
   ],
   "source": [
    "#first five enetries:\n",
    "df.head()"
   ]
  },
  {
   "cell_type": "markdown",
   "metadata": {},
   "source": [
    "### Data Description\n",
    "The dataset includes the following fields:\n",
    "* `churn` — the fact of churn for the month in question.\n",
    "\n",
    "User data for the preceding month:\n",
    "* `gender`\n",
    "* `near_location` — whether the user lives or works in the neighborhood where the gym is located\n",
    "* `partner` — whether the user is an employee of a <span title=\"The gym has partner companies whose employees get discounts\"><u>partner company</u></span> (hover for more information)\n",
    "* `promo_friends` — whether the user originally signed up through a \"bring a friend\" offer \n",
    "* `phone` — whether the user provided their phone number\n",
    "* `age`\n",
    "* `lifetime` — the time (in months) since the customer first came to the gym\n",
    "\n",
    "Data from the log of visits and purchases and data on current membership status:\n",
    "* `contract_period` — 1 month, 3 months, 6 months, or 1 year\n",
    "* `month_to_end_contract` — the months remaining until the contract expires\n",
    "* `group_visits` — whether the user takes part in group sessions\n",
    "* `avg_class_frequency_total` — average frequency of visits per week over the customer's lifetime\n",
    "* `avg_class_frequency_current_month` — average frequency of visits per week over the preceding month\n",
    "* `avg_additional_charges_total` — the total amount of money spent on other gym services: cafe, athletic goods, cosmetics, massages, etc."
   ]
  },
  {
   "cell_type": "markdown",
   "metadata": {},
   "source": [
    "### Initial Data Preprocessing"
   ]
  },
  {
   "cell_type": "code",
   "execution_count": 4,
   "metadata": {},
   "outputs": [
    {
     "name": "stdout",
     "output_type": "stream",
     "text": [
      "Columns count:\t 14\n",
      "Rows count:\t 4000\n"
     ]
    }
   ],
   "source": [
    "print('Columns count:\\t',df.shape[1])\n",
    "print('Rows count:\\t',df.shape[0])"
   ]
  },
  {
   "cell_type": "code",
   "execution_count": 5,
   "metadata": {
    "scrolled": true
   },
   "outputs": [
    {
     "name": "stdout",
     "output_type": "stream",
     "text": [
      "Null Values:\t\t 0\n",
      "Duplicated Enteries:\t 0\n"
     ]
    }
   ],
   "source": [
    "print(\"Null Values:\\t\\t\",df.isnull().sum().sum())\n",
    "print(\"Duplicated Enteries:\\t\",df.duplicated().sum())"
   ]
  },
  {
   "cell_type": "markdown",
   "metadata": {},
   "source": [
    "The dataframe contains 14 columns and 4000 records. There are no missing entries at all and there is no record that appears more than once.\n",
    "\n",
    "Now all I have left to do is to make sure that every column contains the righ type of data:"
   ]
  },
  {
   "cell_type": "code",
   "execution_count": 6,
   "metadata": {},
   "outputs": [
    {
     "name": "stdout",
     "output_type": "stream",
     "text": [
      "<class 'pandas.core.frame.DataFrame'>\n",
      "RangeIndex: 4000 entries, 0 to 3999\n",
      "Data columns (total 14 columns):\n",
      " #   Column                             Non-Null Count  Dtype  \n",
      "---  ------                             --------------  -----  \n",
      " 0   gender                             4000 non-null   int64  \n",
      " 1   near_location                      4000 non-null   int64  \n",
      " 2   partner                            4000 non-null   int64  \n",
      " 3   promo_friends                      4000 non-null   int64  \n",
      " 4   phone                              4000 non-null   int64  \n",
      " 5   contract_period                    4000 non-null   int64  \n",
      " 6   group_visits                       4000 non-null   int64  \n",
      " 7   age                                4000 non-null   int64  \n",
      " 8   avg_additional_charges_total       4000 non-null   float64\n",
      " 9   month_to_end_contract              4000 non-null   float64\n",
      " 10  lifetime                           4000 non-null   int64  \n",
      " 11  avg_class_frequency_total          4000 non-null   float64\n",
      " 12  avg_class_frequency_current_month  4000 non-null   float64\n",
      " 13  churn                              4000 non-null   int64  \n",
      "dtypes: float64(4), int64(10)\n",
      "memory usage: 437.6 KB\n"
     ]
    }
   ],
   "source": [
    "df.info()"
   ]
  },
  {
   "cell_type": "code",
   "execution_count": 7,
   "metadata": {},
   "outputs": [],
   "source": [
    "for col in df.select_dtypes(include='float').columns:\n",
    "    df[col] = pd.to_numeric(df[col], downcast='float')\n",
    "    \n",
    "for col in df.select_dtypes(include='int').columns:\n",
    "    df[col] = pd.to_numeric(df[col], downcast='integer')"
   ]
  },
  {
   "cell_type": "code",
   "execution_count": 8,
   "metadata": {},
   "outputs": [
    {
     "name": "stdout",
     "output_type": "stream",
     "text": [
      "<class 'pandas.core.frame.DataFrame'>\n",
      "RangeIndex: 4000 entries, 0 to 3999\n",
      "Data columns (total 14 columns):\n",
      " #   Column                             Non-Null Count  Dtype  \n",
      "---  ------                             --------------  -----  \n",
      " 0   gender                             4000 non-null   int8   \n",
      " 1   near_location                      4000 non-null   int8   \n",
      " 2   partner                            4000 non-null   int8   \n",
      " 3   promo_friends                      4000 non-null   int8   \n",
      " 4   phone                              4000 non-null   int8   \n",
      " 5   contract_period                    4000 non-null   int8   \n",
      " 6   group_visits                       4000 non-null   int8   \n",
      " 7   age                                4000 non-null   int8   \n",
      " 8   avg_additional_charges_total       4000 non-null   float32\n",
      " 9   month_to_end_contract              4000 non-null   float32\n",
      " 10  lifetime                           4000 non-null   int8   \n",
      " 11  avg_class_frequency_total          4000 non-null   float32\n",
      " 12  avg_class_frequency_current_month  4000 non-null   float32\n",
      " 13  churn                              4000 non-null   int8   \n",
      "dtypes: float32(4), int8(10)\n",
      "memory usage: 101.7 KB\n"
     ]
    }
   ],
   "source": [
    "df.info()"
   ]
  },
  {
   "cell_type": "markdown",
   "metadata": {},
   "source": []
  },
  {
   "cell_type": "markdown",
   "metadata": {},
   "source": [
    "---\n",
    "## Exploratory Data Analysis\n",
    "\n",
    "### The story told by the averages"
   ]
  },
  {
   "cell_type": "code",
   "execution_count": 9,
   "metadata": {},
   "outputs": [
    {
     "data": {
      "text/html": [
       "<div>\n",
       "<style scoped>\n",
       "    .dataframe tbody tr th:only-of-type {\n",
       "        vertical-align: middle;\n",
       "    }\n",
       "\n",
       "    .dataframe tbody tr th {\n",
       "        vertical-align: top;\n",
       "    }\n",
       "\n",
       "    .dataframe thead th {\n",
       "        text-align: right;\n",
       "    }\n",
       "</style>\n",
       "<table border=\"1\" class=\"dataframe\">\n",
       "  <thead>\n",
       "    <tr style=\"text-align: right;\">\n",
       "      <th></th>\n",
       "      <th>count</th>\n",
       "      <th>mean</th>\n",
       "      <th>std</th>\n",
       "      <th>min</th>\n",
       "      <th>25%</th>\n",
       "      <th>50%</th>\n",
       "      <th>75%</th>\n",
       "      <th>max</th>\n",
       "    </tr>\n",
       "  </thead>\n",
       "  <tbody>\n",
       "    <tr>\n",
       "      <th>gender</th>\n",
       "      <td>4000.0</td>\n",
       "      <td>0.510250</td>\n",
       "      <td>0.499957</td>\n",
       "      <td>0.000000</td>\n",
       "      <td>0.000000</td>\n",
       "      <td>1.000000</td>\n",
       "      <td>1.000000</td>\n",
       "      <td>1.000000</td>\n",
       "    </tr>\n",
       "    <tr>\n",
       "      <th>near_location</th>\n",
       "      <td>4000.0</td>\n",
       "      <td>0.845250</td>\n",
       "      <td>0.361711</td>\n",
       "      <td>0.000000</td>\n",
       "      <td>1.000000</td>\n",
       "      <td>1.000000</td>\n",
       "      <td>1.000000</td>\n",
       "      <td>1.000000</td>\n",
       "    </tr>\n",
       "    <tr>\n",
       "      <th>partner</th>\n",
       "      <td>4000.0</td>\n",
       "      <td>0.486750</td>\n",
       "      <td>0.499887</td>\n",
       "      <td>0.000000</td>\n",
       "      <td>0.000000</td>\n",
       "      <td>0.000000</td>\n",
       "      <td>1.000000</td>\n",
       "      <td>1.000000</td>\n",
       "    </tr>\n",
       "    <tr>\n",
       "      <th>promo_friends</th>\n",
       "      <td>4000.0</td>\n",
       "      <td>0.308500</td>\n",
       "      <td>0.461932</td>\n",
       "      <td>0.000000</td>\n",
       "      <td>0.000000</td>\n",
       "      <td>0.000000</td>\n",
       "      <td>1.000000</td>\n",
       "      <td>1.000000</td>\n",
       "    </tr>\n",
       "    <tr>\n",
       "      <th>phone</th>\n",
       "      <td>4000.0</td>\n",
       "      <td>0.903500</td>\n",
       "      <td>0.295313</td>\n",
       "      <td>0.000000</td>\n",
       "      <td>1.000000</td>\n",
       "      <td>1.000000</td>\n",
       "      <td>1.000000</td>\n",
       "      <td>1.000000</td>\n",
       "    </tr>\n",
       "    <tr>\n",
       "      <th>contract_period</th>\n",
       "      <td>4000.0</td>\n",
       "      <td>4.681250</td>\n",
       "      <td>4.549706</td>\n",
       "      <td>1.000000</td>\n",
       "      <td>1.000000</td>\n",
       "      <td>1.000000</td>\n",
       "      <td>6.000000</td>\n",
       "      <td>12.000000</td>\n",
       "    </tr>\n",
       "    <tr>\n",
       "      <th>group_visits</th>\n",
       "      <td>4000.0</td>\n",
       "      <td>0.412250</td>\n",
       "      <td>0.492301</td>\n",
       "      <td>0.000000</td>\n",
       "      <td>0.000000</td>\n",
       "      <td>0.000000</td>\n",
       "      <td>1.000000</td>\n",
       "      <td>1.000000</td>\n",
       "    </tr>\n",
       "    <tr>\n",
       "      <th>age</th>\n",
       "      <td>4000.0</td>\n",
       "      <td>29.184250</td>\n",
       "      <td>3.258367</td>\n",
       "      <td>18.000000</td>\n",
       "      <td>27.000000</td>\n",
       "      <td>29.000000</td>\n",
       "      <td>31.000000</td>\n",
       "      <td>41.000000</td>\n",
       "    </tr>\n",
       "    <tr>\n",
       "      <th>avg_additional_charges_total</th>\n",
       "      <td>4000.0</td>\n",
       "      <td>146.943649</td>\n",
       "      <td>96.355606</td>\n",
       "      <td>0.148205</td>\n",
       "      <td>68.868832</td>\n",
       "      <td>136.220161</td>\n",
       "      <td>210.949619</td>\n",
       "      <td>552.590759</td>\n",
       "    </tr>\n",
       "    <tr>\n",
       "      <th>month_to_end_contract</th>\n",
       "      <td>4000.0</td>\n",
       "      <td>4.322750</td>\n",
       "      <td>4.191243</td>\n",
       "      <td>1.000000</td>\n",
       "      <td>1.000000</td>\n",
       "      <td>1.000000</td>\n",
       "      <td>6.000000</td>\n",
       "      <td>12.000000</td>\n",
       "    </tr>\n",
       "    <tr>\n",
       "      <th>lifetime</th>\n",
       "      <td>4000.0</td>\n",
       "      <td>3.724750</td>\n",
       "      <td>3.749267</td>\n",
       "      <td>0.000000</td>\n",
       "      <td>1.000000</td>\n",
       "      <td>3.000000</td>\n",
       "      <td>5.000000</td>\n",
       "      <td>31.000000</td>\n",
       "    </tr>\n",
       "    <tr>\n",
       "      <th>avg_class_frequency_total</th>\n",
       "      <td>4000.0</td>\n",
       "      <td>1.879020</td>\n",
       "      <td>0.972245</td>\n",
       "      <td>0.000000</td>\n",
       "      <td>1.180875</td>\n",
       "      <td>1.832768</td>\n",
       "      <td>2.536078</td>\n",
       "      <td>6.023668</td>\n",
       "    </tr>\n",
       "    <tr>\n",
       "      <th>avg_class_frequency_current_month</th>\n",
       "      <td>4000.0</td>\n",
       "      <td>1.767051</td>\n",
       "      <td>1.052906</td>\n",
       "      <td>0.000000</td>\n",
       "      <td>0.963003</td>\n",
       "      <td>1.719574</td>\n",
       "      <td>2.510336</td>\n",
       "      <td>6.146783</td>\n",
       "    </tr>\n",
       "    <tr>\n",
       "      <th>churn</th>\n",
       "      <td>4000.0</td>\n",
       "      <td>0.265250</td>\n",
       "      <td>0.441521</td>\n",
       "      <td>0.000000</td>\n",
       "      <td>0.000000</td>\n",
       "      <td>0.000000</td>\n",
       "      <td>1.000000</td>\n",
       "      <td>1.000000</td>\n",
       "    </tr>\n",
       "  </tbody>\n",
       "</table>\n",
       "</div>"
      ],
      "text/plain": [
       "                                    count        mean        std        min  \\\n",
       "gender                             4000.0    0.510250   0.499957   0.000000   \n",
       "near_location                      4000.0    0.845250   0.361711   0.000000   \n",
       "partner                            4000.0    0.486750   0.499887   0.000000   \n",
       "promo_friends                      4000.0    0.308500   0.461932   0.000000   \n",
       "phone                              4000.0    0.903500   0.295313   0.000000   \n",
       "contract_period                    4000.0    4.681250   4.549706   1.000000   \n",
       "group_visits                       4000.0    0.412250   0.492301   0.000000   \n",
       "age                                4000.0   29.184250   3.258367  18.000000   \n",
       "avg_additional_charges_total       4000.0  146.943649  96.355606   0.148205   \n",
       "month_to_end_contract              4000.0    4.322750   4.191243   1.000000   \n",
       "lifetime                           4000.0    3.724750   3.749267   0.000000   \n",
       "avg_class_frequency_total          4000.0    1.879020   0.972245   0.000000   \n",
       "avg_class_frequency_current_month  4000.0    1.767051   1.052906   0.000000   \n",
       "churn                              4000.0    0.265250   0.441521   0.000000   \n",
       "\n",
       "                                         25%         50%         75%  \\\n",
       "gender                              0.000000    1.000000    1.000000   \n",
       "near_location                       1.000000    1.000000    1.000000   \n",
       "partner                             0.000000    0.000000    1.000000   \n",
       "promo_friends                       0.000000    0.000000    1.000000   \n",
       "phone                               1.000000    1.000000    1.000000   \n",
       "contract_period                     1.000000    1.000000    6.000000   \n",
       "group_visits                        0.000000    0.000000    1.000000   \n",
       "age                                27.000000   29.000000   31.000000   \n",
       "avg_additional_charges_total       68.868832  136.220161  210.949619   \n",
       "month_to_end_contract               1.000000    1.000000    6.000000   \n",
       "lifetime                            1.000000    3.000000    5.000000   \n",
       "avg_class_frequency_total           1.180875    1.832768    2.536078   \n",
       "avg_class_frequency_current_month   0.963003    1.719574    2.510336   \n",
       "churn                               0.000000    0.000000    1.000000   \n",
       "\n",
       "                                          max  \n",
       "gender                               1.000000  \n",
       "near_location                        1.000000  \n",
       "partner                              1.000000  \n",
       "promo_friends                        1.000000  \n",
       "phone                                1.000000  \n",
       "contract_period                     12.000000  \n",
       "group_visits                         1.000000  \n",
       "age                                 41.000000  \n",
       "avg_additional_charges_total       552.590759  \n",
       "month_to_end_contract               12.000000  \n",
       "lifetime                            31.000000  \n",
       "avg_class_frequency_total            6.023668  \n",
       "avg_class_frequency_current_month    6.146783  \n",
       "churn                                1.000000  "
      ]
     },
     "execution_count": 9,
     "metadata": {},
     "output_type": "execute_result"
    }
   ],
   "source": [
    "df.describe().T"
   ]
  },
  {
   "cell_type": "markdown",
   "metadata": {},
   "source": [
    "* Because the client's gender identity is presented in a binary way, it is not possible to know whether the client is a man or a woman, but since the average is about 0.5 it can be determined that gender-wise, the gym's clients are divided quite identically.\n",
    "* The binary averages tell us further that most of the gym's clients:\n",
    "    1. live or work near it\n",
    "    1. left a phone number in the registration\n",
    "    1. did not come through a \"bring a friend\" promotion\n",
    "    1. do not attend to group classes\n",
    "    1. and most importantly: almost 27% of them have left the gym on the current month.\n",
    "* The average age of the gym's clients is 29, with a standard deviation of only about three years.\n",
    "* Most of the clients prefer contract period of 1 month.\n",
    "* The average lifetime of the costumers is almost four months, and this is when there is at least one costumer with lifetime of two years and an half.\n",
    "* On average a costumer spends about 147 USD on additional charges.\n",
    "* The average frequency of visits is about 1.9 times a week, some come everyday and some didn't show up even once, by now."
   ]
  },
  {
   "cell_type": "markdown",
   "metadata": {},
   "source": [
    "While all of this helps me understand what characterizes all clients in general, my goal is to find the factors that influence churn. So, in the next step, I will check each of the averages again, but this time with a separation between remaining customers ($Churn=0$) and customers who have left ($Churn=1$).\n",
    "\n",
    "### What factors impact churn most?\n",
    "\n",
    "Next I will ask Python to show me for each feature a statistical description, one for those who stayed and one for those who left, followed by a histogram of the feature with different colors for churn:"
   ]
  },
  {
   "cell_type": "code",
   "execution_count": 10,
   "metadata": {
    "scrolled": true
   },
   "outputs": [],
   "source": [
    "feature_desc = df.groupby('churn').describe(include=\"all\")"
   ]
  },
  {
   "cell_type": "code",
   "execution_count": 11,
   "metadata": {},
   "outputs": [],
   "source": [
    "bin_col = []\n",
    "mul_col = []\n",
    "for col in df.columns:\n",
    "    if df[col].nunique() == 2:\n",
    "        bin_col.append(col)\n",
    "    else:\n",
    "        mul_col.append(col)"
   ]
  },
  {
   "cell_type": "code",
   "execution_count": 12,
   "metadata": {
    "scrolled": false
   },
   "outputs": [
    {
     "name": "stdout",
     "output_type": "stream",
     "text": [
      ">\u001b[1m Gender:\u001b[0m\n"
     ]
    },
    {
     "data": {
      "text/html": [
       "<div>\n",
       "<style scoped>\n",
       "    .dataframe tbody tr th:only-of-type {\n",
       "        vertical-align: middle;\n",
       "    }\n",
       "\n",
       "    .dataframe tbody tr th {\n",
       "        vertical-align: top;\n",
       "    }\n",
       "\n",
       "    .dataframe thead th {\n",
       "        text-align: right;\n",
       "    }\n",
       "</style>\n",
       "<table border=\"1\" class=\"dataframe\">\n",
       "  <thead>\n",
       "    <tr style=\"text-align: right;\">\n",
       "      <th></th>\n",
       "      <th>count</th>\n",
       "      <th>mean</th>\n",
       "      <th>std</th>\n",
       "      <th>min</th>\n",
       "      <th>25%</th>\n",
       "      <th>50%</th>\n",
       "      <th>75%</th>\n",
       "      <th>max</th>\n",
       "    </tr>\n",
       "    <tr>\n",
       "      <th>churn</th>\n",
       "      <th></th>\n",
       "      <th></th>\n",
       "      <th></th>\n",
       "      <th></th>\n",
       "      <th></th>\n",
       "      <th></th>\n",
       "      <th></th>\n",
       "      <th></th>\n",
       "    </tr>\n",
       "  </thead>\n",
       "  <tbody>\n",
       "    <tr>\n",
       "      <th>0</th>\n",
       "      <td>2939.0</td>\n",
       "      <td>0.510037</td>\n",
       "      <td>0.499984</td>\n",
       "      <td>0.0</td>\n",
       "      <td>0.0</td>\n",
       "      <td>1.0</td>\n",
       "      <td>1.0</td>\n",
       "      <td>1.0</td>\n",
       "    </tr>\n",
       "    <tr>\n",
       "      <th>1</th>\n",
       "      <td>1061.0</td>\n",
       "      <td>0.510839</td>\n",
       "      <td>0.500118</td>\n",
       "      <td>0.0</td>\n",
       "      <td>0.0</td>\n",
       "      <td>1.0</td>\n",
       "      <td>1.0</td>\n",
       "      <td>1.0</td>\n",
       "    </tr>\n",
       "  </tbody>\n",
       "</table>\n",
       "</div>"
      ],
      "text/plain": [
       "        count      mean       std  min  25%  50%  75%  max\n",
       "churn                                                     \n",
       "0      2939.0  0.510037  0.499984  0.0  0.0  1.0  1.0  1.0\n",
       "1      1061.0  0.510839  0.500118  0.0  0.0  1.0  1.0  1.0"
      ]
     },
     "metadata": {},
     "output_type": "display_data"
    },
    {
     "data": {
      "text/html": [
       "<div>\n",
       "<style scoped>\n",
       "    .dataframe tbody tr th:only-of-type {\n",
       "        vertical-align: middle;\n",
       "    }\n",
       "\n",
       "    .dataframe tbody tr th {\n",
       "        vertical-align: top;\n",
       "    }\n",
       "\n",
       "    .dataframe thead th {\n",
       "        text-align: right;\n",
       "    }\n",
       "</style>\n",
       "<table border=\"1\" class=\"dataframe\">\n",
       "  <thead>\n",
       "    <tr style=\"text-align: right;\">\n",
       "      <th></th>\n",
       "      <th>0</th>\n",
       "      <th>1</th>\n",
       "    </tr>\n",
       "  </thead>\n",
       "  <tbody>\n",
       "    <tr>\n",
       "      <th>gender</th>\n",
       "      <td>1</td>\n",
       "      <td>0</td>\n",
       "    </tr>\n",
       "    <tr>\n",
       "      <th>churn rate</th>\n",
       "      <td>26.6%</td>\n",
       "      <td>26.5%</td>\n",
       "    </tr>\n",
       "  </tbody>\n",
       "</table>\n",
       "</div>"
      ],
      "text/plain": [
       "                0      1\n",
       "gender          1      0\n",
       "churn rate  26.6%  26.5%"
      ]
     },
     "metadata": {},
     "output_type": "display_data"
    },
    {
     "data": {
      "image/png": "[encoded data removed]",
      "text/plain": [
       "<Figure size 1080x360 with 1 Axes>"
      ]
     },
     "metadata": {},
     "output_type": "display_data"
    },
    {
     "name": "stdout",
     "output_type": "stream",
     "text": [
      ">\u001b[1m Near_location:\u001b[0m\n"
     ]
    },
    {
     "data": {
      "text/html": [
       "<div>\n",
       "<style scoped>\n",
       "    .dataframe tbody tr th:only-of-type {\n",
       "        vertical-align: middle;\n",
       "    }\n",
       "\n",
       "    .dataframe tbody tr th {\n",
       "        vertical-align: top;\n",
       "    }\n",
       "\n",
       "    .dataframe thead th {\n",
       "        text-align: right;\n",
       "    }\n",
       "</style>\n",
       "<table border=\"1\" class=\"dataframe\">\n",
       "  <thead>\n",
       "    <tr style=\"text-align: right;\">\n",
       "      <th></th>\n",
       "      <th>count</th>\n",
       "      <th>mean</th>\n",
       "      <th>std</th>\n",
       "      <th>min</th>\n",
       "      <th>25%</th>\n",
       "      <th>50%</th>\n",
       "      <th>75%</th>\n",
       "      <th>max</th>\n",
       "    </tr>\n",
       "    <tr>\n",
       "      <th>churn</th>\n",
       "      <th></th>\n",
       "      <th></th>\n",
       "      <th></th>\n",
       "      <th></th>\n",
       "      <th></th>\n",
       "      <th></th>\n",
       "      <th></th>\n",
       "      <th></th>\n",
       "    </tr>\n",
       "  </thead>\n",
       "  <tbody>\n",
       "    <tr>\n",
       "      <th>0</th>\n",
       "      <td>2939.0</td>\n",
       "      <td>0.873086</td>\n",
       "      <td>0.332933</td>\n",
       "      <td>0.0</td>\n",
       "      <td>1.0</td>\n",
       "      <td>1.0</td>\n",
       "      <td>1.0</td>\n",
       "      <td>1.0</td>\n",
       "    </tr>\n",
       "    <tr>\n",
       "      <th>1</th>\n",
       "      <td>1061.0</td>\n",
       "      <td>0.768143</td>\n",
       "      <td>0.422217</td>\n",
       "      <td>0.0</td>\n",
       "      <td>1.0</td>\n",
       "      <td>1.0</td>\n",
       "      <td>1.0</td>\n",
       "      <td>1.0</td>\n",
       "    </tr>\n",
       "  </tbody>\n",
       "</table>\n",
       "</div>"
      ],
      "text/plain": [
       "        count      mean       std  min  25%  50%  75%  max\n",
       "churn                                                     \n",
       "0      2939.0  0.873086  0.332933  0.0  1.0  1.0  1.0  1.0\n",
       "1      1061.0  0.768143  0.422217  0.0  1.0  1.0  1.0  1.0"
      ]
     },
     "metadata": {},
     "output_type": "display_data"
    },
    {
     "data": {
      "text/html": [
       "<div>\n",
       "<style scoped>\n",
       "    .dataframe tbody tr th:only-of-type {\n",
       "        vertical-align: middle;\n",
       "    }\n",
       "\n",
       "    .dataframe tbody tr th {\n",
       "        vertical-align: top;\n",
       "    }\n",
       "\n",
       "    .dataframe thead th {\n",
       "        text-align: right;\n",
       "    }\n",
       "</style>\n",
       "<table border=\"1\" class=\"dataframe\">\n",
       "  <thead>\n",
       "    <tr style=\"text-align: right;\">\n",
       "      <th></th>\n",
       "      <th>0</th>\n",
       "      <th>1</th>\n",
       "    </tr>\n",
       "  </thead>\n",
       "  <tbody>\n",
       "    <tr>\n",
       "      <th>near_location</th>\n",
       "      <td>0</td>\n",
       "      <td>1</td>\n",
       "    </tr>\n",
       "    <tr>\n",
       "      <th>churn rate</th>\n",
       "      <td>39.7%</td>\n",
       "      <td>24.1%</td>\n",
       "    </tr>\n",
       "  </tbody>\n",
       "</table>\n",
       "</div>"
      ],
      "text/plain": [
       "                   0      1\n",
       "near_location      0      1\n",
       "churn rate     39.7%  24.1%"
      ]
     },
     "metadata": {},
     "output_type": "display_data"
    },
    {
     "data": {
      "image/png": "[encoded data removed]",
      "text/plain": [
       "<Figure size 1080x360 with 1 Axes>"
      ]
     },
     "metadata": {},
     "output_type": "display_data"
    },
    {
     "name": "stdout",
     "output_type": "stream",
     "text": [
      ">\u001b[1m Partner:\u001b[0m\n"
     ]
    },
    {
     "data": {
      "text/html": [
       "<div>\n",
       "<style scoped>\n",
       "    .dataframe tbody tr th:only-of-type {\n",
       "        vertical-align: middle;\n",
       "    }\n",
       "\n",
       "    .dataframe tbody tr th {\n",
       "        vertical-align: top;\n",
       "    }\n",
       "\n",
       "    .dataframe thead th {\n",
       "        text-align: right;\n",
       "    }\n",
       "</style>\n",
       "<table border=\"1\" class=\"dataframe\">\n",
       "  <thead>\n",
       "    <tr style=\"text-align: right;\">\n",
       "      <th></th>\n",
       "      <th>count</th>\n",
       "      <th>mean</th>\n",
       "      <th>std</th>\n",
       "      <th>min</th>\n",
       "      <th>25%</th>\n",
       "      <th>50%</th>\n",
       "      <th>75%</th>\n",
       "      <th>max</th>\n",
       "    </tr>\n",
       "    <tr>\n",
       "      <th>churn</th>\n",
       "      <th></th>\n",
       "      <th></th>\n",
       "      <th></th>\n",
       "      <th></th>\n",
       "      <th></th>\n",
       "      <th></th>\n",
       "      <th></th>\n",
       "      <th></th>\n",
       "    </tr>\n",
       "  </thead>\n",
       "  <tbody>\n",
       "    <tr>\n",
       "      <th>0</th>\n",
       "      <td>2939.0</td>\n",
       "      <td>0.534195</td>\n",
       "      <td>0.498914</td>\n",
       "      <td>0.0</td>\n",
       "      <td>0.0</td>\n",
       "      <td>1.0</td>\n",
       "      <td>1.0</td>\n",
       "      <td>1.0</td>\n",
       "    </tr>\n",
       "    <tr>\n",
       "      <th>1</th>\n",
       "      <td>1061.0</td>\n",
       "      <td>0.355325</td>\n",
       "      <td>0.478837</td>\n",
       "      <td>0.0</td>\n",
       "      <td>0.0</td>\n",
       "      <td>0.0</td>\n",
       "      <td>1.0</td>\n",
       "      <td>1.0</td>\n",
       "    </tr>\n",
       "  </tbody>\n",
       "</table>\n",
       "</div>"
      ],
      "text/plain": [
       "        count      mean       std  min  25%  50%  75%  max\n",
       "churn                                                     \n",
       "0      2939.0  0.534195  0.498914  0.0  0.0  1.0  1.0  1.0\n",
       "1      1061.0  0.355325  0.478837  0.0  0.0  0.0  1.0  1.0"
      ]
     },
     "metadata": {},
     "output_type": "display_data"
    },
    {
     "data": {
      "text/html": [
       "<div>\n",
       "<style scoped>\n",
       "    .dataframe tbody tr th:only-of-type {\n",
       "        vertical-align: middle;\n",
       "    }\n",
       "\n",
       "    .dataframe tbody tr th {\n",
       "        vertical-align: top;\n",
       "    }\n",
       "\n",
       "    .dataframe thead th {\n",
       "        text-align: right;\n",
       "    }\n",
       "</style>\n",
       "<table border=\"1\" class=\"dataframe\">\n",
       "  <thead>\n",
       "    <tr style=\"text-align: right;\">\n",
       "      <th></th>\n",
       "      <th>0</th>\n",
       "      <th>1</th>\n",
       "    </tr>\n",
       "  </thead>\n",
       "  <tbody>\n",
       "    <tr>\n",
       "      <th>partner</th>\n",
       "      <td>0</td>\n",
       "      <td>1</td>\n",
       "    </tr>\n",
       "    <tr>\n",
       "      <th>churn rate</th>\n",
       "      <td>33.3%</td>\n",
       "      <td>19.4%</td>\n",
       "    </tr>\n",
       "  </tbody>\n",
       "</table>\n",
       "</div>"
      ],
      "text/plain": [
       "                0      1\n",
       "partner         0      1\n",
       "churn rate  33.3%  19.4%"
      ]
     },
     "metadata": {},
     "output_type": "display_data"
    },
    {
     "data": {
      "image/png": "[encoded data removed]",
      "text/plain": [
       "<Figure size 1080x360 with 1 Axes>"
      ]
     },
     "metadata": {},
     "output_type": "display_data"
    },
    {
     "name": "stdout",
     "output_type": "stream",
     "text": [
      ">\u001b[1m Promo_friends:\u001b[0m\n"
     ]
    },
    {
     "data": {
      "text/html": [
       "<div>\n",
       "<style scoped>\n",
       "    .dataframe tbody tr th:only-of-type {\n",
       "        vertical-align: middle;\n",
       "    }\n",
       "\n",
       "    .dataframe tbody tr th {\n",
       "        vertical-align: top;\n",
       "    }\n",
       "\n",
       "    .dataframe thead th {\n",
       "        text-align: right;\n",
       "    }\n",
       "</style>\n",
       "<table border=\"1\" class=\"dataframe\">\n",
       "  <thead>\n",
       "    <tr style=\"text-align: right;\">\n",
       "      <th></th>\n",
       "      <th>count</th>\n",
       "      <th>mean</th>\n",
       "      <th>std</th>\n",
       "      <th>min</th>\n",
       "      <th>25%</th>\n",
       "      <th>50%</th>\n",
       "      <th>75%</th>\n",
       "      <th>max</th>\n",
       "    </tr>\n",
       "    <tr>\n",
       "      <th>churn</th>\n",
       "      <th></th>\n",
       "      <th></th>\n",
       "      <th></th>\n",
       "      <th></th>\n",
       "      <th></th>\n",
       "      <th></th>\n",
       "      <th></th>\n",
       "      <th></th>\n",
       "    </tr>\n",
       "  </thead>\n",
       "  <tbody>\n",
       "    <tr>\n",
       "      <th>0</th>\n",
       "      <td>2939.0</td>\n",
       "      <td>0.353522</td>\n",
       "      <td>0.478144</td>\n",
       "      <td>0.0</td>\n",
       "      <td>0.0</td>\n",
       "      <td>0.0</td>\n",
       "      <td>1.0</td>\n",
       "      <td>1.0</td>\n",
       "    </tr>\n",
       "    <tr>\n",
       "      <th>1</th>\n",
       "      <td>1061.0</td>\n",
       "      <td>0.183789</td>\n",
       "      <td>0.387495</td>\n",
       "      <td>0.0</td>\n",
       "      <td>0.0</td>\n",
       "      <td>0.0</td>\n",
       "      <td>0.0</td>\n",
       "      <td>1.0</td>\n",
       "    </tr>\n",
       "  </tbody>\n",
       "</table>\n",
       "</div>"
      ],
      "text/plain": [
       "        count      mean       std  min  25%  50%  75%  max\n",
       "churn                                                     \n",
       "0      2939.0  0.353522  0.478144  0.0  0.0  0.0  1.0  1.0\n",
       "1      1061.0  0.183789  0.387495  0.0  0.0  0.0  0.0  1.0"
      ]
     },
     "metadata": {},
     "output_type": "display_data"
    },
    {
     "data": {
      "text/html": [
       "<div>\n",
       "<style scoped>\n",
       "    .dataframe tbody tr th:only-of-type {\n",
       "        vertical-align: middle;\n",
       "    }\n",
       "\n",
       "    .dataframe tbody tr th {\n",
       "        vertical-align: top;\n",
       "    }\n",
       "\n",
       "    .dataframe thead th {\n",
       "        text-align: right;\n",
       "    }\n",
       "</style>\n",
       "<table border=\"1\" class=\"dataframe\">\n",
       "  <thead>\n",
       "    <tr style=\"text-align: right;\">\n",
       "      <th></th>\n",
       "      <th>0</th>\n",
       "      <th>1</th>\n",
       "    </tr>\n",
       "  </thead>\n",
       "  <tbody>\n",
       "    <tr>\n",
       "      <th>promo_friends</th>\n",
       "      <td>0</td>\n",
       "      <td>1</td>\n",
       "    </tr>\n",
       "    <tr>\n",
       "      <th>churn rate</th>\n",
       "      <td>31.3%</td>\n",
       "      <td>15.8%</td>\n",
       "    </tr>\n",
       "  </tbody>\n",
       "</table>\n",
       "</div>"
      ],
      "text/plain": [
       "                   0      1\n",
       "promo_friends      0      1\n",
       "churn rate     31.3%  15.8%"
      ]
     },
     "metadata": {},
     "output_type": "display_data"
    },
    {
     "data": {
      "image/png": "[encoded data removed]",
      "text/plain": [
       "<Figure size 1080x360 with 1 Axes>"
      ]
     },
     "metadata": {},
     "output_type": "display_data"
    },
    {
     "name": "stdout",
     "output_type": "stream",
     "text": [
      ">\u001b[1m Phone:\u001b[0m\n"
     ]
    },
    {
     "data": {
      "text/html": [
       "<div>\n",
       "<style scoped>\n",
       "    .dataframe tbody tr th:only-of-type {\n",
       "        vertical-align: middle;\n",
       "    }\n",
       "\n",
       "    .dataframe tbody tr th {\n",
       "        vertical-align: top;\n",
       "    }\n",
       "\n",
       "    .dataframe thead th {\n",
       "        text-align: right;\n",
       "    }\n",
       "</style>\n",
       "<table border=\"1\" class=\"dataframe\">\n",
       "  <thead>\n",
       "    <tr style=\"text-align: right;\">\n",
       "      <th></th>\n",
       "      <th>count</th>\n",
       "      <th>mean</th>\n",
       "      <th>std</th>\n",
       "      <th>min</th>\n",
       "      <th>25%</th>\n",
       "      <th>50%</th>\n",
       "      <th>75%</th>\n",
       "      <th>max</th>\n",
       "    </tr>\n",
       "    <tr>\n",
       "      <th>churn</th>\n",
       "      <th></th>\n",
       "      <th></th>\n",
       "      <th></th>\n",
       "      <th></th>\n",
       "      <th></th>\n",
       "      <th></th>\n",
       "      <th></th>\n",
       "      <th></th>\n",
       "    </tr>\n",
       "  </thead>\n",
       "  <tbody>\n",
       "    <tr>\n",
       "      <th>0</th>\n",
       "      <td>2939.0</td>\n",
       "      <td>0.903709</td>\n",
       "      <td>0.295040</td>\n",
       "      <td>0.0</td>\n",
       "      <td>1.0</td>\n",
       "      <td>1.0</td>\n",
       "      <td>1.0</td>\n",
       "      <td>1.0</td>\n",
       "    </tr>\n",
       "    <tr>\n",
       "      <th>1</th>\n",
       "      <td>1061.0</td>\n",
       "      <td>0.902922</td>\n",
       "      <td>0.296204</td>\n",
       "      <td>0.0</td>\n",
       "      <td>1.0</td>\n",
       "      <td>1.0</td>\n",
       "      <td>1.0</td>\n",
       "      <td>1.0</td>\n",
       "    </tr>\n",
       "  </tbody>\n",
       "</table>\n",
       "</div>"
      ],
      "text/plain": [
       "        count      mean       std  min  25%  50%  75%  max\n",
       "churn                                                     \n",
       "0      2939.0  0.903709  0.295040  0.0  1.0  1.0  1.0  1.0\n",
       "1      1061.0  0.902922  0.296204  0.0  1.0  1.0  1.0  1.0"
      ]
     },
     "metadata": {},
     "output_type": "display_data"
    },
    {
     "data": {
      "text/html": [
       "<div>\n",
       "<style scoped>\n",
       "    .dataframe tbody tr th:only-of-type {\n",
       "        vertical-align: middle;\n",
       "    }\n",
       "\n",
       "    .dataframe tbody tr th {\n",
       "        vertical-align: top;\n",
       "    }\n",
       "\n",
       "    .dataframe thead th {\n",
       "        text-align: right;\n",
       "    }\n",
       "</style>\n",
       "<table border=\"1\" class=\"dataframe\">\n",
       "  <thead>\n",
       "    <tr style=\"text-align: right;\">\n",
       "      <th></th>\n",
       "      <th>0</th>\n",
       "      <th>1</th>\n",
       "    </tr>\n",
       "  </thead>\n",
       "  <tbody>\n",
       "    <tr>\n",
       "      <th>phone</th>\n",
       "      <td>0</td>\n",
       "      <td>1</td>\n",
       "    </tr>\n",
       "    <tr>\n",
       "      <th>churn rate</th>\n",
       "      <td>26.7%</td>\n",
       "      <td>26.5%</td>\n",
       "    </tr>\n",
       "  </tbody>\n",
       "</table>\n",
       "</div>"
      ],
      "text/plain": [
       "                0      1\n",
       "phone           0      1\n",
       "churn rate  26.7%  26.5%"
      ]
     },
     "metadata": {},
     "output_type": "display_data"
    },
    {
     "data": {
      "image/png": "[encoded data removed]",
      "text/plain": [
       "<Figure size 1080x360 with 1 Axes>"
      ]
     },
     "metadata": {},
     "output_type": "display_data"
    },
    {
     "name": "stdout",
     "output_type": "stream",
     "text": [
      ">\u001b[1m Contract_period:\u001b[0m\n"
     ]
    },
    {
     "data": {
      "text/html": [
       "<div>\n",
       "<style scoped>\n",
       "    .dataframe tbody tr th:only-of-type {\n",
       "        vertical-align: middle;\n",
       "    }\n",
       "\n",
       "    .dataframe tbody tr th {\n",
       "        vertical-align: top;\n",
       "    }\n",
       "\n",
       "    .dataframe thead th {\n",
       "        text-align: right;\n",
       "    }\n",
       "</style>\n",
       "<table border=\"1\" class=\"dataframe\">\n",
       "  <thead>\n",
       "    <tr style=\"text-align: right;\">\n",
       "      <th></th>\n",
       "      <th>count</th>\n",
       "      <th>mean</th>\n",
       "      <th>std</th>\n",
       "      <th>min</th>\n",
       "      <th>25%</th>\n",
       "      <th>50%</th>\n",
       "      <th>75%</th>\n",
       "      <th>max</th>\n",
       "    </tr>\n",
       "    <tr>\n",
       "      <th>churn</th>\n",
       "      <th></th>\n",
       "      <th></th>\n",
       "      <th></th>\n",
       "      <th></th>\n",
       "      <th></th>\n",
       "      <th></th>\n",
       "      <th></th>\n",
       "      <th></th>\n",
       "    </tr>\n",
       "  </thead>\n",
       "  <tbody>\n",
       "    <tr>\n",
       "      <th>0</th>\n",
       "      <td>2939.0</td>\n",
       "      <td>5.747193</td>\n",
       "      <td>4.716942</td>\n",
       "      <td>1.0</td>\n",
       "      <td>1.0</td>\n",
       "      <td>6.0</td>\n",
       "      <td>12.0</td>\n",
       "      <td>12.0</td>\n",
       "    </tr>\n",
       "    <tr>\n",
       "      <th>1</th>\n",
       "      <td>1061.0</td>\n",
       "      <td>1.728558</td>\n",
       "      <td>2.132371</td>\n",
       "      <td>1.0</td>\n",
       "      <td>1.0</td>\n",
       "      <td>1.0</td>\n",
       "      <td>1.0</td>\n",
       "      <td>12.0</td>\n",
       "    </tr>\n",
       "  </tbody>\n",
       "</table>\n",
       "</div>"
      ],
      "text/plain": [
       "        count      mean       std  min  25%  50%   75%   max\n",
       "churn                                                       \n",
       "0      2939.0  5.747193  4.716942  1.0  1.0  6.0  12.0  12.0\n",
       "1      1061.0  1.728558  2.132371  1.0  1.0  1.0   1.0  12.0"
      ]
     },
     "metadata": {},
     "output_type": "display_data"
    },
    {
     "data": {
      "image/png": "[encoded data removed]",
      "text/plain": [
       "<Figure size 1080x360 with 1 Axes>"
      ]
     },
     "metadata": {},
     "output_type": "display_data"
    },
    {
     "name": "stdout",
     "output_type": "stream",
     "text": [
      ">\u001b[1m Group_visits:\u001b[0m\n"
     ]
    },
    {
     "data": {
      "text/html": [
       "<div>\n",
       "<style scoped>\n",
       "    .dataframe tbody tr th:only-of-type {\n",
       "        vertical-align: middle;\n",
       "    }\n",
       "\n",
       "    .dataframe tbody tr th {\n",
       "        vertical-align: top;\n",
       "    }\n",
       "\n",
       "    .dataframe thead th {\n",
       "        text-align: right;\n",
       "    }\n",
       "</style>\n",
       "<table border=\"1\" class=\"dataframe\">\n",
       "  <thead>\n",
       "    <tr style=\"text-align: right;\">\n",
       "      <th></th>\n",
       "      <th>count</th>\n",
       "      <th>mean</th>\n",
       "      <th>std</th>\n",
       "      <th>min</th>\n",
       "      <th>25%</th>\n",
       "      <th>50%</th>\n",
       "      <th>75%</th>\n",
       "      <th>max</th>\n",
       "    </tr>\n",
       "    <tr>\n",
       "      <th>churn</th>\n",
       "      <th></th>\n",
       "      <th></th>\n",
       "      <th></th>\n",
       "      <th></th>\n",
       "      <th></th>\n",
       "      <th></th>\n",
       "      <th></th>\n",
       "      <th></th>\n",
       "    </tr>\n",
       "  </thead>\n",
       "  <tbody>\n",
       "    <tr>\n",
       "      <th>0</th>\n",
       "      <td>2939.0</td>\n",
       "      <td>0.464103</td>\n",
       "      <td>0.498795</td>\n",
       "      <td>0.0</td>\n",
       "      <td>0.0</td>\n",
       "      <td>0.0</td>\n",
       "      <td>1.0</td>\n",
       "      <td>1.0</td>\n",
       "    </tr>\n",
       "    <tr>\n",
       "      <th>1</th>\n",
       "      <td>1061.0</td>\n",
       "      <td>0.268615</td>\n",
       "      <td>0.443448</td>\n",
       "      <td>0.0</td>\n",
       "      <td>0.0</td>\n",
       "      <td>0.0</td>\n",
       "      <td>1.0</td>\n",
       "      <td>1.0</td>\n",
       "    </tr>\n",
       "  </tbody>\n",
       "</table>\n",
       "</div>"
      ],
      "text/plain": [
       "        count      mean       std  min  25%  50%  75%  max\n",
       "churn                                                     \n",
       "0      2939.0  0.464103  0.498795  0.0  0.0  0.0  1.0  1.0\n",
       "1      1061.0  0.268615  0.443448  0.0  0.0  0.0  1.0  1.0"
      ]
     },
     "metadata": {},
     "output_type": "display_data"
    },
    {
     "data": {
      "text/html": [
       "<div>\n",
       "<style scoped>\n",
       "    .dataframe tbody tr th:only-of-type {\n",
       "        vertical-align: middle;\n",
       "    }\n",
       "\n",
       "    .dataframe tbody tr th {\n",
       "        vertical-align: top;\n",
       "    }\n",
       "\n",
       "    .dataframe thead th {\n",
       "        text-align: right;\n",
       "    }\n",
       "</style>\n",
       "<table border=\"1\" class=\"dataframe\">\n",
       "  <thead>\n",
       "    <tr style=\"text-align: right;\">\n",
       "      <th></th>\n",
       "      <th>0</th>\n",
       "      <th>1</th>\n",
       "    </tr>\n",
       "  </thead>\n",
       "  <tbody>\n",
       "    <tr>\n",
       "      <th>group_visits</th>\n",
       "      <td>0</td>\n",
       "      <td>1</td>\n",
       "    </tr>\n",
       "    <tr>\n",
       "      <th>churn rate</th>\n",
       "      <td>33.0%</td>\n",
       "      <td>17.3%</td>\n",
       "    </tr>\n",
       "  </tbody>\n",
       "</table>\n",
       "</div>"
      ],
      "text/plain": [
       "                  0      1\n",
       "group_visits      0      1\n",
       "churn rate    33.0%  17.3%"
      ]
     },
     "metadata": {},
     "output_type": "display_data"
    },
    {
     "data": {
      "image/png": "[encoded data removed]",
      "text/plain": [
       "<Figure size 1080x360 with 1 Axes>"
      ]
     },
     "metadata": {},
     "output_type": "display_data"
    },
    {
     "name": "stdout",
     "output_type": "stream",
     "text": [
      ">\u001b[1m Age:\u001b[0m\n"
     ]
    },
    {
     "data": {
      "text/html": [
       "<div>\n",
       "<style scoped>\n",
       "    .dataframe tbody tr th:only-of-type {\n",
       "        vertical-align: middle;\n",
       "    }\n",
       "\n",
       "    .dataframe tbody tr th {\n",
       "        vertical-align: top;\n",
       "    }\n",
       "\n",
       "    .dataframe thead th {\n",
       "        text-align: right;\n",
       "    }\n",
       "</style>\n",
       "<table border=\"1\" class=\"dataframe\">\n",
       "  <thead>\n",
       "    <tr style=\"text-align: right;\">\n",
       "      <th></th>\n",
       "      <th>count</th>\n",
       "      <th>mean</th>\n",
       "      <th>std</th>\n",
       "      <th>min</th>\n",
       "      <th>25%</th>\n",
       "      <th>50%</th>\n",
       "      <th>75%</th>\n",
       "      <th>max</th>\n",
       "    </tr>\n",
       "    <tr>\n",
       "      <th>churn</th>\n",
       "      <th></th>\n",
       "      <th></th>\n",
       "      <th></th>\n",
       "      <th></th>\n",
       "      <th></th>\n",
       "      <th></th>\n",
       "      <th></th>\n",
       "      <th></th>\n",
       "    </tr>\n",
       "  </thead>\n",
       "  <tbody>\n",
       "    <tr>\n",
       "      <th>0</th>\n",
       "      <td>2939.0</td>\n",
       "      <td>29.976523</td>\n",
       "      <td>3.009933</td>\n",
       "      <td>19.0</td>\n",
       "      <td>28.0</td>\n",
       "      <td>30.0</td>\n",
       "      <td>32.0</td>\n",
       "      <td>41.0</td>\n",
       "    </tr>\n",
       "    <tr>\n",
       "      <th>1</th>\n",
       "      <td>1061.0</td>\n",
       "      <td>26.989632</td>\n",
       "      <td>2.895163</td>\n",
       "      <td>18.0</td>\n",
       "      <td>25.0</td>\n",
       "      <td>27.0</td>\n",
       "      <td>29.0</td>\n",
       "      <td>38.0</td>\n",
       "    </tr>\n",
       "  </tbody>\n",
       "</table>\n",
       "</div>"
      ],
      "text/plain": [
       "        count       mean       std   min   25%   50%   75%   max\n",
       "churn                                                           \n",
       "0      2939.0  29.976523  3.009933  19.0  28.0  30.0  32.0  41.0\n",
       "1      1061.0  26.989632  2.895163  18.0  25.0  27.0  29.0  38.0"
      ]
     },
     "metadata": {},
     "output_type": "display_data"
    },
    {
     "data": {
      "image/png": "[encoded data removed]",
      "text/plain": [
       "<Figure size 1080x360 with 1 Axes>"
      ]
     },
     "metadata": {},
     "output_type": "display_data"
    },
    {
     "name": "stdout",
     "output_type": "stream",
     "text": [
      ">\u001b[1m Avg_additional_charges_total:\u001b[0m\n"
     ]
    },
    {
     "data": {
      "text/html": [
       "<div>\n",
       "<style scoped>\n",
       "    .dataframe tbody tr th:only-of-type {\n",
       "        vertical-align: middle;\n",
       "    }\n",
       "\n",
       "    .dataframe tbody tr th {\n",
       "        vertical-align: top;\n",
       "    }\n",
       "\n",
       "    .dataframe thead th {\n",
       "        text-align: right;\n",
       "    }\n",
       "</style>\n",
       "<table border=\"1\" class=\"dataframe\">\n",
       "  <thead>\n",
       "    <tr style=\"text-align: right;\">\n",
       "      <th></th>\n",
       "      <th>count</th>\n",
       "      <th>mean</th>\n",
       "      <th>std</th>\n",
       "      <th>min</th>\n",
       "      <th>25%</th>\n",
       "      <th>50%</th>\n",
       "      <th>75%</th>\n",
       "      <th>max</th>\n",
       "    </tr>\n",
       "    <tr>\n",
       "      <th>churn</th>\n",
       "      <th></th>\n",
       "      <th></th>\n",
       "      <th></th>\n",
       "      <th></th>\n",
       "      <th></th>\n",
       "      <th></th>\n",
       "      <th></th>\n",
       "      <th></th>\n",
       "    </tr>\n",
       "  </thead>\n",
       "  <tbody>\n",
       "    <tr>\n",
       "      <th>0</th>\n",
       "      <td>2939.0</td>\n",
       "      <td>158.445724</td>\n",
       "      <td>99.801582</td>\n",
       "      <td>0.171862</td>\n",
       "      <td>76.920994</td>\n",
       "      <td>149.881165</td>\n",
       "      <td>224.448273</td>\n",
       "      <td>552.590759</td>\n",
       "    </tr>\n",
       "    <tr>\n",
       "      <th>1</th>\n",
       "      <td>1061.0</td>\n",
       "      <td>115.082878</td>\n",
       "      <td>77.696396</td>\n",
       "      <td>0.148205</td>\n",
       "      <td>50.629128</td>\n",
       "      <td>103.814682</td>\n",
       "      <td>165.616852</td>\n",
       "      <td>425.535217</td>\n",
       "    </tr>\n",
       "  </tbody>\n",
       "</table>\n",
       "</div>"
      ],
      "text/plain": [
       "        count        mean        std       min        25%         50%  \\\n",
       "churn                                                                   \n",
       "0      2939.0  158.445724  99.801582  0.171862  76.920994  149.881165   \n",
       "1      1061.0  115.082878  77.696396  0.148205  50.629128  103.814682   \n",
       "\n",
       "              75%         max  \n",
       "churn                          \n",
       "0      224.448273  552.590759  \n",
       "1      165.616852  425.535217  "
      ]
     },
     "metadata": {},
     "output_type": "display_data"
    },
    {
     "data": {
      "image/png": "[encoded data removed]",
      "text/plain": [
       "<Figure size 1080x360 with 1 Axes>"
      ]
     },
     "metadata": {},
     "output_type": "display_data"
    },
    {
     "name": "stdout",
     "output_type": "stream",
     "text": [
      ">\u001b[1m Month_to_end_contract:\u001b[0m\n"
     ]
    },
    {
     "data": {
      "text/html": [
       "<div>\n",
       "<style scoped>\n",
       "    .dataframe tbody tr th:only-of-type {\n",
       "        vertical-align: middle;\n",
       "    }\n",
       "\n",
       "    .dataframe tbody tr th {\n",
       "        vertical-align: top;\n",
       "    }\n",
       "\n",
       "    .dataframe thead th {\n",
       "        text-align: right;\n",
       "    }\n",
       "</style>\n",
       "<table border=\"1\" class=\"dataframe\">\n",
       "  <thead>\n",
       "    <tr style=\"text-align: right;\">\n",
       "      <th></th>\n",
       "      <th>count</th>\n",
       "      <th>mean</th>\n",
       "      <th>std</th>\n",
       "      <th>min</th>\n",
       "      <th>25%</th>\n",
       "      <th>50%</th>\n",
       "      <th>75%</th>\n",
       "      <th>max</th>\n",
       "    </tr>\n",
       "    <tr>\n",
       "      <th>churn</th>\n",
       "      <th></th>\n",
       "      <th></th>\n",
       "      <th></th>\n",
       "      <th></th>\n",
       "      <th></th>\n",
       "      <th></th>\n",
       "      <th></th>\n",
       "      <th></th>\n",
       "    </tr>\n",
       "  </thead>\n",
       "  <tbody>\n",
       "    <tr>\n",
       "      <th>0</th>\n",
       "      <td>2939.0</td>\n",
       "      <td>5.283090</td>\n",
       "      <td>4.363534</td>\n",
       "      <td>1.0</td>\n",
       "      <td>1.0</td>\n",
       "      <td>6.0</td>\n",
       "      <td>10.0</td>\n",
       "      <td>12.0</td>\n",
       "    </tr>\n",
       "    <tr>\n",
       "      <th>1</th>\n",
       "      <td>1061.0</td>\n",
       "      <td>1.662583</td>\n",
       "      <td>1.964586</td>\n",
       "      <td>1.0</td>\n",
       "      <td>1.0</td>\n",
       "      <td>1.0</td>\n",
       "      <td>1.0</td>\n",
       "      <td>12.0</td>\n",
       "    </tr>\n",
       "  </tbody>\n",
       "</table>\n",
       "</div>"
      ],
      "text/plain": [
       "        count      mean       std  min  25%  50%   75%   max\n",
       "churn                                                       \n",
       "0      2939.0  5.283090  4.363534  1.0  1.0  6.0  10.0  12.0\n",
       "1      1061.0  1.662583  1.964586  1.0  1.0  1.0   1.0  12.0"
      ]
     },
     "metadata": {},
     "output_type": "display_data"
    },
    {
     "data": {
      "image/png": "[encoded data removed]",
      "text/plain": [
       "<Figure size 1080x360 with 1 Axes>"
      ]
     },
     "metadata": {},
     "output_type": "display_data"
    },
    {
     "name": "stdout",
     "output_type": "stream",
     "text": [
      ">\u001b[1m Lifetime:\u001b[0m\n"
     ]
    },
    {
     "data": {
      "text/html": [
       "<div>\n",
       "<style scoped>\n",
       "    .dataframe tbody tr th:only-of-type {\n",
       "        vertical-align: middle;\n",
       "    }\n",
       "\n",
       "    .dataframe tbody tr th {\n",
       "        vertical-align: top;\n",
       "    }\n",
       "\n",
       "    .dataframe thead th {\n",
       "        text-align: right;\n",
       "    }\n",
       "</style>\n",
       "<table border=\"1\" class=\"dataframe\">\n",
       "  <thead>\n",
       "    <tr style=\"text-align: right;\">\n",
       "      <th></th>\n",
       "      <th>count</th>\n",
       "      <th>mean</th>\n",
       "      <th>std</th>\n",
       "      <th>min</th>\n",
       "      <th>25%</th>\n",
       "      <th>50%</th>\n",
       "      <th>75%</th>\n",
       "      <th>max</th>\n",
       "    </tr>\n",
       "    <tr>\n",
       "      <th>churn</th>\n",
       "      <th></th>\n",
       "      <th></th>\n",
       "      <th></th>\n",
       "      <th></th>\n",
       "      <th></th>\n",
       "      <th></th>\n",
       "      <th></th>\n",
       "      <th></th>\n",
       "    </tr>\n",
       "  </thead>\n",
       "  <tbody>\n",
       "    <tr>\n",
       "      <th>0</th>\n",
       "      <td>2939.0</td>\n",
       "      <td>4.711807</td>\n",
       "      <td>3.874780</td>\n",
       "      <td>0.0</td>\n",
       "      <td>2.0</td>\n",
       "      <td>4.0</td>\n",
       "      <td>6.0</td>\n",
       "      <td>31.0</td>\n",
       "    </tr>\n",
       "    <tr>\n",
       "      <th>1</th>\n",
       "      <td>1061.0</td>\n",
       "      <td>0.990575</td>\n",
       "      <td>1.110799</td>\n",
       "      <td>0.0</td>\n",
       "      <td>0.0</td>\n",
       "      <td>1.0</td>\n",
       "      <td>1.0</td>\n",
       "      <td>9.0</td>\n",
       "    </tr>\n",
       "  </tbody>\n",
       "</table>\n",
       "</div>"
      ],
      "text/plain": [
       "        count      mean       std  min  25%  50%  75%   max\n",
       "churn                                                      \n",
       "0      2939.0  4.711807  3.874780  0.0  2.0  4.0  6.0  31.0\n",
       "1      1061.0  0.990575  1.110799  0.0  0.0  1.0  1.0   9.0"
      ]
     },
     "metadata": {},
     "output_type": "display_data"
    },
    {
     "data": {
      "image/png": "[encoded data removed]",
      "text/plain": [
       "<Figure size 1080x360 with 1 Axes>"
      ]
     },
     "metadata": {},
     "output_type": "display_data"
    },
    {
     "name": "stdout",
     "output_type": "stream",
     "text": [
      ">\u001b[1m Avg_class_frequency_total:\u001b[0m\n"
     ]
    },
    {
     "data": {
      "text/html": [
       "<div>\n",
       "<style scoped>\n",
       "    .dataframe tbody tr th:only-of-type {\n",
       "        vertical-align: middle;\n",
       "    }\n",
       "\n",
       "    .dataframe tbody tr th {\n",
       "        vertical-align: top;\n",
       "    }\n",
       "\n",
       "    .dataframe thead th {\n",
       "        text-align: right;\n",
       "    }\n",
       "</style>\n",
       "<table border=\"1\" class=\"dataframe\">\n",
       "  <thead>\n",
       "    <tr style=\"text-align: right;\">\n",
       "      <th></th>\n",
       "      <th>count</th>\n",
       "      <th>mean</th>\n",
       "      <th>std</th>\n",
       "      <th>min</th>\n",
       "      <th>25%</th>\n",
       "      <th>50%</th>\n",
       "      <th>75%</th>\n",
       "      <th>max</th>\n",
       "    </tr>\n",
       "    <tr>\n",
       "      <th>churn</th>\n",
       "      <th></th>\n",
       "      <th></th>\n",
       "      <th></th>\n",
       "      <th></th>\n",
       "      <th></th>\n",
       "      <th></th>\n",
       "      <th></th>\n",
       "      <th></th>\n",
       "    </tr>\n",
       "  </thead>\n",
       "  <tbody>\n",
       "    <tr>\n",
       "      <th>0</th>\n",
       "      <td>2939.0</td>\n",
       "      <td>2.024875</td>\n",
       "      <td>1.016007</td>\n",
       "      <td>0.0</td>\n",
       "      <td>1.283137</td>\n",
       "      <td>2.043252</td>\n",
       "      <td>2.732944</td>\n",
       "      <td>6.023668</td>\n",
       "    </tr>\n",
       "    <tr>\n",
       "      <th>1</th>\n",
       "      <td>1061.0</td>\n",
       "      <td>1.474995</td>\n",
       "      <td>0.694705</td>\n",
       "      <td>0.0</td>\n",
       "      <td>1.010771</td>\n",
       "      <td>1.491187</td>\n",
       "      <td>1.956438</td>\n",
       "      <td>3.478646</td>\n",
       "    </tr>\n",
       "  </tbody>\n",
       "</table>\n",
       "</div>"
      ],
      "text/plain": [
       "        count      mean       std  min       25%       50%       75%       max\n",
       "churn                                                                         \n",
       "0      2939.0  2.024875  1.016007  0.0  1.283137  2.043252  2.732944  6.023668\n",
       "1      1061.0  1.474995  0.694705  0.0  1.010771  1.491187  1.956438  3.478646"
      ]
     },
     "metadata": {},
     "output_type": "display_data"
    },
    {
     "data": {
      "image/png": "[encoded data removed]",
      "text/plain": [
       "<Figure size 1080x360 with 1 Axes>"
      ]
     },
     "metadata": {},
     "output_type": "display_data"
    },
    {
     "name": "stdout",
     "output_type": "stream",
     "text": [
      ">\u001b[1m Avg_class_frequency_current_month:\u001b[0m\n"
     ]
    },
    {
     "data": {
      "text/html": [
       "<div>\n",
       "<style scoped>\n",
       "    .dataframe tbody tr th:only-of-type {\n",
       "        vertical-align: middle;\n",
       "    }\n",
       "\n",
       "    .dataframe tbody tr th {\n",
       "        vertical-align: top;\n",
       "    }\n",
       "\n",
       "    .dataframe thead th {\n",
       "        text-align: right;\n",
       "    }\n",
       "</style>\n",
       "<table border=\"1\" class=\"dataframe\">\n",
       "  <thead>\n",
       "    <tr style=\"text-align: right;\">\n",
       "      <th></th>\n",
       "      <th>count</th>\n",
       "      <th>mean</th>\n",
       "      <th>std</th>\n",
       "      <th>min</th>\n",
       "      <th>25%</th>\n",
       "      <th>50%</th>\n",
       "      <th>75%</th>\n",
       "      <th>max</th>\n",
       "    </tr>\n",
       "    <tr>\n",
       "      <th>churn</th>\n",
       "      <th></th>\n",
       "      <th></th>\n",
       "      <th></th>\n",
       "      <th></th>\n",
       "      <th></th>\n",
       "      <th></th>\n",
       "      <th></th>\n",
       "      <th></th>\n",
       "    </tr>\n",
       "  </thead>\n",
       "  <tbody>\n",
       "    <tr>\n",
       "      <th>0</th>\n",
       "      <td>2939.0</td>\n",
       "      <td>2.027880</td>\n",
       "      <td>1.018994</td>\n",
       "      <td>0.0</td>\n",
       "      <td>1.297021</td>\n",
       "      <td>2.046697</td>\n",
       "      <td>2.740648</td>\n",
       "      <td>6.146783</td>\n",
       "    </tr>\n",
       "    <tr>\n",
       "      <th>1</th>\n",
       "      <td>1061.0</td>\n",
       "      <td>1.044546</td>\n",
       "      <td>0.770236</td>\n",
       "      <td>0.0</td>\n",
       "      <td>0.421337</td>\n",
       "      <td>0.979445</td>\n",
       "      <td>1.588576</td>\n",
       "      <td>3.540271</td>\n",
       "    </tr>\n",
       "  </tbody>\n",
       "</table>\n",
       "</div>"
      ],
      "text/plain": [
       "        count      mean       std  min       25%       50%       75%       max\n",
       "churn                                                                         \n",
       "0      2939.0  2.027880  1.018994  0.0  1.297021  2.046697  2.740648  6.146783\n",
       "1      1061.0  1.044546  0.770236  0.0  0.421337  0.979445  1.588576  3.540271"
      ]
     },
     "metadata": {},
     "output_type": "display_data"
    },
    {
     "data": {
      "image/png": "[encoded data removed]",
      "text/plain": [
       "<Figure size 1080x360 with 1 Axes>"
      ]
     },
     "metadata": {},
     "output_type": "display_data"
    }
   ],
   "source": [
    "for i in df.drop('churn',axis=1).columns.to_list():\n",
    "    print('>\\033[1m {:}:\\033[0m'.format(i.capitalize()))\n",
    "    display(feature_desc[i])\n",
    "    plt.figure(figsize=(15,5))\n",
    "    if i in mul_col:\n",
    "        sns.histplot(data=df, x=i, hue='churn',multiple=\"stack\", palette='tab10')\n",
    "    elif i in bin_col:\n",
    "        display(df.groupby(i)['churn'].mean().sort_values(ascending=False).apply(lambda x: '{:.1%}'.format(x))\n",
    "            .reset_index().rename(columns={'churn':'churn rate'}).T)\n",
    "        sns.countplot(data=df, x=i, hue='churn', palette='tab10')\n",
    "        plt.xticks((0,1))\n",
    "    plt.show()"
   ]
  },
  {
   "cell_type": "markdown",
   "metadata": {},
   "source": [
    "Lets summarize this mini-report:\n",
    "1. Once again, it seems that when it comes to the clients who left, there is indifference about the client's **gender**.\n",
    "1. The churn rate among costumers who **live or work nearby** is lower than among customers who don't.\n",
    "1. Customers who work for **partner companies** tend to leave less than those who do not. Same thing for costumers who registered by **\"Bring a Friend\"** promotion.\n",
    "1. Perhaps naturally, the churn rates decreases as the **registration period** lengthens, so that it has the highest among the customers who have registered for one month and the lowest among customers who have registered for a year.\n",
    "1. The churn rate exists almost exclusively among customers who have one **month left** until the end of the period. It exists very marginally for the rest of the months.\n",
    "1. The churn rates are also lower for those who attend **group classes**.\n",
    "1. Chrun is less likely to occure as the **age** of the costumer gets higher.\n",
    "1. The more months a client has been registered to the gym throughout his lifetime, the less likely he is to leave.\n",
    "1. The **average frequency** of visits per week, both in current month and in total, shows a slight difference between the customers who leave and those who stay, much less than I expected. Maybe the difference between the averages will have more impact?\n",
    "\n",
    "Before I answer my last question, I want to check the level of correlation between the features, both to get another picture of the effects on churn, and also to make sure that there is no high correlation between the other features that could harm the quality of the model, therfore the quality of my predictions."
   ]
  },
  {
   "cell_type": "markdown",
   "metadata": {},
   "source": [
    "### The story of the Correlation Matrix"
   ]
  },
  {
   "cell_type": "code",
   "execution_count": 13,
   "metadata": {
    "scrolled": false
   },
   "outputs": [
    {
     "data": {
      "image/png": "[encoded data removed]",
      "text/plain": [
       "<Figure size 1080x360 with 2 Axes>"
      ]
     },
     "metadata": {},
     "output_type": "display_data"
    }
   ],
   "source": [
    "plt.figure(figsize=(15,5))\n",
    "sns.heatmap(df.corr(),annot=True,cmap=\"icefire\",vmin=-1,vmax=1)\n",
    "plt.title('Correlation Heatmap')\n",
    "plt.show()"
   ]
  },
  {
   "cell_type": "markdown",
   "metadata": {},
   "source": [
    "The correlation matrix above shows the strength of the existing relationships between the variables and their direction (positive or negative). Of all the contexts presented in it, special importance should be attached to two specific types of contexts:\n",
    "\n",
    "#### Avoiding multi-correlation\n",
    "\n",
    "Before I examine the relationships between churn and other variables, it is necessary to address strong relationships between the variables and themselves in order to avoid multi-correlation.\n",
    "\n",
    "One very strong positive relationship (correlation coefficient of 0.95) exists between `avg_class_frequency_total` to `avg_class_frequency_current_month`. In order to fix it, first I must take a closer look on this relationship, and the affect on churn:"
   ]
  },
  {
   "cell_type": "code",
   "execution_count": 14,
   "metadata": {
    "scrolled": true
   },
   "outputs": [
    {
     "data": {
      "image/png": "[encoded data removed]",
      "text/plain": [
       "<Figure size 1080x360 with 1 Axes>"
      ]
     },
     "metadata": {},
     "output_type": "display_data"
    }
   ],
   "source": [
    "plt.figure(figsize=(15,5))\n",
    "sns.scatterplot(x=df['avg_class_frequency_current_month'],y=df['avg_class_frequency_total'],hue=df['churn'])\n",
    "plt.title('The ratio of total avg. frequency to avg. frequency in the current month:')\n",
    "plt.show()"
   ]
  },
  {
   "cell_type": "markdown",
   "metadata": {},
   "source": [
    "The chart above shows very clearly what is about the average frequency that affect the churn: costumers who tend to leave are **changing** their \"consumption habits\" in their last month at the gym. Therfore I will calculate a new column: `avg_class_frequency_gap` which will store in it the absolute difference (**the change**) between the average in total to the average of current month alone."
   ]
  },
  {
   "cell_type": "code",
   "execution_count": 15,
   "metadata": {},
   "outputs": [
    {
     "data": {
      "text/html": [
       "<div>\n",
       "<style scoped>\n",
       "    .dataframe tbody tr th:only-of-type {\n",
       "        vertical-align: middle;\n",
       "    }\n",
       "\n",
       "    .dataframe tbody tr th {\n",
       "        vertical-align: top;\n",
       "    }\n",
       "\n",
       "    .dataframe thead th {\n",
       "        text-align: right;\n",
       "    }\n",
       "</style>\n",
       "<table border=\"1\" class=\"dataframe\">\n",
       "  <thead>\n",
       "    <tr style=\"text-align: right;\">\n",
       "      <th></th>\n",
       "      <th>avg_class_frequency_total</th>\n",
       "      <th>avg_class_frequency_current_month</th>\n",
       "      <th>avg_class_frequency_gap</th>\n",
       "      <th>churn</th>\n",
       "    </tr>\n",
       "  </thead>\n",
       "  <tbody>\n",
       "    <tr>\n",
       "      <th>0</th>\n",
       "      <td>0.020398</td>\n",
       "      <td>0.000000</td>\n",
       "      <td>0.020398</td>\n",
       "      <td>0</td>\n",
       "    </tr>\n",
       "    <tr>\n",
       "      <th>1</th>\n",
       "      <td>1.922936</td>\n",
       "      <td>1.910244</td>\n",
       "      <td>0.012693</td>\n",
       "      <td>0</td>\n",
       "    </tr>\n",
       "    <tr>\n",
       "      <th>2</th>\n",
       "      <td>1.859098</td>\n",
       "      <td>1.736502</td>\n",
       "      <td>0.122596</td>\n",
       "      <td>0</td>\n",
       "    </tr>\n",
       "    <tr>\n",
       "      <th>3</th>\n",
       "      <td>3.205633</td>\n",
       "      <td>3.357214</td>\n",
       "      <td>0.151582</td>\n",
       "      <td>0</td>\n",
       "    </tr>\n",
       "    <tr>\n",
       "      <th>4</th>\n",
       "      <td>1.113884</td>\n",
       "      <td>1.120078</td>\n",
       "      <td>0.006194</td>\n",
       "      <td>0</td>\n",
       "    </tr>\n",
       "  </tbody>\n",
       "</table>\n",
       "</div>"
      ],
      "text/plain": [
       "   avg_class_frequency_total  avg_class_frequency_current_month  \\\n",
       "0                   0.020398                           0.000000   \n",
       "1                   1.922936                           1.910244   \n",
       "2                   1.859098                           1.736502   \n",
       "3                   3.205633                           3.357214   \n",
       "4                   1.113884                           1.120078   \n",
       "\n",
       "   avg_class_frequency_gap  churn  \n",
       "0                 0.020398      0  \n",
       "1                 0.012693      0  \n",
       "2                 0.122596      0  \n",
       "3                 0.151582      0  \n",
       "4                 0.006194      0  "
      ]
     },
     "execution_count": 15,
     "metadata": {},
     "output_type": "execute_result"
    }
   ],
   "source": [
    "df['avg_class_frequency_gap'] = abs(df['avg_class_frequency_total'] - df['avg_class_frequency_current_month'])\n",
    "df[['avg_class_frequency_total','avg_class_frequency_current_month','avg_class_frequency_gap','churn']].head()"
   ]
  },
  {
   "cell_type": "code",
   "execution_count": 16,
   "metadata": {},
   "outputs": [
    {
     "data": {
      "text/html": [
       "<div>\n",
       "<style scoped>\n",
       "    .dataframe tbody tr th:only-of-type {\n",
       "        vertical-align: middle;\n",
       "    }\n",
       "\n",
       "    .dataframe tbody tr th {\n",
       "        vertical-align: top;\n",
       "    }\n",
       "\n",
       "    .dataframe thead th {\n",
       "        text-align: right;\n",
       "    }\n",
       "</style>\n",
       "<table border=\"1\" class=\"dataframe\">\n",
       "  <thead>\n",
       "    <tr style=\"text-align: right;\">\n",
       "      <th></th>\n",
       "      <th>mean</th>\n",
       "      <th>std</th>\n",
       "    </tr>\n",
       "    <tr>\n",
       "      <th>churn</th>\n",
       "      <th></th>\n",
       "      <th></th>\n",
       "    </tr>\n",
       "  </thead>\n",
       "  <tbody>\n",
       "    <tr>\n",
       "      <th>0</th>\n",
       "      <td>0.079068</td>\n",
       "      <td>0.060834</td>\n",
       "    </tr>\n",
       "    <tr>\n",
       "      <th>1</th>\n",
       "      <td>0.523701</td>\n",
       "      <td>0.367125</td>\n",
       "    </tr>\n",
       "  </tbody>\n",
       "</table>\n",
       "</div>"
      ],
      "text/plain": [
       "           mean       std\n",
       "churn                    \n",
       "0      0.079068  0.060834\n",
       "1      0.523701  0.367125"
      ]
     },
     "execution_count": 16,
     "metadata": {},
     "output_type": "execute_result"
    }
   ],
   "source": [
    "df.groupby('churn')['avg_class_frequency_gap'].agg(['mean','std'])"
   ]
  },
  {
   "cell_type": "markdown",
   "metadata": {},
   "source": [
    "It is important to take into account that there is great importance to the number of times a trainee arrives even regardless of the gap between the last month, so I will also keep the `avg_class_frequency_total` column so I will keep all the data that is important to predict without risking multi-correlation."
   ]
  },
  {
   "cell_type": "markdown",
   "metadata": {},
   "source": [
    "Another very strong connection can be found between the contract period to `month_to_end_contract`, possibly due to the large amount of clients who chose one month contract period, and most of them have one month left."
   ]
  },
  {
   "cell_type": "code",
   "execution_count": 17,
   "metadata": {
    "scrolled": false
   },
   "outputs": [
    {
     "data": {
      "image/png": "[encoded data removed]",
      "text/plain": [
       "<Figure size 1080x360 with 1 Axes>"
      ]
     },
     "metadata": {},
     "output_type": "display_data"
    }
   ],
   "source": [
    "plt.figure(figsize=(15,5))\n",
    "sns.boxplot(x=df['contract_period'], y=df['month_to_end_contract'], hue=df['churn'])\n",
    "plt.title(\"Contract's periods and months to their end, by churn\")\n",
    "plt.show()"
   ]
  },
  {
   "cell_type": "markdown",
   "metadata": {},
   "source": [
    "It seems like most customers do not leave at the end of the subscription, but at the beginning of the period. Call it \"cold feet\". But this time, even if I calculate the relative time left from the contract period, it will not help me to avoid multi-correlation with the contract period for the same reason that it exists now - everyone who chose one-month period (the majority) has one more month left.\n",
    "\n",
    "Therefore, I choose to leave the feature `contract_period` only and remove `month_to_end_contract` completely."
   ]
  },
  {
   "cell_type": "markdown",
   "metadata": {},
   "source": [
    "### Final Features\n",
    "\n",
    "It's time to create a new data frame containing only the selected features.\n",
    "\n",
    "The following is a list of selected features:"
   ]
  },
  {
   "cell_type": "code",
   "execution_count": 18,
   "metadata": {},
   "outputs": [
    {
     "data": {
      "text/plain": [
       "['near_location',\n",
       " 'contract_period',\n",
       " 'group_visits',\n",
       " 'age',\n",
       " 'avg_additional_charges_total',\n",
       " 'lifetime',\n",
       " 'avg_class_frequency_total',\n",
       " 'churn',\n",
       " 'avg_class_frequency_gap']"
      ]
     },
     "execution_count": 18,
     "metadata": {},
     "output_type": "execute_result"
    }
   ],
   "source": [
    "mdf = df.drop(['gender','phone','month_to_end_contract','partner','promo_friends',\n",
    "               'avg_class_frequency_current_month'],\n",
    "              axis=1)\n",
    "mdf.columns.tolist()"
   ]
  },
  {
   "cell_type": "markdown",
   "metadata": {},
   "source": [
    "Now let's take a look at the matrix again, for the *Model Data Frame*:"
   ]
  },
  {
   "cell_type": "code",
   "execution_count": 19,
   "metadata": {},
   "outputs": [
    {
     "data": {
      "image/png": "[encoded data removed]",
      "text/plain": [
       "<Figure size 1080x360 with 2 Axes>"
      ]
     },
     "metadata": {},
     "output_type": "display_data"
    }
   ],
   "source": [
    "plt.figure(figsize=(15,5))\n",
    "sns.heatmap(mdf.corr(),annot=True,cmap=\"icefire\",vmin=-1,vmax=1)\n",
    "plt.title('Correlation Heatmap')\n",
    "plt.show()"
   ]
  },
  {
   "cell_type": "markdown",
   "metadata": {},
   "source": [
    "#### Correlation in relation to churn\n",
    "\n",
    "The table now contains shades of red and blue, indicating strong relationships between the variables, especially in the churn column and much less in the rest. This means we have managed to remove suspicion of multi-correlation, and more than that, we have stronger ties now for the `churn`."
   ]
  },
  {
   "cell_type": "markdown",
   "metadata": {},
   "source": [
    "---\n",
    "## ML model to predict users churn\n",
    "\n",
    "### Dividing the data into features and a target variable\n",
    "\n",
    "In the first step I will define `churn` as a type Y variable and the rest as a type X variables, because I want my model to test how a change in the features (the X's) is likely to affect a specipic user churn.\n",
    "\n",
    "I will then ask Python to randomly divide the data into control and test groups and adjust them so that they are identical in proportions."
   ]
  },
  {
   "cell_type": "code",
   "execution_count": 20,
   "metadata": {},
   "outputs": [],
   "source": [
    "from sklearn.model_selection import train_test_split\n",
    "from sklearn.preprocessing import StandardScaler\n",
    "from sklearn.linear_model import LogisticRegression\n",
    "from sklearn.ensemble import RandomForestClassifier, GradientBoostingClassifier\n",
    "from sklearn.metrics import confusion_matrix, classification_report\n",
    "from sklearn.metrics import accuracy_score, precision_score, recall_score, f1_score\n",
    "from sklearn.metrics import balanced_accuracy_score\n",
    "from sklearn.metrics import roc_auc_score, roc_curve, accuracy_score\n",
    "from sklearn.cluster import KMeans\n",
    "from scipy.cluster.hierarchy import dendrogram, linkage "
   ]
  },
  {
   "cell_type": "code",
   "execution_count": 21,
   "metadata": {},
   "outputs": [],
   "source": [
    "X = mdf.drop('churn',axis=1)\n",
    "y = mdf['churn']\n",
    "\n",
    "X_train, X_test, y_train, y_test = train_test_split(X, y, test_size=0.2, random_state=0)\n",
    "\n",
    "scaler = StandardScaler()\n",
    "scaler.fit(X_train)\n",
    "X_train_st = scaler.transform(X_train)\n",
    "X_test_st = scaler.transform(X_test)"
   ]
  },
  {
   "cell_type": "markdown",
   "metadata": {},
   "source": [
    "### Training Models and Selecting the Best One \n",
    "\n",
    "To get the best forecast, I will build a function that goes over three models that can suit to my type of prections:\n",
    "1. Random Forest\n",
    "1. Logistic Regression\n",
    "1. Gradient Boosting\n",
    "\n",
    "The function will print every measure metrics and a confusion matrix."
   ]
  },
  {
   "cell_type": "code",
   "execution_count": 22,
   "metadata": {},
   "outputs": [],
   "source": [
    "models = [RandomForestClassifier(random_state=0),\n",
    "          LogisticRegression(solver='liblinear', random_state = 0),\n",
    "          GradientBoostingClassifier(random_state = 0)]"
   ]
  },
  {
   "cell_type": "code",
   "execution_count": 23,
   "metadata": {},
   "outputs": [],
   "source": [
    "def print_all_metrics(y_true, y_pred, y_proba):\n",
    "    print('\\tAccuracy:          {:.2%}'.format(accuracy_score(y_true, y_pred)))\n",
    "    print('\\tPrecision:         {:.2%}'.format(precision_score(y_true, y_pred)))\n",
    "    print('\\tRecall:            {:.2%}'.format(recall_score(y_true, y_pred)))\n",
    "    print('\\tF1:                {:.2%}'.format(f1_score(y_true, y_pred)))"
   ]
  },
  {
   "cell_type": "code",
   "execution_count": 43,
   "metadata": {},
   "outputs": [],
   "source": [
    "def make_prediction(m, X_train, y_train, X_test, y_test):\n",
    "    model = m\n",
    "    model.fit(X_train, y_train)\n",
    "    y_pred = model.predict(X_test)\n",
    "    y_prob = model.predict_proba(X_test)[:,1]\n",
    "    sns.heatmap(pd.DataFrame(confusion_matrix(y_test,y_pred)),annot=True,fmt=',d', cbar=False)\n",
    "    plt.title('Confussion Matrix:')\n",
    "    plt.ylabel('True')\n",
    "    plt.xlabel('Prediction')\n",
    "    plt.show()\n",
    "    print_all_metrics(y_test, y_pred, y_prob)\n",
    "    print('{:-<50}'.format(''))"
   ]
  },
  {
   "cell_type": "code",
   "execution_count": 44,
   "metadata": {
    "scrolled": false
   },
   "outputs": [
    {
     "name": "stdout",
     "output_type": "stream",
     "text": [
      "RandomForestClassifier(random_state=0)\n"
     ]
    },
    {
     "data": {
      "image/png": "[encoded data removed]",
      "text/plain": [
       "<Figure size 432x288 with 1 Axes>"
      ]
     },
     "metadata": {},
     "output_type": "display_data"
    },
    {
     "name": "stdout",
     "output_type": "stream",
     "text": [
      "\tAccuracy:          96.00%\n",
      "\tPrecision:         92.78%\n",
      "\tRecall:            90.91%\n",
      "\tF1:                91.84%\n",
      "--------------------------------------------------\n",
      "LogisticRegression(random_state=0, solver='liblinear')\n"
     ]
    },
    {
     "data": {
      "image/png": "[encoded data removed]",
      "text/plain": [
       "<Figure size 432x288 with 1 Axes>"
      ]
     },
     "metadata": {},
     "output_type": "display_data"
    },
    {
     "name": "stdout",
     "output_type": "stream",
     "text": [
      "\tAccuracy:          96.75%\n",
      "\tPrecision:         94.33%\n",
      "\tRecall:            92.42%\n",
      "\tF1:                93.37%\n",
      "--------------------------------------------------\n",
      "GradientBoostingClassifier(random_state=0)\n"
     ]
    },
    {
     "data": {
      "image/png": "[encoded data removed]",
      "text/plain": [
       "<Figure size 432x288 with 1 Axes>"
      ]
     },
     "metadata": {},
     "output_type": "display_data"
    },
    {
     "name": "stdout",
     "output_type": "stream",
     "text": [
      "\tAccuracy:          96.12%\n",
      "\tPrecision:         92.39%\n",
      "\tRecall:            91.92%\n",
      "\tF1:                92.15%\n",
      "--------------------------------------------------\n"
     ]
    }
   ],
   "source": [
    "for i in models:\n",
    "    print(i)\n",
    "    make_prediction(i, X_train, y_train, X_test, y_test)"
   ]
  },
  {
   "cell_type": "markdown",
   "metadata": {},
   "source": [
    "I am choosing the model with the highest F1 score, a harmonizing metric that takes into account the balance between the metrics - ***Logistic Regression***.\n",
    "\n",
    "1. **Accuracy** - % of right predictions : **96.8%** $(\\frac{774}{800})$\n",
    "1. **Precision** - % of true churn out of predicted churn : **94.3%** $(\\frac{183}{194})$\n",
    "1. **Recall** - % of predicted churn out of true churn : **92.4%** $(\\frac{183}{198})$\n",
    "\n",
    "The *logistic regression* algorithm is leading in all the metrics on the rest."
   ]
  },
  {
   "cell_type": "markdown",
   "metadata": {},
   "source": [
    "---\n",
    "## User Clusters"
   ]
  },
  {
   "cell_type": "markdown",
   "metadata": {},
   "source": [
    "### Agglomerative hierarchical clustering"
   ]
  },
  {
   "cell_type": "code",
   "execution_count": 26,
   "metadata": {},
   "outputs": [],
   "source": [
    "scaler = StandardScaler()\n",
    "x_sc = scaler.fit_transform(mdf.drop(columns ='churn'))"
   ]
  },
  {
   "cell_type": "code",
   "execution_count": 27,
   "metadata": {},
   "outputs": [],
   "source": [
    "linked = linkage(x_sc, method = 'ward') "
   ]
  },
  {
   "cell_type": "code",
   "execution_count": 28,
   "metadata": {
    "scrolled": false
   },
   "outputs": [
    {
     "data": {
      "image/png": "[encoded data removed]",
      "text/plain": [
       "<Figure size 1080x720 with 1 Axes>"
      ]
     },
     "metadata": {},
     "output_type": "display_data"
    }
   ],
   "source": [
    "plt.figure(figsize=(15, 10))  \n",
    "dendrogram(linked, orientation='top',show_leaf_counts=True)\n",
    "plt.title('Hierarchical clustering dendrogram')\n",
    "plt.show()"
   ]
  },
  {
   "cell_type": "markdown",
   "metadata": {},
   "source": [
    "The graph above shows that the gym's clients can be divided into four clusters, hence four colors, but on closer inspection, when examining the distances between the intersections, the large distances show an almost forced connection between the clusters. Therfore I will add one more cluster when I check out the K-MEANS."
   ]
  },
  {
   "cell_type": "markdown",
   "metadata": {},
   "source": [
    "### K-means\n",
    "Now let's run the K-means algorithm, when the number of clusters is five, then I will group the costumers by their cluster and inspect the mean of each feature for each cluster."
   ]
  },
  {
   "cell_type": "code",
   "execution_count": 29,
   "metadata": {},
   "outputs": [
    {
     "data": {
      "text/html": [
       "<div>\n",
       "<style scoped>\n",
       "    .dataframe tbody tr th:only-of-type {\n",
       "        vertical-align: middle;\n",
       "    }\n",
       "\n",
       "    .dataframe tbody tr th {\n",
       "        vertical-align: top;\n",
       "    }\n",
       "\n",
       "    .dataframe thead th {\n",
       "        text-align: right;\n",
       "    }\n",
       "</style>\n",
       "<table border=\"1\" class=\"dataframe\">\n",
       "  <thead>\n",
       "    <tr style=\"text-align: right;\">\n",
       "      <th></th>\n",
       "      <th>near_location</th>\n",
       "      <th>contract_period</th>\n",
       "      <th>group_visits</th>\n",
       "      <th>age</th>\n",
       "      <th>avg_additional_charges_total</th>\n",
       "      <th>lifetime</th>\n",
       "      <th>avg_class_frequency_total</th>\n",
       "      <th>churn</th>\n",
       "      <th>avg_class_frequency_gap</th>\n",
       "    </tr>\n",
       "    <tr>\n",
       "      <th>cluster</th>\n",
       "      <th></th>\n",
       "      <th></th>\n",
       "      <th></th>\n",
       "      <th></th>\n",
       "      <th></th>\n",
       "      <th></th>\n",
       "      <th></th>\n",
       "      <th></th>\n",
       "      <th></th>\n",
       "    </tr>\n",
       "  </thead>\n",
       "  <tbody>\n",
       "    <tr>\n",
       "      <th>0</th>\n",
       "      <td>0.996629</td>\n",
       "      <td>12.000000</td>\n",
       "      <td>0.559551</td>\n",
       "      <td>29.876404</td>\n",
       "      <td>164.408340</td>\n",
       "      <td>4.712360</td>\n",
       "      <td>2.017767</td>\n",
       "      <td>0.013483</td>\n",
       "      <td>0.083326</td>\n",
       "    </tr>\n",
       "    <tr>\n",
       "      <th>1</th>\n",
       "      <td>0.899807</td>\n",
       "      <td>1.730250</td>\n",
       "      <td>0.281310</td>\n",
       "      <td>26.400771</td>\n",
       "      <td>106.794952</td>\n",
       "      <td>1.017341</td>\n",
       "      <td>1.551058</td>\n",
       "      <td>1.000000</td>\n",
       "      <td>0.792480</td>\n",
       "    </tr>\n",
       "    <tr>\n",
       "      <th>2</th>\n",
       "      <td>0.000000</td>\n",
       "      <td>3.173759</td>\n",
       "      <td>0.237589</td>\n",
       "      <td>28.966312</td>\n",
       "      <td>141.441147</td>\n",
       "      <td>3.239362</td>\n",
       "      <td>1.787574</td>\n",
       "      <td>0.343972</td>\n",
       "      <td>0.179002</td>\n",
       "    </tr>\n",
       "    <tr>\n",
       "      <th>3</th>\n",
       "      <td>1.000000</td>\n",
       "      <td>2.836969</td>\n",
       "      <td>1.000000</td>\n",
       "      <td>29.888634</td>\n",
       "      <td>150.885864</td>\n",
       "      <td>4.235362</td>\n",
       "      <td>1.979064</td>\n",
       "      <td>0.112514</td>\n",
       "      <td>0.096690</td>\n",
       "    </tr>\n",
       "    <tr>\n",
       "      <th>4</th>\n",
       "      <td>1.000000</td>\n",
       "      <td>2.496540</td>\n",
       "      <td>0.000000</td>\n",
       "      <td>29.476644</td>\n",
       "      <td>151.237457</td>\n",
       "      <td>4.032007</td>\n",
       "      <td>1.888677</td>\n",
       "      <td>0.205882</td>\n",
       "      <td>0.101553</td>\n",
       "    </tr>\n",
       "  </tbody>\n",
       "</table>\n",
       "</div>"
      ],
      "text/plain": [
       "         near_location  contract_period  group_visits        age  \\\n",
       "cluster                                                            \n",
       "0             0.996629        12.000000      0.559551  29.876404   \n",
       "1             0.899807         1.730250      0.281310  26.400771   \n",
       "2             0.000000         3.173759      0.237589  28.966312   \n",
       "3             1.000000         2.836969      1.000000  29.888634   \n",
       "4             1.000000         2.496540      0.000000  29.476644   \n",
       "\n",
       "         avg_additional_charges_total  lifetime  avg_class_frequency_total  \\\n",
       "cluster                                                                      \n",
       "0                          164.408340  4.712360                   2.017767   \n",
       "1                          106.794952  1.017341                   1.551058   \n",
       "2                          141.441147  3.239362                   1.787574   \n",
       "3                          150.885864  4.235362                   1.979064   \n",
       "4                          151.237457  4.032007                   1.888677   \n",
       "\n",
       "            churn  avg_class_frequency_gap  \n",
       "cluster                                     \n",
       "0        0.013483                 0.083326  \n",
       "1        1.000000                 0.792480  \n",
       "2        0.343972                 0.179002  \n",
       "3        0.112514                 0.096690  \n",
       "4        0.205882                 0.101553  "
      ]
     },
     "execution_count": 29,
     "metadata": {},
     "output_type": "execute_result"
    }
   ],
   "source": [
    "km = KMeans(n_clusters = 5, random_state=0)\n",
    "labels = km.fit_predict(x_sc)\n",
    "mdf['cluster'] = labels\n",
    "\n",
    "cluster_means = mdf.groupby('cluster').mean()\n",
    "cluster_means"
   ]
  },
  {
   "cell_type": "markdown",
   "metadata": {},
   "source": [
    "I can already detect some differences in the clusters means, but in order to get the full picture I will present them like this:"
   ]
  },
  {
   "cell_type": "code",
   "execution_count": 30,
   "metadata": {
    "scrolled": false
   },
   "outputs": [
    {
     "name": "stdout",
     "output_type": "stream",
     "text": [
      ">\u001b[1m Near_location:\u001b[0m\n"
     ]
    },
    {
     "data": {
      "text/html": [
       "<div>\n",
       "<style scoped>\n",
       "    .dataframe tbody tr th:only-of-type {\n",
       "        vertical-align: middle;\n",
       "    }\n",
       "\n",
       "    .dataframe tbody tr th {\n",
       "        vertical-align: top;\n",
       "    }\n",
       "\n",
       "    .dataframe thead th {\n",
       "        text-align: right;\n",
       "    }\n",
       "</style>\n",
       "<table border=\"1\" class=\"dataframe\">\n",
       "  <thead>\n",
       "    <tr style=\"text-align: right;\">\n",
       "      <th></th>\n",
       "      <th>0</th>\n",
       "      <th>1</th>\n",
       "      <th>2</th>\n",
       "      <th>3</th>\n",
       "      <th>4</th>\n",
       "    </tr>\n",
       "  </thead>\n",
       "  <tbody>\n",
       "    <tr>\n",
       "      <th>Cluster</th>\n",
       "      <td>0.000000</td>\n",
       "      <td>1.000000</td>\n",
       "      <td>2.0</td>\n",
       "      <td>3.0</td>\n",
       "      <td>4.0</td>\n",
       "    </tr>\n",
       "    <tr>\n",
       "      <th>Mean</th>\n",
       "      <td>0.996629</td>\n",
       "      <td>0.899807</td>\n",
       "      <td>0.0</td>\n",
       "      <td>1.0</td>\n",
       "      <td>1.0</td>\n",
       "    </tr>\n",
       "  </tbody>\n",
       "</table>\n",
       "</div>"
      ],
      "text/plain": [
       "                0         1    2    3    4\n",
       "Cluster  0.000000  1.000000  2.0  3.0  4.0\n",
       "Mean     0.996629  0.899807  0.0  1.0  1.0"
      ]
     },
     "metadata": {},
     "output_type": "display_data"
    },
    {
     "data": {
      "image/png": "[encoded data removed]",
      "text/plain": [
       "<Figure size 1080x360 with 1 Axes>"
      ]
     },
     "metadata": {},
     "output_type": "display_data"
    },
    {
     "name": "stdout",
     "output_type": "stream",
     "text": [
      ">\u001b[1m Contract_period:\u001b[0m\n"
     ]
    },
    {
     "data": {
      "text/html": [
       "<div>\n",
       "<style scoped>\n",
       "    .dataframe tbody tr th:only-of-type {\n",
       "        vertical-align: middle;\n",
       "    }\n",
       "\n",
       "    .dataframe tbody tr th {\n",
       "        vertical-align: top;\n",
       "    }\n",
       "\n",
       "    .dataframe thead th {\n",
       "        text-align: right;\n",
       "    }\n",
       "</style>\n",
       "<table border=\"1\" class=\"dataframe\">\n",
       "  <thead>\n",
       "    <tr style=\"text-align: right;\">\n",
       "      <th></th>\n",
       "      <th>0</th>\n",
       "      <th>1</th>\n",
       "      <th>2</th>\n",
       "      <th>3</th>\n",
       "      <th>4</th>\n",
       "    </tr>\n",
       "  </thead>\n",
       "  <tbody>\n",
       "    <tr>\n",
       "      <th>Cluster</th>\n",
       "      <td>0.0</td>\n",
       "      <td>1.00000</td>\n",
       "      <td>2.000000</td>\n",
       "      <td>3.000000</td>\n",
       "      <td>4.00000</td>\n",
       "    </tr>\n",
       "    <tr>\n",
       "      <th>Mean</th>\n",
       "      <td>12.0</td>\n",
       "      <td>1.73025</td>\n",
       "      <td>3.173759</td>\n",
       "      <td>2.836969</td>\n",
       "      <td>2.49654</td>\n",
       "    </tr>\n",
       "  </tbody>\n",
       "</table>\n",
       "</div>"
      ],
      "text/plain": [
       "            0        1         2         3        4\n",
       "Cluster   0.0  1.00000  2.000000  3.000000  4.00000\n",
       "Mean     12.0  1.73025  3.173759  2.836969  2.49654"
      ]
     },
     "metadata": {},
     "output_type": "display_data"
    },
    {
     "data": {
      "image/png": "[encoded data removed]",
      "text/plain": [
       "<Figure size 1080x360 with 1 Axes>"
      ]
     },
     "metadata": {},
     "output_type": "display_data"
    },
    {
     "name": "stdout",
     "output_type": "stream",
     "text": [
      ">\u001b[1m Group_visits:\u001b[0m\n"
     ]
    },
    {
     "data": {
      "text/html": [
       "<div>\n",
       "<style scoped>\n",
       "    .dataframe tbody tr th:only-of-type {\n",
       "        vertical-align: middle;\n",
       "    }\n",
       "\n",
       "    .dataframe tbody tr th {\n",
       "        vertical-align: top;\n",
       "    }\n",
       "\n",
       "    .dataframe thead th {\n",
       "        text-align: right;\n",
       "    }\n",
       "</style>\n",
       "<table border=\"1\" class=\"dataframe\">\n",
       "  <thead>\n",
       "    <tr style=\"text-align: right;\">\n",
       "      <th></th>\n",
       "      <th>0</th>\n",
       "      <th>1</th>\n",
       "      <th>2</th>\n",
       "      <th>3</th>\n",
       "      <th>4</th>\n",
       "    </tr>\n",
       "  </thead>\n",
       "  <tbody>\n",
       "    <tr>\n",
       "      <th>Cluster</th>\n",
       "      <td>0.000000</td>\n",
       "      <td>1.00000</td>\n",
       "      <td>2.000000</td>\n",
       "      <td>3.0</td>\n",
       "      <td>4.0</td>\n",
       "    </tr>\n",
       "    <tr>\n",
       "      <th>Mean</th>\n",
       "      <td>0.559551</td>\n",
       "      <td>0.28131</td>\n",
       "      <td>0.237589</td>\n",
       "      <td>1.0</td>\n",
       "      <td>0.0</td>\n",
       "    </tr>\n",
       "  </tbody>\n",
       "</table>\n",
       "</div>"
      ],
      "text/plain": [
       "                0        1         2    3    4\n",
       "Cluster  0.000000  1.00000  2.000000  3.0  4.0\n",
       "Mean     0.559551  0.28131  0.237589  1.0  0.0"
      ]
     },
     "metadata": {},
     "output_type": "display_data"
    },
    {
     "data": {
      "image/png": "[encoded data removed]",
      "text/plain": [
       "<Figure size 1080x360 with 1 Axes>"
      ]
     },
     "metadata": {},
     "output_type": "display_data"
    },
    {
     "name": "stdout",
     "output_type": "stream",
     "text": [
      ">\u001b[1m Age:\u001b[0m\n"
     ]
    },
    {
     "data": {
      "text/html": [
       "<div>\n",
       "<style scoped>\n",
       "    .dataframe tbody tr th:only-of-type {\n",
       "        vertical-align: middle;\n",
       "    }\n",
       "\n",
       "    .dataframe tbody tr th {\n",
       "        vertical-align: top;\n",
       "    }\n",
       "\n",
       "    .dataframe thead th {\n",
       "        text-align: right;\n",
       "    }\n",
       "</style>\n",
       "<table border=\"1\" class=\"dataframe\">\n",
       "  <thead>\n",
       "    <tr style=\"text-align: right;\">\n",
       "      <th></th>\n",
       "      <th>0</th>\n",
       "      <th>1</th>\n",
       "      <th>2</th>\n",
       "      <th>3</th>\n",
       "      <th>4</th>\n",
       "    </tr>\n",
       "  </thead>\n",
       "  <tbody>\n",
       "    <tr>\n",
       "      <th>Cluster</th>\n",
       "      <td>0.000000</td>\n",
       "      <td>1.000000</td>\n",
       "      <td>2.000000</td>\n",
       "      <td>3.000000</td>\n",
       "      <td>4.000000</td>\n",
       "    </tr>\n",
       "    <tr>\n",
       "      <th>Mean</th>\n",
       "      <td>29.876404</td>\n",
       "      <td>26.400771</td>\n",
       "      <td>28.966312</td>\n",
       "      <td>29.888634</td>\n",
       "      <td>29.476644</td>\n",
       "    </tr>\n",
       "  </tbody>\n",
       "</table>\n",
       "</div>"
      ],
      "text/plain": [
       "                 0          1          2          3          4\n",
       "Cluster   0.000000   1.000000   2.000000   3.000000   4.000000\n",
       "Mean     29.876404  26.400771  28.966312  29.888634  29.476644"
      ]
     },
     "metadata": {},
     "output_type": "display_data"
    },
    {
     "data": {
      "image/png": "[encoded data removed]",
      "text/plain": [
       "<Figure size 1080x360 with 1 Axes>"
      ]
     },
     "metadata": {},
     "output_type": "display_data"
    },
    {
     "name": "stdout",
     "output_type": "stream",
     "text": [
      ">\u001b[1m Avg_additional_charges_total:\u001b[0m\n"
     ]
    },
    {
     "data": {
      "text/html": [
       "<div>\n",
       "<style scoped>\n",
       "    .dataframe tbody tr th:only-of-type {\n",
       "        vertical-align: middle;\n",
       "    }\n",
       "\n",
       "    .dataframe tbody tr th {\n",
       "        vertical-align: top;\n",
       "    }\n",
       "\n",
       "    .dataframe thead th {\n",
       "        text-align: right;\n",
       "    }\n",
       "</style>\n",
       "<table border=\"1\" class=\"dataframe\">\n",
       "  <thead>\n",
       "    <tr style=\"text-align: right;\">\n",
       "      <th></th>\n",
       "      <th>0</th>\n",
       "      <th>1</th>\n",
       "      <th>2</th>\n",
       "      <th>3</th>\n",
       "      <th>4</th>\n",
       "    </tr>\n",
       "  </thead>\n",
       "  <tbody>\n",
       "    <tr>\n",
       "      <th>Cluster</th>\n",
       "      <td>0.00000</td>\n",
       "      <td>1.000000</td>\n",
       "      <td>2.000000</td>\n",
       "      <td>3.000000</td>\n",
       "      <td>4.000000</td>\n",
       "    </tr>\n",
       "    <tr>\n",
       "      <th>Mean</th>\n",
       "      <td>164.40834</td>\n",
       "      <td>106.794952</td>\n",
       "      <td>141.441147</td>\n",
       "      <td>150.885864</td>\n",
       "      <td>151.237457</td>\n",
       "    </tr>\n",
       "  </tbody>\n",
       "</table>\n",
       "</div>"
      ],
      "text/plain": [
       "                 0           1           2           3           4\n",
       "Cluster    0.00000    1.000000    2.000000    3.000000    4.000000\n",
       "Mean     164.40834  106.794952  141.441147  150.885864  151.237457"
      ]
     },
     "metadata": {},
     "output_type": "display_data"
    },
    {
     "data": {
      "image/png": "[encoded data removed]",
      "text/plain": [
       "<Figure size 1080x360 with 1 Axes>"
      ]
     },
     "metadata": {},
     "output_type": "display_data"
    },
    {
     "name": "stdout",
     "output_type": "stream",
     "text": [
      ">\u001b[1m Lifetime:\u001b[0m\n"
     ]
    },
    {
     "data": {
      "text/html": [
       "<div>\n",
       "<style scoped>\n",
       "    .dataframe tbody tr th:only-of-type {\n",
       "        vertical-align: middle;\n",
       "    }\n",
       "\n",
       "    .dataframe tbody tr th {\n",
       "        vertical-align: top;\n",
       "    }\n",
       "\n",
       "    .dataframe thead th {\n",
       "        text-align: right;\n",
       "    }\n",
       "</style>\n",
       "<table border=\"1\" class=\"dataframe\">\n",
       "  <thead>\n",
       "    <tr style=\"text-align: right;\">\n",
       "      <th></th>\n",
       "      <th>0</th>\n",
       "      <th>1</th>\n",
       "      <th>2</th>\n",
       "      <th>3</th>\n",
       "      <th>4</th>\n",
       "    </tr>\n",
       "  </thead>\n",
       "  <tbody>\n",
       "    <tr>\n",
       "      <th>Cluster</th>\n",
       "      <td>0.00000</td>\n",
       "      <td>1.000000</td>\n",
       "      <td>2.000000</td>\n",
       "      <td>3.000000</td>\n",
       "      <td>4.000000</td>\n",
       "    </tr>\n",
       "    <tr>\n",
       "      <th>Mean</th>\n",
       "      <td>4.71236</td>\n",
       "      <td>1.017341</td>\n",
       "      <td>3.239362</td>\n",
       "      <td>4.235362</td>\n",
       "      <td>4.032007</td>\n",
       "    </tr>\n",
       "  </tbody>\n",
       "</table>\n",
       "</div>"
      ],
      "text/plain": [
       "               0         1         2         3         4\n",
       "Cluster  0.00000  1.000000  2.000000  3.000000  4.000000\n",
       "Mean     4.71236  1.017341  3.239362  4.235362  4.032007"
      ]
     },
     "metadata": {},
     "output_type": "display_data"
    },
    {
     "data": {
      "image/png": "[encoded data removed]",
      "text/plain": [
       "<Figure size 1080x360 with 1 Axes>"
      ]
     },
     "metadata": {},
     "output_type": "display_data"
    },
    {
     "name": "stdout",
     "output_type": "stream",
     "text": [
      ">\u001b[1m Avg_class_frequency_total:\u001b[0m\n"
     ]
    },
    {
     "data": {
      "text/html": [
       "<div>\n",
       "<style scoped>\n",
       "    .dataframe tbody tr th:only-of-type {\n",
       "        vertical-align: middle;\n",
       "    }\n",
       "\n",
       "    .dataframe tbody tr th {\n",
       "        vertical-align: top;\n",
       "    }\n",
       "\n",
       "    .dataframe thead th {\n",
       "        text-align: right;\n",
       "    }\n",
       "</style>\n",
       "<table border=\"1\" class=\"dataframe\">\n",
       "  <thead>\n",
       "    <tr style=\"text-align: right;\">\n",
       "      <th></th>\n",
       "      <th>0</th>\n",
       "      <th>1</th>\n",
       "      <th>2</th>\n",
       "      <th>3</th>\n",
       "      <th>4</th>\n",
       "    </tr>\n",
       "  </thead>\n",
       "  <tbody>\n",
       "    <tr>\n",
       "      <th>Cluster</th>\n",
       "      <td>0.000000</td>\n",
       "      <td>1.000000</td>\n",
       "      <td>2.000000</td>\n",
       "      <td>3.000000</td>\n",
       "      <td>4.000000</td>\n",
       "    </tr>\n",
       "    <tr>\n",
       "      <th>Mean</th>\n",
       "      <td>2.017767</td>\n",
       "      <td>1.551058</td>\n",
       "      <td>1.787574</td>\n",
       "      <td>1.979064</td>\n",
       "      <td>1.888677</td>\n",
       "    </tr>\n",
       "  </tbody>\n",
       "</table>\n",
       "</div>"
      ],
      "text/plain": [
       "                0         1         2         3         4\n",
       "Cluster  0.000000  1.000000  2.000000  3.000000  4.000000\n",
       "Mean     2.017767  1.551058  1.787574  1.979064  1.888677"
      ]
     },
     "metadata": {},
     "output_type": "display_data"
    },
    {
     "data": {
      "image/png": "[encoded data removed]",
      "text/plain": [
       "<Figure size 1080x360 with 1 Axes>"
      ]
     },
     "metadata": {},
     "output_type": "display_data"
    },
    {
     "name": "stdout",
     "output_type": "stream",
     "text": [
      ">\u001b[1m Churn:\u001b[0m\n"
     ]
    },
    {
     "data": {
      "text/html": [
       "<div>\n",
       "<style scoped>\n",
       "    .dataframe tbody tr th:only-of-type {\n",
       "        vertical-align: middle;\n",
       "    }\n",
       "\n",
       "    .dataframe tbody tr th {\n",
       "        vertical-align: top;\n",
       "    }\n",
       "\n",
       "    .dataframe thead th {\n",
       "        text-align: right;\n",
       "    }\n",
       "</style>\n",
       "<table border=\"1\" class=\"dataframe\">\n",
       "  <thead>\n",
       "    <tr style=\"text-align: right;\">\n",
       "      <th></th>\n",
       "      <th>0</th>\n",
       "      <th>1</th>\n",
       "      <th>2</th>\n",
       "      <th>3</th>\n",
       "      <th>4</th>\n",
       "    </tr>\n",
       "  </thead>\n",
       "  <tbody>\n",
       "    <tr>\n",
       "      <th>Cluster</th>\n",
       "      <td>0.000000</td>\n",
       "      <td>1.0</td>\n",
       "      <td>2.000000</td>\n",
       "      <td>3.000000</td>\n",
       "      <td>4.000000</td>\n",
       "    </tr>\n",
       "    <tr>\n",
       "      <th>Mean</th>\n",
       "      <td>0.013483</td>\n",
       "      <td>1.0</td>\n",
       "      <td>0.343972</td>\n",
       "      <td>0.112514</td>\n",
       "      <td>0.205882</td>\n",
       "    </tr>\n",
       "  </tbody>\n",
       "</table>\n",
       "</div>"
      ],
      "text/plain": [
       "                0    1         2         3         4\n",
       "Cluster  0.000000  1.0  2.000000  3.000000  4.000000\n",
       "Mean     0.013483  1.0  0.343972  0.112514  0.205882"
      ]
     },
     "metadata": {},
     "output_type": "display_data"
    },
    {
     "data": {
      "image/png": "[encoded data removed]",
      "text/plain": [
       "<Figure size 1080x360 with 1 Axes>"
      ]
     },
     "metadata": {},
     "output_type": "display_data"
    },
    {
     "name": "stdout",
     "output_type": "stream",
     "text": [
      ">\u001b[1m Avg_class_frequency_gap:\u001b[0m\n"
     ]
    },
    {
     "data": {
      "text/html": [
       "<div>\n",
       "<style scoped>\n",
       "    .dataframe tbody tr th:only-of-type {\n",
       "        vertical-align: middle;\n",
       "    }\n",
       "\n",
       "    .dataframe tbody tr th {\n",
       "        vertical-align: top;\n",
       "    }\n",
       "\n",
       "    .dataframe thead th {\n",
       "        text-align: right;\n",
       "    }\n",
       "</style>\n",
       "<table border=\"1\" class=\"dataframe\">\n",
       "  <thead>\n",
       "    <tr style=\"text-align: right;\">\n",
       "      <th></th>\n",
       "      <th>0</th>\n",
       "      <th>1</th>\n",
       "      <th>2</th>\n",
       "      <th>3</th>\n",
       "      <th>4</th>\n",
       "    </tr>\n",
       "  </thead>\n",
       "  <tbody>\n",
       "    <tr>\n",
       "      <th>Cluster</th>\n",
       "      <td>0.000000</td>\n",
       "      <td>1.00000</td>\n",
       "      <td>2.000000</td>\n",
       "      <td>3.00000</td>\n",
       "      <td>4.000000</td>\n",
       "    </tr>\n",
       "    <tr>\n",
       "      <th>Mean</th>\n",
       "      <td>0.083326</td>\n",
       "      <td>0.79248</td>\n",
       "      <td>0.179002</td>\n",
       "      <td>0.09669</td>\n",
       "      <td>0.101553</td>\n",
       "    </tr>\n",
       "  </tbody>\n",
       "</table>\n",
       "</div>"
      ],
      "text/plain": [
       "                0        1         2        3         4\n",
       "Cluster  0.000000  1.00000  2.000000  3.00000  4.000000\n",
       "Mean     0.083326  0.79248  0.179002  0.09669  0.101553"
      ]
     },
     "metadata": {},
     "output_type": "display_data"
    },
    {
     "data": {
      "text/plain": [
       "<Figure size 1080x360 with 0 Axes>"
      ]
     },
     "metadata": {},
     "output_type": "display_data"
    }
   ],
   "source": [
    "for i in mdf.drop('cluster',axis=1).columns.to_list():\n",
    "    print('>\\033[1m {:}:\\033[0m'.format(i.capitalize()))\n",
    "    plt.figure(figsize=(15,5))\n",
    "    display(cluster_means[i].reset_index().rename(columns={'cluster':'Cluster',i:'Mean'}).T)\n",
    "    if i in mul_col:\n",
    "        sns.histplot(data=mdf, x=i, hue='cluster',multiple=\"stack\", palette='tab10')\n",
    "    if i in bin_col or i=='churn':\n",
    "        sns.countplot(data=mdf, x=i, hue='cluster', palette='tab10')\n",
    "        plt.xticks((0,1))\n",
    "    plt.show()"
   ]
  },
  {
   "cell_type": "markdown",
   "metadata": {},
   "source": [
    "Before I am drawing mu conclusions, let's give our clustering a score. a **silhouette score**."
   ]
  },
  {
   "cell_type": "code",
   "execution_count": 31,
   "metadata": {},
   "outputs": [
    {
     "name": "stdout",
     "output_type": "stream",
     "text": [
      "Silhouette score: 0.18\n"
     ]
    }
   ],
   "source": [
    "from sklearn.metrics import silhouette_score\n",
    "\n",
    "print('Silhouette score: {:.2f}'.format(silhouette_score(x_sc, labels)))"
   ]
  },
  {
   "cell_type": "markdown",
   "metadata": {},
   "source": [
    "We got a score of 0.18. It is far from -1 which means it is not bad, but it also too far from 1 to be considered as good.\n",
    "\n",
    "**Clustering Summary:**\n",
    "The segmantation of the clients and their division into cluster was not really successful, but given the homogeneity of the gym's clients (they are all fitness enthusiasts and have a lot in common thanks to this connection) I have to consider what differentiates them nonetheless:\n",
    "* Cluster 0: **Long-runners**. They sign up for 12 months periods, they come to the gym more often and spend more on average on other gym services.\n",
    "* Cluster 1: **Indecisives**. They are relativly younger and most of them are new costumers, they sign for short periods and they have large gaps in the average number of weekly workouts.\n",
    "* Cluster 2: **Those who come from afar**.\n",
    "* Cluster 3: **Team-workers**. They tend to join more than the rest to group classes.\n",
    "* Cluster 4: **Loners**. They tend not to join to group classes at all.\n",
    "\n",
    "As I mentioned earlier, the best metric the data offers us for customer churn is the interval between the overall weekly training average and that of the last month. So it's not surprising that Cluster 1, the Indecisives, is the only one with 100% churn rate."
   ]
  },
  {
   "cell_type": "markdown",
   "metadata": {},
   "source": [
    "---\n",
    "## Overall Conclusions\n",
    "\n",
    "After an in-depth analysis of the data I found that it is possible to differentiate between the clients of our gym mainly by changes in the average number of their weekly workouts: Those who are consistent tend to leave less than those who fundamentally change the number of workouts.\n",
    "\n",
    "With the help of this interval calculation and the addition of additional key metrics, I was able to produce a very good forecast model to predict churn for any costumer. I have chose the algorithm that displayed the best results: Logistic Regression. It provides preditions with accuracy of 96.8%.\n",
    "\n",
    "As for costumer clustering, althogh our clients are pretty much homogeneous, I have manage to divide them into 5 clusters. Unsurprisingly, the cluster in which everyone leaves the gym has been named as \"the indecisive\".\n",
    "\n",
    "### Recommendations\n",
    "\n",
    "Given the conclusions above, the gym chain must put some extra efforts in order to convert \"indecisives\" into \"long-runners\". We should concider some kind of incentive for long time period contracts and also for group classes. We need to think of as many ways as possible to deepen the clients involvement in the gym's activities - an involved client is a loyal client."
   ]
  }
 ],
 "metadata": {
  "ExecuteTimeLog": [
   {
    "duration": 404,
    "start_time": "2022-03-17T22:01:19.302Z"
   },
   {
    "duration": 291,
    "start_time": "2022-03-17T22:02:01.644Z"
   },
   {
    "duration": 21,
    "start_time": "2022-03-17T22:02:05.691Z"
   },
   {
    "duration": 44,
    "start_time": "2022-03-17T22:03:28.190Z"
   },
   {
    "duration": 14,
    "start_time": "2022-03-17T22:11:22.713Z"
   },
   {
    "duration": 10,
    "start_time": "2022-03-17T22:11:35.753Z"
   },
   {
    "duration": 9,
    "start_time": "2022-03-17T22:11:40.308Z"
   },
   {
    "duration": 27,
    "start_time": "2022-03-17T22:11:49.957Z"
   },
   {
    "duration": 7,
    "start_time": "2022-03-17T22:11:55.031Z"
   },
   {
    "duration": 7,
    "start_time": "2022-03-17T22:12:08.351Z"
   },
   {
    "duration": 89,
    "start_time": "2022-03-17T22:12:16.982Z"
   },
   {
    "duration": 14,
    "start_time": "2022-03-17T22:13:13.090Z"
   },
   {
    "duration": 67,
    "start_time": "2022-03-17T22:13:35.103Z"
   },
   {
    "duration": 91,
    "start_time": "2022-03-17T22:13:44.333Z"
   },
   {
    "duration": 12,
    "start_time": "2022-03-17T22:14:21.956Z"
   },
   {
    "duration": 12,
    "start_time": "2022-03-17T22:15:33.301Z"
   },
   {
    "duration": 3,
    "start_time": "2022-03-17T23:36:53.244Z"
   },
   {
    "duration": 10,
    "start_time": "2022-03-17T23:38:26.253Z"
   },
   {
    "duration": 11,
    "start_time": "2022-03-17T23:38:36.744Z"
   },
   {
    "duration": 11,
    "start_time": "2022-03-17T23:38:53.213Z"
   },
   {
    "duration": 10,
    "start_time": "2022-03-17T23:45:09.317Z"
   },
   {
    "duration": 11,
    "start_time": "2022-03-17T23:46:33.502Z"
   },
   {
    "duration": 22,
    "start_time": "2022-03-17T23:46:41.292Z"
   },
   {
    "duration": 5,
    "start_time": "2022-03-17T23:47:02.093Z"
   },
   {
    "duration": 852,
    "start_time": "2022-03-17T23:47:30.684Z"
   },
   {
    "duration": 6,
    "start_time": "2022-03-17T23:49:08.155Z"
   },
   {
    "duration": 6,
    "start_time": "2022-03-17T23:49:22.763Z"
   },
   {
    "duration": 9,
    "start_time": "2022-03-17T23:51:01.380Z"
   },
   {
    "duration": 12,
    "start_time": "2022-03-17T23:51:54.780Z"
   },
   {
    "duration": 7,
    "start_time": "2022-03-17T23:52:21.060Z"
   },
   {
    "duration": 9,
    "start_time": "2022-03-17T23:53:32.361Z"
   },
   {
    "duration": 11,
    "start_time": "2022-03-17T23:54:03.841Z"
   },
   {
    "duration": 15,
    "start_time": "2022-03-17T23:54:34.972Z"
   },
   {
    "duration": 18,
    "start_time": "2022-03-17T23:54:45.659Z"
   },
   {
    "duration": 3682,
    "start_time": "2022-03-17T23:54:53.488Z"
   },
   {
    "duration": 8,
    "start_time": "2022-03-17T23:54:59.360Z"
   },
   {
    "duration": 20,
    "start_time": "2022-03-17T23:56:28.998Z"
   },
   {
    "duration": 1713,
    "start_time": "2022-03-17T23:57:38.672Z"
   },
   {
    "duration": 10,
    "start_time": "2022-03-17T23:58:06.420Z"
   },
   {
    "duration": 1273,
    "start_time": "2022-03-17T23:58:41.222Z"
   },
   {
    "duration": 6,
    "start_time": "2022-03-18T00:00:38.627Z"
   },
   {
    "duration": 6,
    "start_time": "2022-03-18T00:00:58.946Z"
   },
   {
    "duration": 9,
    "start_time": "2022-03-18T00:01:09.307Z"
   },
   {
    "duration": 6,
    "start_time": "2022-03-18T00:06:54.730Z"
   },
   {
    "duration": 8,
    "start_time": "2022-03-18T00:07:02.668Z"
   },
   {
    "duration": 14,
    "start_time": "2022-03-18T00:07:47.699Z"
   },
   {
    "duration": 12,
    "start_time": "2022-03-18T00:09:05.050Z"
   },
   {
    "duration": 12,
    "start_time": "2022-03-18T00:09:30.850Z"
   },
   {
    "duration": 14,
    "start_time": "2022-03-18T00:09:35.098Z"
   },
   {
    "duration": 1310,
    "start_time": "2022-03-18T00:10:00.241Z"
   },
   {
    "duration": 13,
    "start_time": "2022-03-18T00:10:07.880Z"
   },
   {
    "duration": 10,
    "start_time": "2022-03-18T00:10:21.070Z"
   },
   {
    "duration": 13,
    "start_time": "2022-03-18T00:10:26.439Z"
   },
   {
    "duration": 17,
    "start_time": "2022-03-18T00:10:32.260Z"
   },
   {
    "duration": 137,
    "start_time": "2022-03-18T00:11:18.991Z"
   },
   {
    "duration": 14,
    "start_time": "2022-03-18T00:12:45.724Z"
   },
   {
    "duration": 247,
    "start_time": "2022-03-18T00:12:54.802Z"
   },
   {
    "duration": 401,
    "start_time": "2022-03-20T19:23:02.771Z"
   },
   {
    "duration": 323,
    "start_time": "2022-03-20T19:23:03.174Z"
   },
   {
    "duration": 18,
    "start_time": "2022-03-20T19:23:03.498Z"
   },
   {
    "duration": 15,
    "start_time": "2022-03-20T19:23:03.517Z"
   },
   {
    "duration": 2259,
    "start_time": "2022-03-20T19:23:03.534Z"
   },
   {
    "duration": 9,
    "start_time": "2022-03-20T19:23:05.795Z"
   },
   {
    "duration": 246,
    "start_time": "2022-03-20T19:23:05.805Z"
   },
   {
    "duration": 3704,
    "start_time": "2022-03-20T19:26:58.966Z"
   },
   {
    "duration": 1163,
    "start_time": "2022-03-20T19:27:12.105Z"
   },
   {
    "duration": 1209,
    "start_time": "2022-03-20T19:27:36.127Z"
   },
   {
    "duration": 1276,
    "start_time": "2022-03-20T19:28:14.376Z"
   },
   {
    "duration": 1336,
    "start_time": "2022-03-20T19:31:58.341Z"
   },
   {
    "duration": 1367,
    "start_time": "2022-03-20T19:32:28.896Z"
   },
   {
    "duration": 1225,
    "start_time": "2022-03-20T19:34:51.096Z"
   },
   {
    "duration": 1316,
    "start_time": "2022-03-20T19:35:05.443Z"
   },
   {
    "duration": 1337,
    "start_time": "2022-03-20T19:35:43.635Z"
   },
   {
    "duration": 58,
    "start_time": "2022-03-20T19:37:27.376Z"
   },
   {
    "duration": 100,
    "start_time": "2022-03-20T19:37:31.307Z"
   },
   {
    "duration": 83,
    "start_time": "2022-03-20T19:38:05.884Z"
   },
   {
    "duration": 86,
    "start_time": "2022-03-20T19:39:54.716Z"
   },
   {
    "duration": 121,
    "start_time": "2022-03-20T19:40:07.887Z"
   },
   {
    "duration": 59,
    "start_time": "2022-03-20T19:40:49.896Z"
   },
   {
    "duration": 14,
    "start_time": "2022-03-20T19:42:47.764Z"
   },
   {
    "duration": 8,
    "start_time": "2022-03-20T19:43:03.537Z"
   },
   {
    "duration": 60,
    "start_time": "2022-03-20T19:43:13.603Z"
   },
   {
    "duration": 10,
    "start_time": "2022-03-20T19:43:18.307Z"
   },
   {
    "duration": 167,
    "start_time": "2022-03-20T19:46:04.786Z"
   },
   {
    "duration": 20,
    "start_time": "2022-03-20T19:46:27.394Z"
   },
   {
    "duration": 16,
    "start_time": "2022-03-20T19:46:53.725Z"
   },
   {
    "duration": 5,
    "start_time": "2022-03-20T19:47:23.388Z"
   },
   {
    "duration": 12,
    "start_time": "2022-03-20T19:47:35.468Z"
   },
   {
    "duration": 11,
    "start_time": "2022-03-20T19:47:41.756Z"
   },
   {
    "duration": 15,
    "start_time": "2022-03-20T19:47:46.477Z"
   },
   {
    "duration": 14,
    "start_time": "2022-03-20T19:48:14.738Z"
   },
   {
    "duration": 5,
    "start_time": "2022-03-20T19:48:40.407Z"
   },
   {
    "duration": 587,
    "start_time": "2022-03-20T19:49:16.518Z"
   },
   {
    "duration": 465,
    "start_time": "2022-03-20T19:58:42.235Z"
   },
   {
    "duration": 46,
    "start_time": "2022-03-21T11:17:16.687Z"
   },
   {
    "duration": 1383,
    "start_time": "2022-03-21T11:17:24.976Z"
   },
   {
    "duration": 31,
    "start_time": "2022-03-21T11:17:26.362Z"
   },
   {
    "duration": 15,
    "start_time": "2022-03-21T11:17:26.395Z"
   },
   {
    "duration": 12,
    "start_time": "2022-03-21T11:17:26.413Z"
   },
   {
    "duration": 6,
    "start_time": "2022-03-21T11:17:26.427Z"
   },
   {
    "duration": 9,
    "start_time": "2022-03-21T11:17:26.435Z"
   },
   {
    "duration": 65,
    "start_time": "2022-03-21T11:17:26.463Z"
   },
   {
    "duration": 1809,
    "start_time": "2022-03-21T11:17:26.530Z"
   },
   {
    "duration": 29181,
    "start_time": "2022-03-21T11:17:28.342Z"
   },
   {
    "duration": 38,
    "start_time": "2022-03-21T11:17:57.527Z"
   },
   {
    "duration": 295,
    "start_time": "2022-03-21T11:17:57.568Z"
   },
   {
    "duration": 4,
    "start_time": "2022-03-21T12:17:18.758Z"
   },
   {
    "duration": 22,
    "start_time": "2022-03-21T12:17:28.098Z"
   },
   {
    "duration": 2869,
    "start_time": "2022-03-21T12:17:38.667Z"
   },
   {
    "duration": 21,
    "start_time": "2022-03-21T12:17:48.089Z"
   },
   {
    "duration": 8,
    "start_time": "2022-03-21T12:18:29.659Z"
   },
   {
    "duration": 4,
    "start_time": "2022-03-21T12:20:56.187Z"
   },
   {
    "duration": 10,
    "start_time": "2022-03-21T12:20:59.209Z"
   },
   {
    "duration": 4,
    "start_time": "2022-03-21T12:21:09.850Z"
   },
   {
    "duration": 10,
    "start_time": "2022-03-21T12:21:12.327Z"
   },
   {
    "duration": 4,
    "start_time": "2022-03-21T12:21:47.418Z"
   },
   {
    "duration": 10,
    "start_time": "2022-03-21T12:21:49.177Z"
   },
   {
    "duration": 124,
    "start_time": "2022-03-21T12:22:38.919Z"
   },
   {
    "duration": 7,
    "start_time": "2022-03-21T12:23:43.749Z"
   },
   {
    "duration": 12,
    "start_time": "2022-03-21T12:24:09.359Z"
   },
   {
    "duration": 8,
    "start_time": "2022-03-21T12:24:24.990Z"
   },
   {
    "duration": 3,
    "start_time": "2022-03-21T12:24:40.120Z"
   },
   {
    "duration": 5,
    "start_time": "2022-03-21T12:24:44.309Z"
   },
   {
    "duration": 5,
    "start_time": "2022-03-21T12:25:35.959Z"
   },
   {
    "duration": 5,
    "start_time": "2022-03-21T12:25:50.228Z"
   },
   {
    "duration": 5,
    "start_time": "2022-03-21T12:26:13.257Z"
   },
   {
    "duration": 6,
    "start_time": "2022-03-21T12:26:21.137Z"
   },
   {
    "duration": 5,
    "start_time": "2022-03-21T12:26:47.708Z"
   },
   {
    "duration": 11,
    "start_time": "2022-03-21T12:27:31.392Z"
   },
   {
    "duration": 10,
    "start_time": "2022-03-21T12:27:35.039Z"
   },
   {
    "duration": 140,
    "start_time": "2022-03-21T12:27:47.429Z"
   },
   {
    "duration": 10,
    "start_time": "2022-03-21T12:27:50.899Z"
   },
   {
    "duration": 12,
    "start_time": "2022-03-21T12:28:27.089Z"
   },
   {
    "duration": 10,
    "start_time": "2022-03-21T12:28:38.869Z"
   },
   {
    "duration": 39,
    "start_time": "2022-03-21T12:28:46.138Z"
   },
   {
    "duration": 9,
    "start_time": "2022-03-21T12:29:05.109Z"
   },
   {
    "duration": 9,
    "start_time": "2022-03-21T12:29:18.719Z"
   },
   {
    "duration": 8,
    "start_time": "2022-03-21T12:29:26.777Z"
   },
   {
    "duration": 7,
    "start_time": "2022-03-21T12:29:55.378Z"
   },
   {
    "duration": 36,
    "start_time": "2022-03-21T12:30:01.909Z"
   },
   {
    "duration": 5,
    "start_time": "2022-03-21T12:30:08.616Z"
   },
   {
    "duration": 980,
    "start_time": "2022-03-21T12:31:10.919Z"
   },
   {
    "duration": 9,
    "start_time": "2022-03-21T12:31:53.186Z"
   },
   {
    "duration": 5,
    "start_time": "2022-03-21T12:32:09.199Z"
   },
   {
    "duration": 24,
    "start_time": "2022-03-21T12:32:15.228Z"
   },
   {
    "duration": 13,
    "start_time": "2022-03-21T12:32:19.888Z"
   },
   {
    "duration": 10,
    "start_time": "2022-03-21T12:32:22.798Z"
   },
   {
    "duration": 257,
    "start_time": "2022-03-21T12:34:29.803Z"
   },
   {
    "duration": 4,
    "start_time": "2022-03-21T12:35:22.149Z"
   },
   {
    "duration": 26,
    "start_time": "2022-03-21T12:38:46.239Z"
   },
   {
    "duration": 16,
    "start_time": "2022-03-21T12:39:01.478Z"
   },
   {
    "duration": 13,
    "start_time": "2022-03-21T12:39:02.649Z"
   },
   {
    "duration": 11,
    "start_time": "2022-03-21T12:39:10.806Z"
   },
   {
    "duration": 6,
    "start_time": "2022-03-21T12:39:14.247Z"
   },
   {
    "duration": 7,
    "start_time": "2022-03-21T12:39:17.438Z"
   },
   {
    "duration": 8,
    "start_time": "2022-03-21T12:39:28.649Z"
   },
   {
    "duration": 6,
    "start_time": "2022-03-21T12:39:36.998Z"
   },
   {
    "duration": 6,
    "start_time": "2022-03-21T12:40:05.158Z"
   },
   {
    "duration": 146,
    "start_time": "2022-03-21T12:40:06.908Z"
   },
   {
    "duration": 7,
    "start_time": "2022-03-21T12:40:09.859Z"
   },
   {
    "duration": 10,
    "start_time": "2022-03-21T12:40:20.070Z"
   },
   {
    "duration": 8,
    "start_time": "2022-03-21T12:40:25.869Z"
   },
   {
    "duration": 5,
    "start_time": "2022-03-21T12:40:30.649Z"
   },
   {
    "duration": 5,
    "start_time": "2022-03-21T12:40:34.019Z"
   },
   {
    "duration": 5,
    "start_time": "2022-03-21T12:40:41.939Z"
   },
   {
    "duration": 6,
    "start_time": "2022-03-21T12:41:06.378Z"
   },
   {
    "duration": 8,
    "start_time": "2022-03-21T12:41:28.238Z"
   },
   {
    "duration": 9,
    "start_time": "2022-03-21T12:41:34.287Z"
   },
   {
    "duration": 8,
    "start_time": "2022-03-21T12:41:44.192Z"
   },
   {
    "duration": 9,
    "start_time": "2022-03-21T12:41:55.978Z"
   },
   {
    "duration": 5,
    "start_time": "2022-03-21T13:51:50.039Z"
   },
   {
    "duration": 20,
    "start_time": "2022-03-21T13:51:57.060Z"
   },
   {
    "duration": 2567,
    "start_time": "2022-03-21T13:56:39.387Z"
   },
   {
    "duration": 5,
    "start_time": "2022-03-21T13:56:46.369Z"
   },
   {
    "duration": 16,
    "start_time": "2022-03-21T13:59:42.309Z"
   },
   {
    "duration": 8,
    "start_time": "2022-03-21T14:03:21.599Z"
   },
   {
    "duration": 4,
    "start_time": "2022-03-21T14:05:07.949Z"
   },
   {
    "duration": 9,
    "start_time": "2022-03-21T14:05:29.829Z"
   },
   {
    "duration": 4,
    "start_time": "2022-03-21T14:06:22.189Z"
   },
   {
    "duration": 9,
    "start_time": "2022-03-21T14:06:24.109Z"
   },
   {
    "duration": 2605,
    "start_time": "2022-03-21T14:06:59.578Z"
   },
   {
    "duration": 328,
    "start_time": "2022-03-21T14:07:06.158Z"
   },
   {
    "duration": 9,
    "start_time": "2022-03-21T14:08:23.547Z"
   },
   {
    "duration": 21,
    "start_time": "2022-03-21T14:08:29.617Z"
   },
   {
    "duration": 151,
    "start_time": "2022-03-21T14:11:16.769Z"
   },
   {
    "duration": 2846,
    "start_time": "2022-03-21T15:40:05.512Z"
   },
   {
    "duration": 4,
    "start_time": "2022-03-21T15:40:19.095Z"
   },
   {
    "duration": 2604,
    "start_time": "2022-03-21T15:40:21.384Z"
   },
   {
    "duration": 10,
    "start_time": "2022-03-21T15:40:31.412Z"
   },
   {
    "duration": 10,
    "start_time": "2022-03-21T15:41:26.373Z"
   },
   {
    "duration": 10,
    "start_time": "2022-03-21T15:42:10.091Z"
   },
   {
    "duration": 1591,
    "start_time": "2022-03-21T15:43:05.613Z"
   },
   {
    "duration": 114,
    "start_time": "2022-03-21T15:44:40.791Z"
   },
   {
    "duration": 175,
    "start_time": "2022-03-21T15:45:09.304Z"
   },
   {
    "duration": 10,
    "start_time": "2022-03-21T15:45:28.133Z"
   },
   {
    "duration": 13,
    "start_time": "2022-03-21T15:45:33.094Z"
   },
   {
    "duration": 11,
    "start_time": "2022-03-21T15:45:42.404Z"
   },
   {
    "duration": 8,
    "start_time": "2022-03-21T15:45:45.921Z"
   },
   {
    "duration": 284,
    "start_time": "2022-03-21T15:46:00.753Z"
   },
   {
    "duration": 225,
    "start_time": "2022-03-21T15:48:32.363Z"
   },
   {
    "duration": 15,
    "start_time": "2022-03-21T15:49:07.563Z"
   },
   {
    "duration": 12,
    "start_time": "2022-03-21T15:49:23.613Z"
   },
   {
    "duration": 13,
    "start_time": "2022-03-21T15:49:25.665Z"
   },
   {
    "duration": 149,
    "start_time": "2022-03-21T15:49:34.644Z"
   },
   {
    "duration": 68,
    "start_time": "2022-03-21T15:49:39.827Z"
   },
   {
    "duration": 63,
    "start_time": "2022-03-21T15:50:04.492Z"
   },
   {
    "duration": 12,
    "start_time": "2022-03-21T15:50:13.663Z"
   },
   {
    "duration": 11,
    "start_time": "2022-03-21T15:50:28.835Z"
   },
   {
    "duration": 12,
    "start_time": "2022-03-21T15:50:45.393Z"
   },
   {
    "duration": 4,
    "start_time": "2022-03-21T15:50:51.763Z"
   },
   {
    "duration": 13,
    "start_time": "2022-03-21T15:51:04.054Z"
   },
   {
    "duration": 12,
    "start_time": "2022-03-21T15:51:13.443Z"
   },
   {
    "duration": 12,
    "start_time": "2022-03-21T15:51:44.032Z"
   },
   {
    "duration": 92,
    "start_time": "2022-03-21T15:51:58.082Z"
   },
   {
    "duration": 19,
    "start_time": "2022-03-21T15:52:02.683Z"
   },
   {
    "duration": 18,
    "start_time": "2022-03-21T15:52:12.780Z"
   },
   {
    "duration": 11,
    "start_time": "2022-03-21T15:52:27.623Z"
   },
   {
    "duration": 10,
    "start_time": "2022-03-21T15:52:33.363Z"
   },
   {
    "duration": 16,
    "start_time": "2022-03-21T15:52:39.173Z"
   },
   {
    "duration": 12,
    "start_time": "2022-03-21T15:53:00.181Z"
   },
   {
    "duration": 12,
    "start_time": "2022-03-21T15:53:16.630Z"
   },
   {
    "duration": 11,
    "start_time": "2022-03-21T15:54:24.272Z"
   },
   {
    "duration": 3948,
    "start_time": "2022-03-21T15:54:28.312Z"
   },
   {
    "duration": 3631,
    "start_time": "2022-03-21T15:54:38.312Z"
   },
   {
    "duration": 208,
    "start_time": "2022-03-21T15:54:48.122Z"
   },
   {
    "duration": 2861,
    "start_time": "2022-03-21T15:54:54.152Z"
   },
   {
    "duration": 2842,
    "start_time": "2022-03-21T15:55:03.359Z"
   },
   {
    "duration": 2641,
    "start_time": "2022-03-21T15:55:47.451Z"
   },
   {
    "duration": 10,
    "start_time": "2022-03-21T15:56:09.471Z"
   },
   {
    "duration": 3703,
    "start_time": "2022-03-21T15:59:40.642Z"
   },
   {
    "duration": 9,
    "start_time": "2022-03-21T15:59:50.351Z"
   },
   {
    "duration": 11,
    "start_time": "2022-03-21T16:00:01.831Z"
   },
   {
    "duration": 2954,
    "start_time": "2022-03-21T16:00:30.870Z"
   },
   {
    "duration": 2742,
    "start_time": "2022-03-21T16:00:44.283Z"
   },
   {
    "duration": 2908,
    "start_time": "2022-03-21T16:00:50.941Z"
   },
   {
    "duration": 2946,
    "start_time": "2022-03-21T16:03:46.931Z"
   },
   {
    "duration": 147,
    "start_time": "2022-03-21T16:04:45.801Z"
   },
   {
    "duration": 60,
    "start_time": "2022-03-21T16:05:07.026Z"
   },
   {
    "duration": 20,
    "start_time": "2022-03-21T16:49:20.251Z"
   },
   {
    "duration": 11,
    "start_time": "2022-03-21T16:52:59.742Z"
   },
   {
    "duration": 12,
    "start_time": "2022-03-21T17:07:08.758Z"
   },
   {
    "duration": 1288,
    "start_time": "2022-03-21T17:15:36.246Z"
   },
   {
    "duration": 18,
    "start_time": "2022-03-21T17:15:37.536Z"
   },
   {
    "duration": 15,
    "start_time": "2022-03-21T17:15:37.555Z"
   },
   {
    "duration": 11,
    "start_time": "2022-03-21T17:15:37.572Z"
   },
   {
    "duration": 9,
    "start_time": "2022-03-21T17:15:37.586Z"
   },
   {
    "duration": 76,
    "start_time": "2022-03-21T17:15:37.596Z"
   },
   {
    "duration": 51,
    "start_time": "2022-03-21T17:15:37.674Z"
   },
   {
    "duration": 1416,
    "start_time": "2022-03-21T17:15:37.727Z"
   },
   {
    "duration": 3004,
    "start_time": "2022-03-21T17:15:39.145Z"
   },
   {
    "duration": 0,
    "start_time": "2022-03-21T17:15:42.151Z"
   },
   {
    "duration": 0,
    "start_time": "2022-03-21T17:15:42.152Z"
   },
   {
    "duration": 0,
    "start_time": "2022-03-21T17:15:42.154Z"
   },
   {
    "duration": 0,
    "start_time": "2022-03-21T17:15:42.155Z"
   },
   {
    "duration": 0,
    "start_time": "2022-03-21T17:15:42.156Z"
   },
   {
    "duration": 0,
    "start_time": "2022-03-21T17:15:42.157Z"
   },
   {
    "duration": 0,
    "start_time": "2022-03-21T17:15:42.158Z"
   },
   {
    "duration": 0,
    "start_time": "2022-03-21T17:15:42.159Z"
   },
   {
    "duration": 0,
    "start_time": "2022-03-21T17:15:42.160Z"
   },
   {
    "duration": 0,
    "start_time": "2022-03-21T17:15:42.161Z"
   },
   {
    "duration": 0,
    "start_time": "2022-03-21T17:15:42.162Z"
   },
   {
    "duration": 0,
    "start_time": "2022-03-21T17:15:42.163Z"
   },
   {
    "duration": 0,
    "start_time": "2022-03-21T17:15:42.165Z"
   },
   {
    "duration": 0,
    "start_time": "2022-03-21T17:15:42.166Z"
   },
   {
    "duration": 0,
    "start_time": "2022-03-21T17:15:42.167Z"
   },
   {
    "duration": 0,
    "start_time": "2022-03-21T17:15:42.168Z"
   },
   {
    "duration": 6,
    "start_time": "2022-03-21T17:16:30.694Z"
   },
   {
    "duration": 170,
    "start_time": "2022-03-21T17:21:47.709Z"
   },
   {
    "duration": 106,
    "start_time": "2022-03-21T17:21:55.826Z"
   },
   {
    "duration": 1267,
    "start_time": "2022-03-21T17:22:28.273Z"
   },
   {
    "duration": 23,
    "start_time": "2022-03-21T17:22:29.542Z"
   },
   {
    "duration": 15,
    "start_time": "2022-03-21T17:22:29.566Z"
   },
   {
    "duration": 15,
    "start_time": "2022-03-21T17:22:29.583Z"
   },
   {
    "duration": 9,
    "start_time": "2022-03-21T17:22:29.601Z"
   },
   {
    "duration": 97,
    "start_time": "2022-03-21T17:22:29.612Z"
   },
   {
    "duration": 177,
    "start_time": "2022-03-21T17:22:29.711Z"
   },
   {
    "duration": 1381,
    "start_time": "2022-03-21T17:22:29.890Z"
   },
   {
    "duration": 2743,
    "start_time": "2022-03-21T17:22:31.273Z"
   },
   {
    "duration": 0,
    "start_time": "2022-03-21T17:22:34.019Z"
   },
   {
    "duration": 0,
    "start_time": "2022-03-21T17:22:34.020Z"
   },
   {
    "duration": 0,
    "start_time": "2022-03-21T17:22:34.020Z"
   },
   {
    "duration": 0,
    "start_time": "2022-03-21T17:22:34.021Z"
   },
   {
    "duration": 0,
    "start_time": "2022-03-21T17:22:34.022Z"
   },
   {
    "duration": 0,
    "start_time": "2022-03-21T17:22:34.023Z"
   },
   {
    "duration": 0,
    "start_time": "2022-03-21T17:22:34.024Z"
   },
   {
    "duration": 0,
    "start_time": "2022-03-21T17:22:34.026Z"
   },
   {
    "duration": 0,
    "start_time": "2022-03-21T17:22:34.027Z"
   },
   {
    "duration": 0,
    "start_time": "2022-03-21T17:22:34.028Z"
   },
   {
    "duration": 0,
    "start_time": "2022-03-21T17:22:34.030Z"
   },
   {
    "duration": 0,
    "start_time": "2022-03-21T17:22:34.031Z"
   },
   {
    "duration": 0,
    "start_time": "2022-03-21T17:22:34.032Z"
   },
   {
    "duration": 0,
    "start_time": "2022-03-21T17:22:34.033Z"
   },
   {
    "duration": 0,
    "start_time": "2022-03-21T17:22:34.035Z"
   },
   {
    "duration": 0,
    "start_time": "2022-03-21T17:22:34.035Z"
   },
   {
    "duration": 188,
    "start_time": "2022-03-21T17:23:21.283Z"
   },
   {
    "duration": 129,
    "start_time": "2022-03-21T17:23:29.071Z"
   },
   {
    "duration": 150,
    "start_time": "2022-03-21T17:23:36.939Z"
   },
   {
    "duration": 128,
    "start_time": "2022-03-21T17:23:44.771Z"
   },
   {
    "duration": 161,
    "start_time": "2022-03-21T17:25:11.668Z"
   },
   {
    "duration": 155,
    "start_time": "2022-03-21T17:25:18.650Z"
   },
   {
    "duration": 178,
    "start_time": "2022-03-21T17:25:40.041Z"
   },
   {
    "duration": 153,
    "start_time": "2022-03-21T17:26:30.331Z"
   },
   {
    "duration": 113,
    "start_time": "2022-03-21T17:26:42.010Z"
   },
   {
    "duration": 163,
    "start_time": "2022-03-21T17:26:45.610Z"
   },
   {
    "duration": 156,
    "start_time": "2022-03-21T17:27:04.185Z"
   },
   {
    "duration": 125,
    "start_time": "2022-03-21T17:27:18.500Z"
   },
   {
    "duration": 104,
    "start_time": "2022-03-21T17:27:23.689Z"
   },
   {
    "duration": 114,
    "start_time": "2022-03-21T17:27:29.381Z"
   },
   {
    "duration": 188,
    "start_time": "2022-03-21T17:28:03.384Z"
   },
   {
    "duration": 111,
    "start_time": "2022-03-21T17:28:29.609Z"
   },
   {
    "duration": 10,
    "start_time": "2022-03-21T17:30:15.639Z"
   },
   {
    "duration": 9,
    "start_time": "2022-03-21T17:30:22.269Z"
   },
   {
    "duration": 173,
    "start_time": "2022-03-21T17:30:26.310Z"
   },
   {
    "duration": 4,
    "start_time": "2022-03-21T17:30:28.519Z"
   },
   {
    "duration": 4,
    "start_time": "2022-03-21T17:30:38.010Z"
   },
   {
    "duration": 4,
    "start_time": "2022-03-21T17:31:06.549Z"
   },
   {
    "duration": 4,
    "start_time": "2022-03-21T17:31:09.599Z"
   },
   {
    "duration": 4,
    "start_time": "2022-03-21T17:31:33.699Z"
   },
   {
    "duration": 4,
    "start_time": "2022-03-21T17:31:37.479Z"
   },
   {
    "duration": 4,
    "start_time": "2022-03-21T17:31:40.888Z"
   },
   {
    "duration": 4,
    "start_time": "2022-03-21T17:31:44.230Z"
   },
   {
    "duration": 4,
    "start_time": "2022-03-21T17:31:53.124Z"
   },
   {
    "duration": 1613,
    "start_time": "2022-03-22T12:37:43.209Z"
   },
   {
    "duration": 24,
    "start_time": "2022-03-22T12:37:44.824Z"
   },
   {
    "duration": 17,
    "start_time": "2022-03-22T12:37:44.849Z"
   },
   {
    "duration": 7,
    "start_time": "2022-03-22T12:37:44.868Z"
   },
   {
    "duration": 25,
    "start_time": "2022-03-22T12:37:44.876Z"
   },
   {
    "duration": 57,
    "start_time": "2022-03-22T12:37:44.903Z"
   },
   {
    "duration": 182,
    "start_time": "2022-03-22T12:37:44.962Z"
   },
   {
    "duration": 1792,
    "start_time": "2022-03-22T12:37:45.146Z"
   },
   {
    "duration": 5425,
    "start_time": "2022-03-22T12:37:46.940Z"
   },
   {
    "duration": 0,
    "start_time": "2022-03-22T12:37:52.367Z"
   },
   {
    "duration": 0,
    "start_time": "2022-03-22T12:37:52.369Z"
   },
   {
    "duration": 0,
    "start_time": "2022-03-22T12:37:52.370Z"
   },
   {
    "duration": 0,
    "start_time": "2022-03-22T12:37:52.371Z"
   },
   {
    "duration": 0,
    "start_time": "2022-03-22T12:37:52.372Z"
   },
   {
    "duration": 0,
    "start_time": "2022-03-22T12:37:52.374Z"
   },
   {
    "duration": 0,
    "start_time": "2022-03-22T12:37:52.375Z"
   },
   {
    "duration": 0,
    "start_time": "2022-03-22T12:37:52.377Z"
   },
   {
    "duration": 0,
    "start_time": "2022-03-22T12:37:52.378Z"
   },
   {
    "duration": 0,
    "start_time": "2022-03-22T12:37:52.380Z"
   },
   {
    "duration": 0,
    "start_time": "2022-03-22T12:37:52.381Z"
   },
   {
    "duration": 0,
    "start_time": "2022-03-22T12:37:52.382Z"
   },
   {
    "duration": 0,
    "start_time": "2022-03-22T12:37:52.384Z"
   },
   {
    "duration": 0,
    "start_time": "2022-03-22T12:37:52.385Z"
   },
   {
    "duration": 0,
    "start_time": "2022-03-22T12:37:52.387Z"
   },
   {
    "duration": 0,
    "start_time": "2022-03-22T12:37:52.388Z"
   },
   {
    "duration": 13,
    "start_time": "2022-03-22T13:02:54.886Z"
   },
   {
    "duration": 5,
    "start_time": "2022-03-22T14:02:52.610Z"
   },
   {
    "duration": 4,
    "start_time": "2022-03-22T14:03:03.479Z"
   },
   {
    "duration": 5,
    "start_time": "2022-03-22T14:03:12.529Z"
   },
   {
    "duration": 4,
    "start_time": "2022-03-22T14:03:17.599Z"
   },
   {
    "duration": 11,
    "start_time": "2022-03-22T15:15:04.905Z"
   },
   {
    "duration": 10,
    "start_time": "2022-03-22T15:17:31.084Z"
   },
   {
    "duration": 9,
    "start_time": "2022-03-22T15:17:35.255Z"
   },
   {
    "duration": 4,
    "start_time": "2022-03-22T15:17:39.855Z"
   },
   {
    "duration": 4,
    "start_time": "2022-03-22T15:17:43.453Z"
   },
   {
    "duration": 7,
    "start_time": "2022-03-22T15:17:50.447Z"
   },
   {
    "duration": 5,
    "start_time": "2022-03-22T15:17:58.755Z"
   },
   {
    "duration": 12,
    "start_time": "2022-03-22T15:18:03.106Z"
   },
   {
    "duration": 5,
    "start_time": "2022-03-22T15:18:08.904Z"
   },
   {
    "duration": 4,
    "start_time": "2022-03-22T15:18:13.835Z"
   },
   {
    "duration": 9,
    "start_time": "2022-03-22T15:18:56.115Z"
   },
   {
    "duration": 9,
    "start_time": "2022-03-22T15:18:59.787Z"
   },
   {
    "duration": 27,
    "start_time": "2022-03-22T16:36:09.735Z"
   },
   {
    "duration": 19,
    "start_time": "2022-03-22T16:36:17.572Z"
   },
   {
    "duration": 18,
    "start_time": "2022-03-22T16:36:28.055Z"
   },
   {
    "duration": 14,
    "start_time": "2022-03-22T16:37:32.372Z"
   },
   {
    "duration": 12,
    "start_time": "2022-03-22T16:37:38.644Z"
   },
   {
    "duration": 13,
    "start_time": "2022-03-22T16:37:58.805Z"
   },
   {
    "duration": 7,
    "start_time": "2022-03-22T16:38:36.455Z"
   },
   {
    "duration": 7,
    "start_time": "2022-03-22T16:38:48.664Z"
   },
   {
    "duration": 7,
    "start_time": "2022-03-22T16:38:57.224Z"
   },
   {
    "duration": 13,
    "start_time": "2022-03-22T16:39:03.667Z"
   },
   {
    "duration": 12,
    "start_time": "2022-03-22T16:39:20.924Z"
   },
   {
    "duration": 14,
    "start_time": "2022-03-22T16:39:58.376Z"
   },
   {
    "duration": 14,
    "start_time": "2022-03-22T16:40:05.126Z"
   },
   {
    "duration": 9,
    "start_time": "2022-03-22T16:41:14.855Z"
   },
   {
    "duration": 13,
    "start_time": "2022-03-22T16:41:17.454Z"
   },
   {
    "duration": 7,
    "start_time": "2022-03-22T16:41:26.155Z"
   },
   {
    "duration": 12,
    "start_time": "2022-03-22T16:41:28.474Z"
   },
   {
    "duration": 1427,
    "start_time": "2022-03-22T16:41:35.074Z"
   },
   {
    "duration": 24,
    "start_time": "2022-03-22T16:41:36.504Z"
   },
   {
    "duration": 18,
    "start_time": "2022-03-22T16:41:36.531Z"
   },
   {
    "duration": 7,
    "start_time": "2022-03-22T16:41:36.551Z"
   },
   {
    "duration": 17,
    "start_time": "2022-03-22T16:41:36.562Z"
   },
   {
    "duration": 17,
    "start_time": "2022-03-22T16:41:36.602Z"
   },
   {
    "duration": 27,
    "start_time": "2022-03-22T16:41:36.621Z"
   },
   {
    "duration": 19,
    "start_time": "2022-03-22T16:41:36.650Z"
   },
   {
    "duration": 82,
    "start_time": "2022-03-22T16:41:36.671Z"
   },
   {
    "duration": 175,
    "start_time": "2022-03-22T16:41:36.755Z"
   },
   {
    "duration": 1510,
    "start_time": "2022-03-22T16:41:36.932Z"
   },
   {
    "duration": 12,
    "start_time": "2022-03-22T16:41:38.444Z"
   },
   {
    "duration": 4,
    "start_time": "2022-03-22T16:41:38.459Z"
   },
   {
    "duration": 5761,
    "start_time": "2022-03-22T16:41:38.467Z"
   },
   {
    "duration": 0,
    "start_time": "2022-03-22T16:41:44.230Z"
   },
   {
    "duration": 0,
    "start_time": "2022-03-22T16:41:44.231Z"
   },
   {
    "duration": 0,
    "start_time": "2022-03-22T16:41:44.232Z"
   },
   {
    "duration": 0,
    "start_time": "2022-03-22T16:41:44.233Z"
   },
   {
    "duration": 0,
    "start_time": "2022-03-22T16:41:44.235Z"
   },
   {
    "duration": 0,
    "start_time": "2022-03-22T16:41:44.236Z"
   },
   {
    "duration": 0,
    "start_time": "2022-03-22T16:41:44.237Z"
   },
   {
    "duration": 0,
    "start_time": "2022-03-22T16:41:44.238Z"
   },
   {
    "duration": 0,
    "start_time": "2022-03-22T16:41:44.239Z"
   },
   {
    "duration": 0,
    "start_time": "2022-03-22T16:41:44.241Z"
   },
   {
    "duration": 0,
    "start_time": "2022-03-22T16:41:44.242Z"
   },
   {
    "duration": 0,
    "start_time": "2022-03-22T16:41:44.243Z"
   },
   {
    "duration": 0,
    "start_time": "2022-03-22T16:41:44.244Z"
   },
   {
    "duration": 0,
    "start_time": "2022-03-22T16:41:44.245Z"
   },
   {
    "duration": 45,
    "start_time": "2022-03-22T16:46:17.891Z"
   },
   {
    "duration": 44,
    "start_time": "2022-03-22T16:46:27.252Z"
   },
   {
    "duration": 48,
    "start_time": "2022-03-22T16:47:33.242Z"
   },
   {
    "duration": 5,
    "start_time": "2022-03-22T16:56:04.903Z"
   },
   {
    "duration": 11,
    "start_time": "2022-03-22T16:56:07.670Z"
   },
   {
    "duration": 4,
    "start_time": "2022-03-22T16:56:51.443Z"
   },
   {
    "duration": 11,
    "start_time": "2022-03-22T16:56:53.212Z"
   },
   {
    "duration": 339,
    "start_time": "2022-03-22T16:59:47.862Z"
   },
   {
    "duration": 5,
    "start_time": "2022-03-22T17:01:48.112Z"
   },
   {
    "duration": 12,
    "start_time": "2022-03-22T17:01:50.001Z"
   },
   {
    "duration": 27,
    "start_time": "2022-03-22T17:02:07.402Z"
   },
   {
    "duration": 4,
    "start_time": "2022-03-22T17:03:55.503Z"
   },
   {
    "duration": 6,
    "start_time": "2022-03-22T17:04:56.293Z"
   },
   {
    "duration": 15,
    "start_time": "2022-03-22T17:05:06.493Z"
   },
   {
    "duration": 28,
    "start_time": "2022-03-22T17:05:20.438Z"
   },
   {
    "duration": 10,
    "start_time": "2022-03-22T17:05:36.163Z"
   },
   {
    "duration": 6,
    "start_time": "2022-03-22T17:05:50.462Z"
   },
   {
    "duration": 11,
    "start_time": "2022-03-22T17:05:52.493Z"
   },
   {
    "duration": 6,
    "start_time": "2022-03-22T17:05:58.421Z"
   },
   {
    "duration": 11,
    "start_time": "2022-03-22T17:06:00.333Z"
   },
   {
    "duration": 6,
    "start_time": "2022-03-22T17:06:11.822Z"
   },
   {
    "duration": 14,
    "start_time": "2022-03-22T17:06:14.083Z"
   },
   {
    "duration": 6,
    "start_time": "2022-03-22T17:06:18.912Z"
   },
   {
    "duration": 11,
    "start_time": "2022-03-22T17:06:20.667Z"
   },
   {
    "duration": 6,
    "start_time": "2022-03-22T17:06:24.462Z"
   },
   {
    "duration": 12,
    "start_time": "2022-03-22T17:06:26.241Z"
   },
   {
    "duration": 6,
    "start_time": "2022-03-22T17:06:29.771Z"
   },
   {
    "duration": 11,
    "start_time": "2022-03-22T17:06:31.685Z"
   },
   {
    "duration": 29,
    "start_time": "2022-03-22T17:06:38.322Z"
   },
   {
    "duration": 10,
    "start_time": "2022-03-22T17:06:56.642Z"
   },
   {
    "duration": 6,
    "start_time": "2022-03-22T17:08:06.473Z"
   },
   {
    "duration": 11,
    "start_time": "2022-03-22T17:08:07.333Z"
   },
   {
    "duration": 6,
    "start_time": "2022-03-22T17:08:31.622Z"
   },
   {
    "duration": 12,
    "start_time": "2022-03-22T17:08:33.539Z"
   },
   {
    "duration": 6,
    "start_time": "2022-03-22T17:08:46.392Z"
   },
   {
    "duration": 11,
    "start_time": "2022-03-22T17:08:48.660Z"
   },
   {
    "duration": 6,
    "start_time": "2022-03-22T17:08:57.894Z"
   },
   {
    "duration": 11,
    "start_time": "2022-03-22T17:09:00.723Z"
   },
   {
    "duration": 6,
    "start_time": "2022-03-22T17:09:08.262Z"
   },
   {
    "duration": 12,
    "start_time": "2022-03-22T17:09:10.243Z"
   },
   {
    "duration": 11,
    "start_time": "2022-03-22T17:22:52.134Z"
   },
   {
    "duration": 68,
    "start_time": "2022-03-22T18:15:51.472Z"
   },
   {
    "duration": 4917,
    "start_time": "2022-03-22T18:15:56.741Z"
   },
   {
    "duration": 194,
    "start_time": "2022-03-22T18:16:04.833Z"
   },
   {
    "duration": 238,
    "start_time": "2022-03-22T18:16:19.094Z"
   },
   {
    "duration": 183,
    "start_time": "2022-03-22T18:16:29.463Z"
   },
   {
    "duration": 200,
    "start_time": "2022-03-22T18:16:50.423Z"
   },
   {
    "duration": 201,
    "start_time": "2022-03-22T18:17:03.113Z"
   },
   {
    "duration": 17,
    "start_time": "2022-03-22T18:25:47.215Z"
   },
   {
    "duration": 18,
    "start_time": "2022-03-22T18:26:02.318Z"
   },
   {
    "duration": 145,
    "start_time": "2022-03-22T18:26:12.585Z"
   },
   {
    "duration": 136,
    "start_time": "2022-03-22T18:26:31.715Z"
   },
   {
    "duration": 230,
    "start_time": "2022-03-22T18:26:59.845Z"
   },
   {
    "duration": 220,
    "start_time": "2022-03-22T18:27:57.604Z"
   },
   {
    "duration": 6240,
    "start_time": "2022-03-22T18:28:18.455Z"
   },
   {
    "duration": 23,
    "start_time": "2022-03-22T18:28:38.566Z"
   },
   {
    "duration": 25,
    "start_time": "2022-03-22T18:28:59.796Z"
   },
   {
    "duration": 19,
    "start_time": "2022-03-22T18:29:11.485Z"
   },
   {
    "duration": 2035,
    "start_time": "2022-03-22T18:30:10.490Z"
   },
   {
    "duration": 297,
    "start_time": "2022-03-22T18:43:14.456Z"
   },
   {
    "duration": 226,
    "start_time": "2022-03-22T18:43:29.496Z"
   },
   {
    "duration": 203,
    "start_time": "2022-03-22T18:43:44.408Z"
   },
   {
    "duration": 117,
    "start_time": "2022-03-22T18:43:49.025Z"
   },
   {
    "duration": 2032,
    "start_time": "2022-03-22T18:44:00.706Z"
   },
   {
    "duration": 2162,
    "start_time": "2022-03-22T18:45:22.353Z"
   },
   {
    "duration": 2179,
    "start_time": "2022-03-22T18:45:38.535Z"
   },
   {
    "duration": 2211,
    "start_time": "2022-03-22T18:49:44.896Z"
   },
   {
    "duration": 2234,
    "start_time": "2022-03-22T18:50:01.717Z"
   },
   {
    "duration": 2198,
    "start_time": "2022-03-22T18:50:53.283Z"
   },
   {
    "duration": 2113,
    "start_time": "2022-03-22T18:50:58.678Z"
   },
   {
    "duration": 2110,
    "start_time": "2022-03-22T18:51:26.265Z"
   },
   {
    "duration": 2522,
    "start_time": "2022-03-22T18:51:50.208Z"
   },
   {
    "duration": 4741,
    "start_time": "2022-03-22T18:55:06.085Z"
   },
   {
    "duration": 4888,
    "start_time": "2022-03-22T18:55:53.654Z"
   },
   {
    "duration": 4748,
    "start_time": "2022-03-22T18:56:34.453Z"
   },
   {
    "duration": 6360,
    "start_time": "2022-03-22T18:59:00.575Z"
   },
   {
    "duration": 51,
    "start_time": "2022-03-23T12:39:34.575Z"
   },
   {
    "duration": 1493,
    "start_time": "2022-03-23T12:39:43.456Z"
   },
   {
    "duration": 262,
    "start_time": "2022-03-23T12:39:44.951Z"
   },
   {
    "duration": 17,
    "start_time": "2022-03-23T12:39:45.215Z"
   },
   {
    "duration": 18,
    "start_time": "2022-03-23T12:39:45.234Z"
   },
   {
    "duration": 13,
    "start_time": "2022-03-23T12:39:45.254Z"
   },
   {
    "duration": 18,
    "start_time": "2022-03-23T12:39:45.269Z"
   },
   {
    "duration": 19,
    "start_time": "2022-03-23T12:39:45.288Z"
   },
   {
    "duration": 13,
    "start_time": "2022-03-23T12:39:45.309Z"
   },
   {
    "duration": 48,
    "start_time": "2022-03-23T12:39:45.324Z"
   },
   {
    "duration": 79,
    "start_time": "2022-03-23T12:39:45.374Z"
   },
   {
    "duration": 3412,
    "start_time": "2022-03-23T12:39:45.454Z"
   },
   {
    "duration": 1657,
    "start_time": "2022-03-23T12:39:48.867Z"
   },
   {
    "duration": 10,
    "start_time": "2022-03-23T12:39:50.525Z"
   },
   {
    "duration": 4,
    "start_time": "2022-03-23T12:39:50.538Z"
   },
   {
    "duration": 305,
    "start_time": "2022-03-23T12:39:50.544Z"
   },
   {
    "duration": 114,
    "start_time": "2022-03-23T12:39:50.850Z"
   },
   {
    "duration": 0,
    "start_time": "2022-03-23T12:39:50.966Z"
   },
   {
    "duration": 0,
    "start_time": "2022-03-23T12:39:50.967Z"
   },
   {
    "duration": 0,
    "start_time": "2022-03-23T12:39:50.968Z"
   },
   {
    "duration": 0,
    "start_time": "2022-03-23T12:39:50.969Z"
   },
   {
    "duration": 0,
    "start_time": "2022-03-23T12:39:50.970Z"
   },
   {
    "duration": 0,
    "start_time": "2022-03-23T12:39:50.971Z"
   },
   {
    "duration": 0,
    "start_time": "2022-03-23T12:39:50.972Z"
   },
   {
    "duration": 0,
    "start_time": "2022-03-23T12:39:50.973Z"
   },
   {
    "duration": 0,
    "start_time": "2022-03-23T12:39:50.975Z"
   },
   {
    "duration": 0,
    "start_time": "2022-03-23T12:39:50.976Z"
   },
   {
    "duration": 0,
    "start_time": "2022-03-23T12:39:50.977Z"
   },
   {
    "duration": 0,
    "start_time": "2022-03-23T12:39:50.978Z"
   },
   {
    "duration": 0,
    "start_time": "2022-03-23T12:39:50.979Z"
   },
   {
    "duration": 0,
    "start_time": "2022-03-23T12:39:50.980Z"
   },
   {
    "duration": 0,
    "start_time": "2022-03-23T12:39:50.981Z"
   },
   {
    "duration": 16,
    "start_time": "2022-03-23T12:40:29.957Z"
   },
   {
    "duration": 266,
    "start_time": "2022-03-23T12:40:44.046Z"
   },
   {
    "duration": 2410,
    "start_time": "2022-03-23T12:40:47.307Z"
   },
   {
    "duration": 162,
    "start_time": "2022-03-23T12:41:13.846Z"
   },
   {
    "duration": 3438,
    "start_time": "2022-03-23T12:41:16.735Z"
   },
   {
    "duration": 2461,
    "start_time": "2022-03-23T12:42:39.725Z"
   },
   {
    "duration": 2457,
    "start_time": "2022-03-23T12:43:02.286Z"
   },
   {
    "duration": 2387,
    "start_time": "2022-03-23T12:53:33.235Z"
   },
   {
    "duration": 2401,
    "start_time": "2022-03-23T12:53:43.323Z"
   },
   {
    "duration": 2327,
    "start_time": "2022-03-23T12:53:50.445Z"
   },
   {
    "duration": 254,
    "start_time": "2022-03-23T12:54:30.145Z"
   },
   {
    "duration": 2442,
    "start_time": "2022-03-23T12:54:34.725Z"
   },
   {
    "duration": 3556,
    "start_time": "2022-03-23T12:54:52.075Z"
   },
   {
    "duration": 3893,
    "start_time": "2022-03-23T12:55:44.416Z"
   },
   {
    "duration": 3508,
    "start_time": "2022-03-23T13:00:07.035Z"
   },
   {
    "duration": 25,
    "start_time": "2022-03-23T13:26:58.253Z"
   },
   {
    "duration": 18,
    "start_time": "2022-03-23T13:27:05.882Z"
   },
   {
    "duration": 19,
    "start_time": "2022-03-23T13:27:17.602Z"
   },
   {
    "duration": 20,
    "start_time": "2022-03-23T13:27:27.383Z"
   },
   {
    "duration": 23,
    "start_time": "2022-03-23T13:42:25.579Z"
   },
   {
    "duration": 98,
    "start_time": "2022-03-23T13:43:23.791Z"
   },
   {
    "duration": 3714,
    "start_time": "2022-03-23T13:44:01.800Z"
   },
   {
    "duration": 8,
    "start_time": "2022-03-23T13:48:15.031Z"
   },
   {
    "duration": 9,
    "start_time": "2022-03-23T13:48:59.381Z"
   },
   {
    "duration": 7,
    "start_time": "2022-03-23T13:49:10.380Z"
   },
   {
    "duration": 3685,
    "start_time": "2022-03-23T13:49:35.321Z"
   },
   {
    "duration": 3579,
    "start_time": "2022-03-23T13:49:55.521Z"
   },
   {
    "duration": 3644,
    "start_time": "2022-03-23T13:50:54.650Z"
   },
   {
    "duration": 3781,
    "start_time": "2022-03-23T13:51:00.142Z"
   },
   {
    "duration": 3603,
    "start_time": "2022-03-23T13:53:13.052Z"
   },
   {
    "duration": 7,
    "start_time": "2022-03-23T14:45:31.400Z"
   },
   {
    "duration": 8,
    "start_time": "2022-03-23T14:45:46.171Z"
   },
   {
    "duration": 8,
    "start_time": "2022-03-23T14:46:04.761Z"
   },
   {
    "duration": 8,
    "start_time": "2022-03-23T14:46:13.098Z"
   },
   {
    "duration": 3546,
    "start_time": "2022-03-23T14:46:38.185Z"
   },
   {
    "duration": 3511,
    "start_time": "2022-03-23T14:46:49.598Z"
   },
   {
    "duration": 3571,
    "start_time": "2022-03-23T14:47:03.218Z"
   },
   {
    "duration": 3619,
    "start_time": "2022-03-23T14:47:08.447Z"
   },
   {
    "duration": 3693,
    "start_time": "2022-03-23T14:47:59.828Z"
   },
   {
    "duration": 3725,
    "start_time": "2022-03-23T14:48:16.008Z"
   },
   {
    "duration": 3656,
    "start_time": "2022-03-23T14:48:21.606Z"
   },
   {
    "duration": 3649,
    "start_time": "2022-03-23T14:49:12.418Z"
   },
   {
    "duration": 3702,
    "start_time": "2022-03-23T14:49:49.378Z"
   },
   {
    "duration": 3406,
    "start_time": "2022-03-23T14:51:32.476Z"
   },
   {
    "duration": 74,
    "start_time": "2022-03-24T10:02:09.863Z"
   },
   {
    "duration": 2781,
    "start_time": "2022-03-24T10:02:16.159Z"
   },
   {
    "duration": 24,
    "start_time": "2022-03-24T10:02:18.943Z"
   },
   {
    "duration": 43,
    "start_time": "2022-03-24T10:02:18.969Z"
   },
   {
    "duration": 7,
    "start_time": "2022-03-24T10:02:19.017Z"
   },
   {
    "duration": 19,
    "start_time": "2022-03-24T10:02:19.026Z"
   },
   {
    "duration": 47,
    "start_time": "2022-03-24T10:02:19.048Z"
   },
   {
    "duration": 31,
    "start_time": "2022-03-24T10:02:19.098Z"
   },
   {
    "duration": 27,
    "start_time": "2022-03-24T10:02:19.132Z"
   },
   {
    "duration": 67,
    "start_time": "2022-03-24T10:02:19.185Z"
   },
   {
    "duration": 32,
    "start_time": "2022-03-24T10:02:19.256Z"
   },
   {
    "duration": 98,
    "start_time": "2022-03-24T10:02:19.291Z"
   },
   {
    "duration": 2443,
    "start_time": "2022-03-24T10:02:19.391Z"
   },
   {
    "duration": 2199,
    "start_time": "2022-03-24T10:02:21.837Z"
   },
   {
    "duration": 18,
    "start_time": "2022-03-24T10:02:24.039Z"
   },
   {
    "duration": 28,
    "start_time": "2022-03-24T10:02:24.061Z"
   },
   {
    "duration": 662,
    "start_time": "2022-03-24T10:02:24.092Z"
   },
   {
    "duration": 240,
    "start_time": "2022-03-24T10:02:24.757Z"
   },
   {
    "duration": 0,
    "start_time": "2022-03-24T10:02:24.999Z"
   },
   {
    "duration": 0,
    "start_time": "2022-03-24T10:02:25.001Z"
   },
   {
    "duration": 0,
    "start_time": "2022-03-24T10:02:25.002Z"
   },
   {
    "duration": 0,
    "start_time": "2022-03-24T10:02:25.004Z"
   },
   {
    "duration": 0,
    "start_time": "2022-03-24T10:02:25.006Z"
   },
   {
    "duration": 0,
    "start_time": "2022-03-24T10:02:25.007Z"
   },
   {
    "duration": 0,
    "start_time": "2022-03-24T10:02:25.008Z"
   },
   {
    "duration": 0,
    "start_time": "2022-03-24T10:02:25.009Z"
   },
   {
    "duration": 0,
    "start_time": "2022-03-24T10:02:25.011Z"
   },
   {
    "duration": 0,
    "start_time": "2022-03-24T10:02:25.012Z"
   },
   {
    "duration": 0,
    "start_time": "2022-03-24T10:02:25.014Z"
   },
   {
    "duration": 0,
    "start_time": "2022-03-24T10:02:25.016Z"
   },
   {
    "duration": 0,
    "start_time": "2022-03-24T10:02:25.018Z"
   },
   {
    "duration": 0,
    "start_time": "2022-03-24T10:02:25.019Z"
   },
   {
    "duration": 1,
    "start_time": "2022-03-24T10:02:25.020Z"
   },
   {
    "duration": 5472,
    "start_time": "2022-03-24T10:08:27.311Z"
   },
   {
    "duration": 945,
    "start_time": "2022-03-24T10:11:38.391Z"
   },
   {
    "duration": 666,
    "start_time": "2022-03-24T10:12:50.785Z"
   },
   {
    "duration": 1028,
    "start_time": "2022-03-24T10:13:12.859Z"
   },
   {
    "duration": 1409,
    "start_time": "2022-03-24T11:35:08.869Z"
   },
   {
    "duration": 1361,
    "start_time": "2022-03-24T11:39:05.403Z"
   },
   {
    "duration": 1606,
    "start_time": "2022-03-24T11:39:17.991Z"
   },
   {
    "duration": 1300,
    "start_time": "2022-03-24T11:39:32.863Z"
   },
   {
    "duration": 1041,
    "start_time": "2022-03-24T11:40:15.472Z"
   },
   {
    "duration": 902,
    "start_time": "2022-03-24T11:40:21.495Z"
   },
   {
    "duration": 985,
    "start_time": "2022-03-24T11:40:27.033Z"
   },
   {
    "duration": 1045,
    "start_time": "2022-03-24T11:40:32.403Z"
   },
   {
    "duration": 903,
    "start_time": "2022-03-24T11:40:52.123Z"
   },
   {
    "duration": 934,
    "start_time": "2022-03-24T11:41:07.254Z"
   },
   {
    "duration": 17,
    "start_time": "2022-03-24T11:41:37.684Z"
   },
   {
    "duration": 916,
    "start_time": "2022-03-24T11:41:44.354Z"
   },
   {
    "duration": 1246,
    "start_time": "2022-03-24T11:41:55.603Z"
   },
   {
    "duration": 891,
    "start_time": "2022-03-24T11:42:07.685Z"
   },
   {
    "duration": 917,
    "start_time": "2022-03-24T11:42:15.473Z"
   },
   {
    "duration": 15,
    "start_time": "2022-03-24T11:42:31.654Z"
   },
   {
    "duration": 978,
    "start_time": "2022-03-24T11:42:43.923Z"
   },
   {
    "duration": 923,
    "start_time": "2022-03-24T11:42:57.771Z"
   },
   {
    "duration": 1033,
    "start_time": "2022-03-24T11:43:04.212Z"
   },
   {
    "duration": 1089,
    "start_time": "2022-03-24T11:43:58.113Z"
   },
   {
    "duration": 389,
    "start_time": "2022-03-24T11:44:11.712Z"
   },
   {
    "duration": 363,
    "start_time": "2022-03-24T11:44:29.413Z"
   },
   {
    "duration": 458,
    "start_time": "2022-03-24T11:44:38.720Z"
   },
   {
    "duration": 350,
    "start_time": "2022-03-24T11:44:45.363Z"
   },
   {
    "duration": 537,
    "start_time": "2022-03-24T11:45:13.127Z"
   },
   {
    "duration": 6,
    "start_time": "2022-03-24T11:46:22.762Z"
   },
   {
    "duration": 12,
    "start_time": "2022-03-24T11:46:47.843Z"
   },
   {
    "duration": 2260,
    "start_time": "2022-03-24T11:47:51.563Z"
   },
   {
    "duration": 598,
    "start_time": "2022-03-24T11:58:55.911Z"
   },
   {
    "duration": 466,
    "start_time": "2022-03-24T11:59:30.100Z"
   },
   {
    "duration": 905,
    "start_time": "2022-03-24T12:00:43.191Z"
   },
   {
    "duration": 9,
    "start_time": "2022-03-24T12:03:44.581Z"
   },
   {
    "duration": 15,
    "start_time": "2022-03-24T12:04:27.349Z"
   },
   {
    "duration": 14,
    "start_time": "2022-03-24T12:04:46.959Z"
   },
   {
    "duration": 14,
    "start_time": "2022-03-24T12:05:26.057Z"
   },
   {
    "duration": 2547,
    "start_time": "2022-03-24T12:05:32.830Z"
   },
   {
    "duration": 750,
    "start_time": "2022-03-24T12:58:23.759Z"
   },
   {
    "duration": 361,
    "start_time": "2022-03-24T12:58:30.727Z"
   },
   {
    "duration": 413,
    "start_time": "2022-03-24T12:59:03.307Z"
   },
   {
    "duration": 399,
    "start_time": "2022-03-24T12:59:20.008Z"
   },
   {
    "duration": 678,
    "start_time": "2022-03-24T12:59:42.548Z"
   },
   {
    "duration": 35,
    "start_time": "2022-03-24T13:00:57.917Z"
   },
   {
    "duration": 452,
    "start_time": "2022-03-24T13:01:13.708Z"
   },
   {
    "duration": 321,
    "start_time": "2022-03-24T13:01:42.718Z"
   },
   {
    "duration": 413,
    "start_time": "2022-03-24T13:02:26.598Z"
   },
   {
    "duration": 472,
    "start_time": "2022-03-24T13:02:38.388Z"
   },
   {
    "duration": 222,
    "start_time": "2022-03-24T13:02:57.868Z"
   },
   {
    "duration": 353,
    "start_time": "2022-03-24T13:03:06.067Z"
   },
   {
    "duration": 17,
    "start_time": "2022-03-24T13:05:50.027Z"
   },
   {
    "duration": 462,
    "start_time": "2022-03-24T13:06:41.347Z"
   },
   {
    "duration": 471,
    "start_time": "2022-03-24T13:07:15.797Z"
   },
   {
    "duration": 355,
    "start_time": "2022-03-24T13:07:38.647Z"
   },
   {
    "duration": 20,
    "start_time": "2022-03-24T13:11:05.348Z"
   },
   {
    "duration": 2678,
    "start_time": "2022-03-24T13:11:11.548Z"
   },
   {
    "duration": 19,
    "start_time": "2022-03-24T13:12:11.947Z"
   },
   {
    "duration": 3674,
    "start_time": "2022-03-24T13:12:17.028Z"
   },
   {
    "duration": 22,
    "start_time": "2022-03-24T13:12:45.057Z"
   },
   {
    "duration": 25,
    "start_time": "2022-03-24T13:13:17.766Z"
   },
   {
    "duration": 18,
    "start_time": "2022-03-24T13:13:25.207Z"
   },
   {
    "duration": 22,
    "start_time": "2022-03-24T13:13:35.978Z"
   },
   {
    "duration": 18,
    "start_time": "2022-03-24T13:14:02.056Z"
   },
   {
    "duration": 17,
    "start_time": "2022-03-24T13:15:30.268Z"
   },
   {
    "duration": 738,
    "start_time": "2022-03-24T13:15:43.237Z"
   },
   {
    "duration": 506,
    "start_time": "2022-03-24T13:16:12.388Z"
   },
   {
    "duration": 19,
    "start_time": "2022-03-24T13:30:00.917Z"
   },
   {
    "duration": 18,
    "start_time": "2022-03-24T13:30:11.407Z"
   },
   {
    "duration": 2531,
    "start_time": "2022-03-24T13:30:15.927Z"
   },
   {
    "duration": 20,
    "start_time": "2022-03-24T13:32:11.868Z"
   },
   {
    "duration": 2626,
    "start_time": "2022-03-24T13:32:19.308Z"
   },
   {
    "duration": 23,
    "start_time": "2022-03-24T13:32:48.589Z"
   },
   {
    "duration": 2656,
    "start_time": "2022-03-24T13:33:05.946Z"
   },
   {
    "duration": 432,
    "start_time": "2022-03-24T13:33:49.868Z"
   },
   {
    "duration": 218,
    "start_time": "2022-03-24T13:33:58.438Z"
   },
   {
    "duration": 19,
    "start_time": "2022-03-24T13:38:44.388Z"
   },
   {
    "duration": 2749,
    "start_time": "2022-03-24T13:38:57.879Z"
   },
   {
    "duration": 22,
    "start_time": "2022-03-24T13:40:18.497Z"
   },
   {
    "duration": 451,
    "start_time": "2022-03-24T13:52:04.801Z"
   },
   {
    "duration": 231,
    "start_time": "2022-03-24T13:53:04.329Z"
   },
   {
    "duration": 464,
    "start_time": "2022-03-24T13:53:28.437Z"
   },
   {
    "duration": 111,
    "start_time": "2022-03-24T13:55:53.238Z"
   },
   {
    "duration": 20,
    "start_time": "2022-03-24T13:56:00.798Z"
   },
   {
    "duration": 19,
    "start_time": "2022-03-24T13:56:28.988Z"
   },
   {
    "duration": 21,
    "start_time": "2022-03-24T13:56:42.318Z"
   },
   {
    "duration": 20,
    "start_time": "2022-03-24T13:57:09.618Z"
   },
   {
    "duration": 21,
    "start_time": "2022-03-24T13:57:19.947Z"
   },
   {
    "duration": 3327,
    "start_time": "2022-03-24T13:57:27.557Z"
   },
   {
    "duration": 24,
    "start_time": "2022-03-24T15:01:33.390Z"
   },
   {
    "duration": 3179,
    "start_time": "2022-03-24T15:01:40.820Z"
   },
   {
    "duration": 24,
    "start_time": "2022-03-24T15:02:30.299Z"
   },
   {
    "duration": 4900,
    "start_time": "2022-03-24T15:02:37.699Z"
   },
   {
    "duration": 664,
    "start_time": "2022-03-24T19:31:54.109Z"
   },
   {
    "duration": 17,
    "start_time": "2022-03-24T19:40:21.020Z"
   },
   {
    "duration": 17,
    "start_time": "2022-03-24T19:40:44.150Z"
   },
   {
    "duration": 14,
    "start_time": "2022-03-24T19:40:52.212Z"
   },
   {
    "duration": 14,
    "start_time": "2022-03-24T19:51:13.972Z"
   },
   {
    "duration": 1741,
    "start_time": "2022-03-24T19:55:04.002Z"
   },
   {
    "duration": 23,
    "start_time": "2022-03-24T19:55:05.746Z"
   },
   {
    "duration": 35,
    "start_time": "2022-03-24T19:55:05.773Z"
   },
   {
    "duration": 6,
    "start_time": "2022-03-24T19:55:05.810Z"
   },
   {
    "duration": 31,
    "start_time": "2022-03-24T19:55:05.820Z"
   },
   {
    "duration": 43,
    "start_time": "2022-03-24T19:55:05.854Z"
   },
   {
    "duration": 22,
    "start_time": "2022-03-24T19:55:05.900Z"
   },
   {
    "duration": 17,
    "start_time": "2022-03-24T19:55:05.924Z"
   },
   {
    "duration": 101,
    "start_time": "2022-03-24T19:55:05.945Z"
   },
   {
    "duration": 10,
    "start_time": "2022-03-24T19:55:06.048Z"
   },
   {
    "duration": 114,
    "start_time": "2022-03-24T19:55:06.061Z"
   },
   {
    "duration": 5728,
    "start_time": "2022-03-24T19:55:06.178Z"
   },
   {
    "duration": 2409,
    "start_time": "2022-03-24T19:55:11.908Z"
   },
   {
    "duration": 528,
    "start_time": "2022-03-24T19:55:14.320Z"
   },
   {
    "duration": 20,
    "start_time": "2022-03-24T19:55:14.851Z"
   },
   {
    "duration": 199,
    "start_time": "2022-03-24T19:55:14.884Z"
   },
   {
    "duration": 0,
    "start_time": "2022-03-24T19:55:15.086Z"
   },
   {
    "duration": 19,
    "start_time": "2022-03-24T19:55:39.420Z"
   },
   {
    "duration": 2621,
    "start_time": "2022-03-24T19:55:44.702Z"
   },
   {
    "duration": 7,
    "start_time": "2022-03-24T19:57:48.562Z"
   },
   {
    "duration": 19,
    "start_time": "2022-03-24T19:57:58.311Z"
   },
   {
    "duration": 5,
    "start_time": "2022-03-24T19:59:28.860Z"
   },
   {
    "duration": 2863,
    "start_time": "2022-03-24T19:59:40.981Z"
   },
   {
    "duration": 1774,
    "start_time": "2022-03-24T20:01:22.083Z"
   },
   {
    "duration": 35,
    "start_time": "2022-03-24T20:01:23.860Z"
   },
   {
    "duration": 24,
    "start_time": "2022-03-24T20:01:23.898Z"
   },
   {
    "duration": 5,
    "start_time": "2022-03-24T20:01:23.925Z"
   },
   {
    "duration": 20,
    "start_time": "2022-03-24T20:01:23.936Z"
   },
   {
    "duration": 18,
    "start_time": "2022-03-24T20:01:23.987Z"
   },
   {
    "duration": 22,
    "start_time": "2022-03-24T20:01:24.008Z"
   },
   {
    "duration": 20,
    "start_time": "2022-03-24T20:01:24.032Z"
   },
   {
    "duration": 106,
    "start_time": "2022-03-24T20:01:24.054Z"
   },
   {
    "duration": 33,
    "start_time": "2022-03-24T20:01:24.162Z"
   },
   {
    "duration": 119,
    "start_time": "2022-03-24T20:01:24.197Z"
   },
   {
    "duration": 6716,
    "start_time": "2022-03-24T20:01:24.318Z"
   },
   {
    "duration": 2313,
    "start_time": "2022-03-24T20:01:31.036Z"
   },
   {
    "duration": 681,
    "start_time": "2022-03-24T20:01:33.354Z"
   },
   {
    "duration": 15,
    "start_time": "2022-03-24T20:01:34.037Z"
   },
   {
    "duration": 42,
    "start_time": "2022-03-24T20:01:34.055Z"
   },
   {
    "duration": 23,
    "start_time": "2022-03-24T20:01:34.099Z"
   },
   {
    "duration": 2184,
    "start_time": "2022-03-24T20:01:34.125Z"
   },
   {
    "duration": 160,
    "start_time": "2022-03-24T22:32:52.048Z"
   },
   {
    "duration": 25,
    "start_time": "2022-03-24T22:33:27.328Z"
   },
   {
    "duration": 17,
    "start_time": "2022-03-24T22:33:38.158Z"
   },
   {
    "duration": 1857,
    "start_time": "2022-03-24T22:34:03.940Z"
   },
   {
    "duration": 318,
    "start_time": "2022-03-24T22:34:17.368Z"
   },
   {
    "duration": 381,
    "start_time": "2022-03-24T22:37:14.339Z"
   },
   {
    "duration": 539,
    "start_time": "2022-03-24T22:39:23.606Z"
   },
   {
    "duration": 742,
    "start_time": "2022-03-24T22:41:35.019Z"
   },
   {
    "duration": 5,
    "start_time": "2022-03-24T22:42:02.558Z"
   },
   {
    "duration": 1894,
    "start_time": "2022-03-24T22:42:04.608Z"
   },
   {
    "duration": 9,
    "start_time": "2022-03-24T22:44:23.056Z"
   },
   {
    "duration": 5,
    "start_time": "2022-03-24T22:44:32.376Z"
   },
   {
    "duration": 7,
    "start_time": "2022-03-24T22:44:37.727Z"
   },
   {
    "duration": 4,
    "start_time": "2022-03-24T22:44:49.198Z"
   },
   {
    "duration": 13,
    "start_time": "2022-03-24T22:45:00.455Z"
   },
   {
    "duration": 1410,
    "start_time": "2022-03-25T10:34:37.543Z"
   },
   {
    "duration": 18,
    "start_time": "2022-03-25T10:34:38.955Z"
   },
   {
    "duration": 23,
    "start_time": "2022-03-25T10:34:38.975Z"
   },
   {
    "duration": 5,
    "start_time": "2022-03-25T10:34:39.000Z"
   },
   {
    "duration": 30,
    "start_time": "2022-03-25T10:34:39.007Z"
   },
   {
    "duration": 14,
    "start_time": "2022-03-25T10:34:39.040Z"
   },
   {
    "duration": 20,
    "start_time": "2022-03-25T10:34:39.056Z"
   },
   {
    "duration": 16,
    "start_time": "2022-03-25T10:34:39.078Z"
   },
   {
    "duration": 88,
    "start_time": "2022-03-25T10:34:39.097Z"
   },
   {
    "duration": 9,
    "start_time": "2022-03-25T10:34:39.188Z"
   },
   {
    "duration": 93,
    "start_time": "2022-03-25T10:34:39.198Z"
   },
   {
    "duration": 3100,
    "start_time": "2022-03-25T10:34:39.293Z"
   },
   {
    "duration": 1506,
    "start_time": "2022-03-25T10:34:42.395Z"
   },
   {
    "duration": 333,
    "start_time": "2022-03-25T10:34:43.903Z"
   },
   {
    "duration": 13,
    "start_time": "2022-03-25T10:34:44.238Z"
   },
   {
    "duration": 259,
    "start_time": "2022-03-25T10:34:44.253Z"
   },
   {
    "duration": 20,
    "start_time": "2022-03-25T10:34:44.514Z"
   },
   {
    "duration": 9,
    "start_time": "2022-03-25T10:34:44.536Z"
   },
   {
    "duration": 1480,
    "start_time": "2022-03-25T10:34:44.547Z"
   },
   {
    "duration": 249,
    "start_time": "2022-03-25T10:34:46.032Z"
   },
   {
    "duration": 6,
    "start_time": "2022-03-25T10:34:46.282Z"
   },
   {
    "duration": 18,
    "start_time": "2022-03-25T10:34:46.289Z"
   },
   {
    "duration": 18,
    "start_time": "2022-03-25T10:34:46.308Z"
   },
   {
    "duration": 138,
    "start_time": "2022-03-25T10:42:36.492Z"
   },
   {
    "duration": 3,
    "start_time": "2022-03-25T10:42:49.091Z"
   },
   {
    "duration": 3,
    "start_time": "2022-03-25T10:43:06.084Z"
   },
   {
    "duration": 3,
    "start_time": "2022-03-25T10:43:06.801Z"
   },
   {
    "duration": 4,
    "start_time": "2022-03-25T10:43:52.852Z"
   },
   {
    "duration": 1480,
    "start_time": "2022-03-25T10:44:06.372Z"
   },
   {
    "duration": 401,
    "start_time": "2022-03-25T10:56:42.707Z"
   },
   {
    "duration": 112,
    "start_time": "2022-03-25T10:56:49.222Z"
   },
   {
    "duration": 5,
    "start_time": "2022-03-25T10:56:55.082Z"
   },
   {
    "duration": 17,
    "start_time": "2022-03-25T10:57:44.841Z"
   },
   {
    "duration": 5,
    "start_time": "2022-03-25T10:57:49.692Z"
   },
   {
    "duration": 5,
    "start_time": "2022-03-25T10:58:00.082Z"
   },
   {
    "duration": 9,
    "start_time": "2022-03-25T10:58:15.822Z"
   },
   {
    "duration": 4,
    "start_time": "2022-03-25T10:58:28.133Z"
   },
   {
    "duration": 4,
    "start_time": "2022-03-25T10:58:37.972Z"
   },
   {
    "duration": 178,
    "start_time": "2022-03-25T10:59:40.563Z"
   },
   {
    "duration": 158,
    "start_time": "2022-03-25T10:59:51.892Z"
   },
   {
    "duration": 168,
    "start_time": "2022-03-25T10:59:58.503Z"
   },
   {
    "duration": 4,
    "start_time": "2022-03-25T11:00:56.783Z"
   },
   {
    "duration": 1313,
    "start_time": "2022-03-25T11:01:06.073Z"
   },
   {
    "duration": 5,
    "start_time": "2022-03-25T11:01:31.182Z"
   },
   {
    "duration": 5,
    "start_time": "2022-03-25T11:01:42.005Z"
   },
   {
    "duration": 10,
    "start_time": "2022-03-25T11:01:45.013Z"
   },
   {
    "duration": 1338,
    "start_time": "2022-03-25T11:01:49.332Z"
   },
   {
    "duration": 411,
    "start_time": "2022-03-25T11:01:59.742Z"
   },
   {
    "duration": 8,
    "start_time": "2022-03-25T11:02:01.702Z"
   },
   {
    "duration": 166,
    "start_time": "2022-03-25T11:02:02.941Z"
   },
   {
    "duration": 3,
    "start_time": "2022-03-25T11:04:39.452Z"
   },
   {
    "duration": 3,
    "start_time": "2022-03-25T11:04:50.833Z"
   },
   {
    "duration": 2089,
    "start_time": "2022-03-25T11:04:54.151Z"
   },
   {
    "duration": 705,
    "start_time": "2022-03-25T11:05:31.562Z"
   },
   {
    "duration": 4,
    "start_time": "2022-03-25T11:05:33.932Z"
   },
   {
    "duration": 172,
    "start_time": "2022-03-25T11:05:40.525Z"
   },
   {
    "duration": 4,
    "start_time": "2022-03-25T11:06:04.512Z"
   },
   {
    "duration": 9,
    "start_time": "2022-03-25T11:09:09.732Z"
   },
   {
    "duration": 24,
    "start_time": "2022-03-25T11:09:34.583Z"
   },
   {
    "duration": 18,
    "start_time": "2022-03-25T11:10:36.823Z"
   },
   {
    "duration": 10,
    "start_time": "2022-03-25T11:10:44.122Z"
   },
   {
    "duration": 9,
    "start_time": "2022-03-25T11:11:46.909Z"
   },
   {
    "duration": 10,
    "start_time": "2022-03-25T11:11:54.952Z"
   },
   {
    "duration": 9,
    "start_time": "2022-03-25T11:12:04.502Z"
   },
   {
    "duration": 19,
    "start_time": "2022-03-25T11:12:38.763Z"
   },
   {
    "duration": 20,
    "start_time": "2022-03-25T11:12:58.731Z"
   },
   {
    "duration": 19,
    "start_time": "2022-03-25T11:13:31.882Z"
   },
   {
    "duration": 99,
    "start_time": "2022-03-25T11:13:40.763Z"
   },
   {
    "duration": 17,
    "start_time": "2022-03-25T11:14:06.012Z"
   },
   {
    "duration": 5,
    "start_time": "2022-03-25T11:14:44.491Z"
   },
   {
    "duration": 4,
    "start_time": "2022-03-25T11:15:11.861Z"
   },
   {
    "duration": 10,
    "start_time": "2022-03-25T11:16:30.353Z"
   },
   {
    "duration": 4,
    "start_time": "2022-03-25T11:16:41.263Z"
   },
   {
    "duration": 5,
    "start_time": "2022-03-25T11:16:53.381Z"
   },
   {
    "duration": 5,
    "start_time": "2022-03-25T11:17:07.333Z"
   },
   {
    "duration": 4,
    "start_time": "2022-03-25T11:17:13.039Z"
   },
   {
    "duration": 9,
    "start_time": "2022-03-25T11:17:23.373Z"
   },
   {
    "duration": 8,
    "start_time": "2022-03-25T11:19:03.834Z"
   },
   {
    "duration": 8,
    "start_time": "2022-03-25T11:21:57.376Z"
   },
   {
    "duration": 5,
    "start_time": "2022-03-25T11:22:10.454Z"
   },
   {
    "duration": 6,
    "start_time": "2022-03-25T11:22:49.757Z"
   },
   {
    "duration": 6,
    "start_time": "2022-03-25T11:23:01.825Z"
   },
   {
    "duration": 14,
    "start_time": "2022-03-25T11:23:55.372Z"
   },
   {
    "duration": 7,
    "start_time": "2022-03-25T11:24:21.523Z"
   },
   {
    "duration": 6,
    "start_time": "2022-03-25T11:25:01.134Z"
   },
   {
    "duration": 5,
    "start_time": "2022-03-25T11:25:08.344Z"
   },
   {
    "duration": 6,
    "start_time": "2022-03-25T11:26:07.864Z"
   },
   {
    "duration": 5,
    "start_time": "2022-03-25T11:26:50.464Z"
   },
   {
    "duration": 1245,
    "start_time": "2022-03-25T14:16:06.179Z"
   },
   {
    "duration": 18,
    "start_time": "2022-03-25T14:16:07.426Z"
   },
   {
    "duration": 52,
    "start_time": "2022-03-25T14:16:07.446Z"
   },
   {
    "duration": 12,
    "start_time": "2022-03-25T14:16:07.500Z"
   },
   {
    "duration": 27,
    "start_time": "2022-03-25T14:16:07.513Z"
   },
   {
    "duration": 11,
    "start_time": "2022-03-25T14:16:07.542Z"
   },
   {
    "duration": 56,
    "start_time": "2022-03-25T14:16:07.555Z"
   },
   {
    "duration": 40,
    "start_time": "2022-03-25T14:16:07.613Z"
   },
   {
    "duration": 42,
    "start_time": "2022-03-25T14:16:07.655Z"
   },
   {
    "duration": 46,
    "start_time": "2022-03-25T14:16:07.701Z"
   },
   {
    "duration": 69,
    "start_time": "2022-03-25T14:16:07.749Z"
   },
   {
    "duration": 3087,
    "start_time": "2022-03-25T14:16:07.820Z"
   },
   {
    "duration": 1472,
    "start_time": "2022-03-25T14:16:10.910Z"
   },
   {
    "duration": 300,
    "start_time": "2022-03-25T14:16:12.384Z"
   },
   {
    "duration": 12,
    "start_time": "2022-03-25T14:16:12.686Z"
   },
   {
    "duration": 225,
    "start_time": "2022-03-25T14:16:12.700Z"
   },
   {
    "duration": 15,
    "start_time": "2022-03-25T14:16:12.927Z"
   },
   {
    "duration": 89,
    "start_time": "2022-03-25T14:16:12.943Z"
   },
   {
    "duration": 96781,
    "start_time": "2022-03-25T14:16:13.035Z"
   },
   {
    "duration": 0,
    "start_time": "2022-03-25T14:17:49.819Z"
   },
   {
    "duration": 0,
    "start_time": "2022-03-25T14:17:49.820Z"
   },
   {
    "duration": 0,
    "start_time": "2022-03-25T14:17:49.822Z"
   },
   {
    "duration": 0,
    "start_time": "2022-03-25T14:17:49.823Z"
   },
   {
    "duration": 0,
    "start_time": "2022-03-25T14:17:49.824Z"
   },
   {
    "duration": 0,
    "start_time": "2022-03-25T14:17:49.825Z"
   },
   {
    "duration": 0,
    "start_time": "2022-03-25T14:17:49.826Z"
   },
   {
    "duration": 0,
    "start_time": "2022-03-25T14:17:49.827Z"
   },
   {
    "duration": 0,
    "start_time": "2022-03-25T14:17:49.828Z"
   },
   {
    "duration": 0,
    "start_time": "2022-03-25T14:17:49.829Z"
   },
   {
    "duration": 0,
    "start_time": "2022-03-25T14:17:49.831Z"
   },
   {
    "duration": 0,
    "start_time": "2022-03-25T14:17:49.832Z"
   },
   {
    "duration": 0,
    "start_time": "2022-03-25T14:17:49.837Z"
   },
   {
    "duration": 0,
    "start_time": "2022-03-25T14:17:49.838Z"
   },
   {
    "duration": 0,
    "start_time": "2022-03-25T14:17:49.839Z"
   },
   {
    "duration": 0,
    "start_time": "2022-03-25T14:17:49.840Z"
   },
   {
    "duration": 1077,
    "start_time": "2022-03-25T14:18:18.168Z"
   },
   {
    "duration": 274,
    "start_time": "2022-03-25T14:18:53.878Z"
   },
   {
    "duration": 142,
    "start_time": "2022-03-25T14:18:55.317Z"
   },
   {
    "duration": 4,
    "start_time": "2022-03-25T14:18:56.569Z"
   },
   {
    "duration": 7,
    "start_time": "2022-03-25T14:18:58.338Z"
   },
   {
    "duration": 10,
    "start_time": "2022-03-25T14:18:59.029Z"
   },
   {
    "duration": 3,
    "start_time": "2022-03-25T14:19:01.449Z"
   },
   {
    "duration": 3,
    "start_time": "2022-03-25T14:19:02.268Z"
   },
   {
    "duration": 4,
    "start_time": "2022-03-25T14:19:03.568Z"
   },
   {
    "duration": 3125,
    "start_time": "2022-03-25T14:19:05.029Z"
   },
   {
    "duration": 721,
    "start_time": "2022-03-25T14:19:56.818Z"
   },
   {
    "duration": 174,
    "start_time": "2022-03-25T14:19:58.838Z"
   },
   {
    "duration": 439,
    "start_time": "2022-03-25T14:24:36.921Z"
   },
   {
    "duration": 210,
    "start_time": "2022-03-25T14:24:57.208Z"
   },
   {
    "duration": 79495,
    "start_time": "2022-03-25T14:29:52.758Z"
   },
   {
    "duration": 4,
    "start_time": "2022-03-25T14:31:39.079Z"
   },
   {
    "duration": 1771,
    "start_time": "2022-03-25T14:32:02.054Z"
   },
   {
    "duration": 6,
    "start_time": "2022-03-25T14:47:40.049Z"
   },
   {
    "duration": 1396,
    "start_time": "2022-03-25T14:47:43.168Z"
   },
   {
    "duration": 4,
    "start_time": "2022-03-25T14:48:17.550Z"
   },
   {
    "duration": 1313,
    "start_time": "2022-03-25T14:48:19.208Z"
   },
   {
    "duration": 1358,
    "start_time": "2022-03-26T13:27:45.155Z"
   },
   {
    "duration": 168,
    "start_time": "2022-03-26T13:27:46.515Z"
   },
   {
    "duration": 18,
    "start_time": "2022-03-26T13:27:46.684Z"
   },
   {
    "duration": 4,
    "start_time": "2022-03-26T13:27:46.704Z"
   },
   {
    "duration": 10,
    "start_time": "2022-03-26T13:27:46.711Z"
   },
   {
    "duration": 11,
    "start_time": "2022-03-26T13:27:46.723Z"
   },
   {
    "duration": 17,
    "start_time": "2022-03-26T13:27:46.736Z"
   },
   {
    "duration": 13,
    "start_time": "2022-03-26T13:27:46.754Z"
   },
   {
    "duration": 75,
    "start_time": "2022-03-26T13:27:46.769Z"
   },
   {
    "duration": 6,
    "start_time": "2022-03-26T13:27:46.846Z"
   },
   {
    "duration": 72,
    "start_time": "2022-03-26T13:27:46.854Z"
   },
   {
    "duration": 3333,
    "start_time": "2022-03-26T13:27:46.928Z"
   },
   {
    "duration": 59062,
    "start_time": "2022-03-26T13:27:50.263Z"
   },
   {
    "duration": 3,
    "start_time": "2022-03-26T13:28:49.329Z"
   },
   {
    "duration": 1641,
    "start_time": "2022-03-26T13:28:49.334Z"
   },
   {
    "duration": 337,
    "start_time": "2022-03-26T13:28:50.976Z"
   },
   {
    "duration": 10,
    "start_time": "2022-03-26T13:28:51.315Z"
   },
   {
    "duration": 239,
    "start_time": "2022-03-26T13:28:51.326Z"
   },
   {
    "duration": 10,
    "start_time": "2022-03-26T13:28:51.567Z"
   },
   {
    "duration": 8,
    "start_time": "2022-03-26T13:28:51.579Z"
   },
   {
    "duration": 1476,
    "start_time": "2022-03-26T13:28:51.589Z"
   },
   {
    "duration": 234,
    "start_time": "2022-03-26T13:28:53.066Z"
   },
   {
    "duration": 44,
    "start_time": "2022-03-26T13:28:53.302Z"
   },
   {
    "duration": 4,
    "start_time": "2022-03-26T13:28:53.348Z"
   },
   {
    "duration": 7,
    "start_time": "2022-03-26T13:28:53.353Z"
   },
   {
    "duration": 10,
    "start_time": "2022-03-26T13:28:53.362Z"
   },
   {
    "duration": 3,
    "start_time": "2022-03-26T13:28:53.374Z"
   },
   {
    "duration": 5,
    "start_time": "2022-03-26T13:28:53.378Z"
   },
   {
    "duration": 5,
    "start_time": "2022-03-26T13:28:53.384Z"
   },
   {
    "duration": 2601,
    "start_time": "2022-03-26T13:28:53.409Z"
   },
   {
    "duration": 841,
    "start_time": "2022-03-26T13:28:56.012Z"
   },
   {
    "duration": 208,
    "start_time": "2022-03-26T13:28:56.855Z"
   },
   {
    "duration": 4,
    "start_time": "2022-03-26T13:28:57.064Z"
   },
   {
    "duration": 6,
    "start_time": "2022-03-26T13:28:57.070Z"
   },
   {
    "duration": 9,
    "start_time": "2022-03-26T13:28:57.077Z"
   },
   {
    "duration": 18,
    "start_time": "2022-03-26T13:28:57.108Z"
   },
   {
    "duration": 5,
    "start_time": "2022-03-26T13:33:01.685Z"
   },
   {
    "duration": 1518,
    "start_time": "2022-03-26T13:33:06.276Z"
   },
   {
    "duration": 5,
    "start_time": "2022-03-26T13:33:11.876Z"
   },
   {
    "duration": 6,
    "start_time": "2022-03-26T13:33:13.985Z"
   },
   {
    "duration": 10,
    "start_time": "2022-03-26T13:33:17.615Z"
   },
   {
    "duration": 2457,
    "start_time": "2022-03-26T13:33:21.952Z"
   },
   {
    "duration": 787,
    "start_time": "2022-03-26T13:33:28.116Z"
   },
   {
    "duration": 200,
    "start_time": "2022-03-26T13:33:30.635Z"
   },
   {
    "duration": 6,
    "start_time": "2022-03-26T13:34:22.596Z"
   },
   {
    "duration": 4,
    "start_time": "2022-03-26T13:34:27.913Z"
   },
   {
    "duration": 8,
    "start_time": "2022-03-26T13:40:25.585Z"
   },
   {
    "duration": 10,
    "start_time": "2022-03-26T13:41:06.273Z"
   },
   {
    "duration": 4,
    "start_time": "2022-03-26T13:43:33.405Z"
   },
   {
    "duration": 595,
    "start_time": "2022-03-26T13:43:46.612Z"
   },
   {
    "duration": 4,
    "start_time": "2022-03-26T13:44:07.646Z"
   },
   {
    "duration": 5,
    "start_time": "2022-03-26T13:44:09.835Z"
   },
   {
    "duration": 9,
    "start_time": "2022-03-26T13:44:10.784Z"
   },
   {
    "duration": 1434,
    "start_time": "2022-03-26T13:44:14.483Z"
   },
   {
    "duration": 129,
    "start_time": "2022-03-26T13:44:22.076Z"
   },
   {
    "duration": 533,
    "start_time": "2022-03-26T13:44:27.585Z"
   },
   {
    "duration": 133,
    "start_time": "2022-03-26T13:44:28.516Z"
   },
   {
    "duration": 4,
    "start_time": "2022-03-26T13:44:36.755Z"
   },
   {
    "duration": 4,
    "start_time": "2022-03-26T13:44:38.124Z"
   },
   {
    "duration": 12,
    "start_time": "2022-03-26T13:44:40.126Z"
   },
   {
    "duration": 15,
    "start_time": "2022-03-26T13:45:09.355Z"
   },
   {
    "duration": 4,
    "start_time": "2022-03-26T13:45:31.447Z"
   },
   {
    "duration": 4,
    "start_time": "2022-03-26T13:45:35.876Z"
   },
   {
    "duration": 13,
    "start_time": "2022-03-26T13:46:07.195Z"
   },
   {
    "duration": 12,
    "start_time": "2022-03-26T13:46:23.826Z"
   },
   {
    "duration": 5,
    "start_time": "2022-03-26T13:46:32.187Z"
   },
   {
    "duration": 224,
    "start_time": "2022-03-26T15:23:37.679Z"
   },
   {
    "duration": 214,
    "start_time": "2022-03-26T15:23:55.556Z"
   },
   {
    "duration": 4,
    "start_time": "2022-03-26T15:24:58.240Z"
   },
   {
    "duration": 537,
    "start_time": "2022-03-26T15:25:00.951Z"
   },
   {
    "duration": 4,
    "start_time": "2022-03-26T15:25:17.820Z"
   },
   {
    "duration": 6,
    "start_time": "2022-03-26T15:25:20.391Z"
   },
   {
    "duration": 11,
    "start_time": "2022-03-26T15:25:21.850Z"
   },
   {
    "duration": 1345,
    "start_time": "2022-03-26T15:25:23.869Z"
   },
   {
    "duration": 10,
    "start_time": "2022-03-26T15:26:55.131Z"
   },
   {
    "duration": 9,
    "start_time": "2022-03-26T15:28:03.841Z"
   },
   {
    "duration": 17,
    "start_time": "2022-03-26T15:29:36.069Z"
   },
   {
    "duration": 4,
    "start_time": "2022-03-26T15:29:42.929Z"
   },
   {
    "duration": 1429,
    "start_time": "2022-03-26T15:29:45.361Z"
   },
   {
    "duration": 4,
    "start_time": "2022-03-26T15:30:42.941Z"
   },
   {
    "duration": 5,
    "start_time": "2022-03-26T15:30:46.042Z"
   },
   {
    "duration": 9,
    "start_time": "2022-03-26T15:30:56.062Z"
   },
   {
    "duration": 2079,
    "start_time": "2022-03-26T15:30:59.431Z"
   },
   {
    "duration": 747,
    "start_time": "2022-03-26T15:31:09.420Z"
   },
   {
    "duration": 185,
    "start_time": "2022-03-26T15:31:11.551Z"
   },
   {
    "duration": 11,
    "start_time": "2022-03-26T15:33:46.920Z"
   },
   {
    "duration": 4,
    "start_time": "2022-03-26T15:34:44.082Z"
   },
   {
    "duration": 1086,
    "start_time": "2022-03-26T15:34:47.871Z"
   },
   {
    "duration": 4,
    "start_time": "2022-03-26T15:35:36.559Z"
   },
   {
    "duration": 965,
    "start_time": "2022-03-26T15:35:38.910Z"
   },
   {
    "duration": 4,
    "start_time": "2022-03-26T15:36:09.931Z"
   },
   {
    "duration": 5,
    "start_time": "2022-03-26T15:36:12.281Z"
   },
   {
    "duration": 10,
    "start_time": "2022-03-26T15:36:14.078Z"
   },
   {
    "duration": 2265,
    "start_time": "2022-03-26T15:36:16.451Z"
   },
   {
    "duration": 17,
    "start_time": "2022-03-26T15:36:22.200Z"
   },
   {
    "duration": 650,
    "start_time": "2022-03-26T15:36:23.981Z"
   },
   {
    "duration": 153,
    "start_time": "2022-03-26T15:36:25.630Z"
   },
   {
    "duration": 185,
    "start_time": "2022-03-26T15:37:30.540Z"
   },
   {
    "duration": 4,
    "start_time": "2022-03-26T15:38:22.917Z"
   },
   {
    "duration": 9,
    "start_time": "2022-03-26T15:38:27.630Z"
   },
   {
    "duration": 963,
    "start_time": "2022-03-26T15:38:31.478Z"
   },
   {
    "duration": 4,
    "start_time": "2022-03-26T15:39:52.860Z"
   },
   {
    "duration": 11,
    "start_time": "2022-03-26T15:39:56.518Z"
   },
   {
    "duration": 923,
    "start_time": "2022-03-26T15:40:01.951Z"
   },
   {
    "duration": 4,
    "start_time": "2022-03-26T15:40:31.411Z"
   },
   {
    "duration": 946,
    "start_time": "2022-03-26T15:40:33.865Z"
   },
   {
    "duration": 4,
    "start_time": "2022-03-26T15:41:29.022Z"
   },
   {
    "duration": 959,
    "start_time": "2022-03-26T15:41:32.700Z"
   },
   {
    "duration": 10,
    "start_time": "2022-03-26T15:41:47.649Z"
   },
   {
    "duration": 5,
    "start_time": "2022-03-26T15:42:02.889Z"
   },
   {
    "duration": 968,
    "start_time": "2022-03-26T15:42:05.012Z"
   },
   {
    "duration": 4,
    "start_time": "2022-03-26T15:42:56.538Z"
   },
   {
    "duration": 907,
    "start_time": "2022-03-26T15:42:59.051Z"
   },
   {
    "duration": 4,
    "start_time": "2022-03-26T15:44:02.690Z"
   },
   {
    "duration": 50,
    "start_time": "2022-03-26T16:00:12.522Z"
   },
   {
    "duration": 1421,
    "start_time": "2022-03-26T16:00:19.522Z"
   },
   {
    "duration": 18,
    "start_time": "2022-03-26T16:00:20.945Z"
   },
   {
    "duration": 14,
    "start_time": "2022-03-26T16:00:20.965Z"
   },
   {
    "duration": 10,
    "start_time": "2022-03-26T16:00:20.981Z"
   },
   {
    "duration": 17,
    "start_time": "2022-03-26T16:00:20.992Z"
   },
   {
    "duration": 23,
    "start_time": "2022-03-26T16:00:21.010Z"
   },
   {
    "duration": 16,
    "start_time": "2022-03-26T16:00:21.034Z"
   },
   {
    "duration": 14,
    "start_time": "2022-03-26T16:00:21.051Z"
   },
   {
    "duration": 76,
    "start_time": "2022-03-26T16:00:21.067Z"
   },
   {
    "duration": 8,
    "start_time": "2022-03-26T16:00:21.146Z"
   },
   {
    "duration": 98,
    "start_time": "2022-03-26T16:00:21.156Z"
   },
   {
    "duration": 3267,
    "start_time": "2022-03-26T16:00:21.256Z"
   },
   {
    "duration": 1954,
    "start_time": "2022-03-26T16:00:24.524Z"
   },
   {
    "duration": 313,
    "start_time": "2022-03-26T16:00:26.480Z"
   },
   {
    "duration": 10,
    "start_time": "2022-03-26T16:00:26.795Z"
   },
   {
    "duration": 412,
    "start_time": "2022-03-26T16:00:26.807Z"
   },
   {
    "duration": 208,
    "start_time": "2022-03-26T16:00:27.221Z"
   },
   {
    "duration": 10,
    "start_time": "2022-03-26T16:00:27.432Z"
   },
   {
    "duration": 13,
    "start_time": "2022-03-26T16:00:27.444Z"
   },
   {
    "duration": 115,
    "start_time": "2022-03-26T16:00:27.459Z"
   },
   {
    "duration": 0,
    "start_time": "2022-03-26T16:00:27.576Z"
   },
   {
    "duration": 0,
    "start_time": "2022-03-26T16:00:27.577Z"
   },
   {
    "duration": 0,
    "start_time": "2022-03-26T16:00:27.579Z"
   },
   {
    "duration": 0,
    "start_time": "2022-03-26T16:00:27.580Z"
   },
   {
    "duration": 0,
    "start_time": "2022-03-26T16:00:27.581Z"
   },
   {
    "duration": 0,
    "start_time": "2022-03-26T16:00:27.582Z"
   },
   {
    "duration": 0,
    "start_time": "2022-03-26T16:00:27.583Z"
   },
   {
    "duration": 0,
    "start_time": "2022-03-26T16:00:27.584Z"
   },
   {
    "duration": 0,
    "start_time": "2022-03-26T16:00:27.585Z"
   },
   {
    "duration": 0,
    "start_time": "2022-03-26T16:00:27.586Z"
   },
   {
    "duration": 0,
    "start_time": "2022-03-26T16:00:27.587Z"
   },
   {
    "duration": 0,
    "start_time": "2022-03-26T16:00:27.588Z"
   },
   {
    "duration": 0,
    "start_time": "2022-03-26T16:00:27.588Z"
   },
   {
    "duration": 0,
    "start_time": "2022-03-26T16:00:27.590Z"
   },
   {
    "duration": 0,
    "start_time": "2022-03-26T16:00:27.591Z"
   },
   {
    "duration": 0,
    "start_time": "2022-03-26T16:00:27.592Z"
   },
   {
    "duration": 482,
    "start_time": "2022-03-26T16:01:43.291Z"
   },
   {
    "duration": 712,
    "start_time": "2022-03-26T16:02:06.382Z"
   },
   {
    "duration": 606,
    "start_time": "2022-03-26T16:02:55.552Z"
   },
   {
    "duration": 395,
    "start_time": "2022-03-26T16:03:45.084Z"
   },
   {
    "duration": 260,
    "start_time": "2022-03-26T16:03:54.254Z"
   },
   {
    "duration": 545,
    "start_time": "2022-03-26T16:04:02.253Z"
   },
   {
    "duration": 106,
    "start_time": "2022-03-26T16:04:25.666Z"
   },
   {
    "duration": 108,
    "start_time": "2022-03-26T16:04:32.392Z"
   },
   {
    "duration": 126,
    "start_time": "2022-03-26T16:04:38.632Z"
   },
   {
    "duration": 590,
    "start_time": "2022-03-26T16:04:48.753Z"
   },
   {
    "duration": 263,
    "start_time": "2022-03-26T16:05:34.683Z"
   },
   {
    "duration": 12,
    "start_time": "2022-03-26T16:05:47.284Z"
   },
   {
    "duration": 197,
    "start_time": "2022-03-26T16:05:50.861Z"
   },
   {
    "duration": 594,
    "start_time": "2022-03-26T16:06:03.783Z"
   },
   {
    "duration": 12,
    "start_time": "2022-03-26T16:06:44.984Z"
   },
   {
    "duration": 11,
    "start_time": "2022-03-26T16:07:10.832Z"
   },
   {
    "duration": 10,
    "start_time": "2022-03-26T16:07:22.642Z"
   },
   {
    "duration": 11,
    "start_time": "2022-03-26T16:07:50.633Z"
   },
   {
    "duration": 14,
    "start_time": "2022-03-26T16:09:41.152Z"
   },
   {
    "duration": 14,
    "start_time": "2022-03-26T16:11:28.356Z"
   },
   {
    "duration": 14,
    "start_time": "2022-03-26T16:13:09.982Z"
   },
   {
    "duration": 14,
    "start_time": "2022-03-26T16:13:32.432Z"
   },
   {
    "duration": 11,
    "start_time": "2022-03-26T16:14:26.481Z"
   },
   {
    "duration": 11,
    "start_time": "2022-03-26T16:14:31.104Z"
   },
   {
    "duration": 9,
    "start_time": "2022-03-26T16:14:46.903Z"
   },
   {
    "duration": 13,
    "start_time": "2022-03-26T16:15:36.130Z"
   },
   {
    "duration": 10,
    "start_time": "2022-03-26T16:15:44.052Z"
   },
   {
    "duration": 13,
    "start_time": "2022-03-26T16:16:58.020Z"
   },
   {
    "duration": 1623,
    "start_time": "2022-03-26T16:17:44.038Z"
   },
   {
    "duration": 24,
    "start_time": "2022-03-26T16:17:45.664Z"
   },
   {
    "duration": 14,
    "start_time": "2022-03-26T16:17:45.690Z"
   },
   {
    "duration": 7,
    "start_time": "2022-03-26T16:17:45.706Z"
   },
   {
    "duration": 17,
    "start_time": "2022-03-26T16:17:45.715Z"
   },
   {
    "duration": 11,
    "start_time": "2022-03-26T16:17:45.734Z"
   },
   {
    "duration": 13,
    "start_time": "2022-03-26T16:17:45.746Z"
   },
   {
    "duration": 10,
    "start_time": "2022-03-26T16:17:45.761Z"
   },
   {
    "duration": 68,
    "start_time": "2022-03-26T16:17:45.773Z"
   },
   {
    "duration": 7,
    "start_time": "2022-03-26T16:17:45.843Z"
   },
   {
    "duration": 60,
    "start_time": "2022-03-26T16:17:45.851Z"
   },
   {
    "duration": 2995,
    "start_time": "2022-03-26T16:17:45.913Z"
   },
   {
    "duration": 1413,
    "start_time": "2022-03-26T16:17:48.909Z"
   },
   {
    "duration": 297,
    "start_time": "2022-03-26T16:17:50.323Z"
   },
   {
    "duration": 17,
    "start_time": "2022-03-26T16:17:50.621Z"
   },
   {
    "duration": 666,
    "start_time": "2022-03-26T16:17:50.640Z"
   },
   {
    "duration": 343,
    "start_time": "2022-03-26T16:17:51.308Z"
   },
   {
    "duration": 15,
    "start_time": "2022-03-26T16:17:51.653Z"
   },
   {
    "duration": 17,
    "start_time": "2022-03-26T16:17:51.670Z"
   },
   {
    "duration": 192,
    "start_time": "2022-03-26T16:17:51.689Z"
   },
   {
    "duration": 0,
    "start_time": "2022-03-26T16:17:51.884Z"
   },
   {
    "duration": 0,
    "start_time": "2022-03-26T16:17:51.885Z"
   },
   {
    "duration": 0,
    "start_time": "2022-03-26T16:17:51.887Z"
   },
   {
    "duration": 0,
    "start_time": "2022-03-26T16:17:51.888Z"
   },
   {
    "duration": 0,
    "start_time": "2022-03-26T16:17:51.889Z"
   },
   {
    "duration": 0,
    "start_time": "2022-03-26T16:17:51.891Z"
   },
   {
    "duration": 0,
    "start_time": "2022-03-26T16:17:51.892Z"
   },
   {
    "duration": 0,
    "start_time": "2022-03-26T16:17:51.893Z"
   },
   {
    "duration": 0,
    "start_time": "2022-03-26T16:17:51.894Z"
   },
   {
    "duration": 0,
    "start_time": "2022-03-26T16:17:51.896Z"
   },
   {
    "duration": 0,
    "start_time": "2022-03-26T16:17:51.897Z"
   },
   {
    "duration": 0,
    "start_time": "2022-03-26T16:17:51.899Z"
   },
   {
    "duration": 0,
    "start_time": "2022-03-26T16:17:51.901Z"
   },
   {
    "duration": 0,
    "start_time": "2022-03-26T16:17:51.902Z"
   },
   {
    "duration": 0,
    "start_time": "2022-03-26T16:17:51.904Z"
   },
   {
    "duration": 0,
    "start_time": "2022-03-26T16:17:51.933Z"
   },
   {
    "duration": 5,
    "start_time": "2022-03-26T16:19:15.136Z"
   },
   {
    "duration": 1283,
    "start_time": "2022-03-26T16:19:17.899Z"
   },
   {
    "duration": 503,
    "start_time": "2022-03-26T16:20:11.708Z"
   },
   {
    "duration": 64,
    "start_time": "2022-03-26T16:20:13.519Z"
   },
   {
    "duration": 5,
    "start_time": "2022-03-26T16:20:15.417Z"
   },
   {
    "duration": 6,
    "start_time": "2022-03-26T16:20:18.118Z"
   },
   {
    "duration": 10,
    "start_time": "2022-03-26T16:20:20.109Z"
   },
   {
    "duration": 3,
    "start_time": "2022-03-26T16:20:23.840Z"
   },
   {
    "duration": 3,
    "start_time": "2022-03-26T16:20:25.799Z"
   },
   {
    "duration": 4,
    "start_time": "2022-03-26T16:20:28.221Z"
   },
   {
    "duration": 2115,
    "start_time": "2022-03-26T16:20:30.620Z"
   },
   {
    "duration": 632,
    "start_time": "2022-03-26T16:20:47.190Z"
   },
   {
    "duration": 146,
    "start_time": "2022-03-26T16:20:49.772Z"
   },
   {
    "duration": 4,
    "start_time": "2022-03-26T16:21:53.688Z"
   },
   {
    "duration": 13,
    "start_time": "2022-03-26T16:22:17.288Z"
   },
   {
    "duration": 13,
    "start_time": "2022-03-26T16:22:31.486Z"
   },
   {
    "duration": 256,
    "start_time": "2022-03-26T16:23:13.279Z"
   },
   {
    "duration": 11,
    "start_time": "2022-03-26T16:23:17.378Z"
   },
   {
    "duration": 11,
    "start_time": "2022-03-26T16:23:23.316Z"
   },
   {
    "duration": 11,
    "start_time": "2022-03-26T16:23:27.610Z"
   },
   {
    "duration": 209,
    "start_time": "2022-03-26T16:23:30.429Z"
   },
   {
    "duration": 13,
    "start_time": "2022-03-26T16:23:54.869Z"
   },
   {
    "duration": 253,
    "start_time": "2022-03-26T16:25:29.996Z"
   },
   {
    "duration": 11,
    "start_time": "2022-03-26T16:26:36.595Z"
   },
   {
    "duration": 141,
    "start_time": "2022-03-26T16:26:49.428Z"
   },
   {
    "duration": 4,
    "start_time": "2022-03-26T16:27:06.855Z"
   },
   {
    "duration": 14,
    "start_time": "2022-03-26T16:27:11.258Z"
   },
   {
    "duration": 123,
    "start_time": "2022-03-26T16:27:20.998Z"
   },
   {
    "duration": 245,
    "start_time": "2022-03-26T16:27:29.029Z"
   },
   {
    "duration": 13,
    "start_time": "2022-03-26T16:27:51.458Z"
   },
   {
    "duration": 310,
    "start_time": "2022-03-26T16:28:06.097Z"
   },
   {
    "duration": 13,
    "start_time": "2022-03-26T16:28:24.947Z"
   },
   {
    "duration": 10,
    "start_time": "2022-03-26T16:30:11.700Z"
   },
   {
    "duration": 238,
    "start_time": "2022-03-26T16:30:18.598Z"
   },
   {
    "duration": 10,
    "start_time": "2022-03-26T16:32:48.038Z"
   },
   {
    "duration": 225,
    "start_time": "2022-03-26T16:32:51.354Z"
   },
   {
    "duration": 13,
    "start_time": "2022-03-26T16:33:06.518Z"
   },
   {
    "duration": 3,
    "start_time": "2022-03-26T16:36:49.699Z"
   },
   {
    "duration": 10,
    "start_time": "2022-03-26T16:36:54.797Z"
   },
   {
    "duration": 163,
    "start_time": "2022-03-26T16:37:04.659Z"
   },
   {
    "duration": 12,
    "start_time": "2022-03-26T16:37:11.867Z"
   },
   {
    "duration": 10,
    "start_time": "2022-03-26T16:38:04.169Z"
   },
   {
    "duration": 525,
    "start_time": "2022-03-26T16:38:42.589Z"
   },
   {
    "duration": 14,
    "start_time": "2022-03-26T16:38:47.738Z"
   },
   {
    "duration": 9,
    "start_time": "2022-03-26T16:39:27.447Z"
   },
   {
    "duration": 568,
    "start_time": "2022-03-26T16:39:32.099Z"
   },
   {
    "duration": 9,
    "start_time": "2022-03-26T16:39:45.099Z"
   },
   {
    "duration": 11,
    "start_time": "2022-03-26T16:40:10.239Z"
   },
   {
    "duration": 885,
    "start_time": "2022-03-26T16:42:32.209Z"
   },
   {
    "duration": 5,
    "start_time": "2022-03-26T16:42:35.675Z"
   },
   {
    "duration": 1018,
    "start_time": "2022-03-26T16:42:37.469Z"
   },
   {
    "duration": 4,
    "start_time": "2022-03-26T16:45:31.908Z"
   },
   {
    "duration": 936,
    "start_time": "2022-03-26T16:45:34.026Z"
   },
   {
    "duration": 5,
    "start_time": "2022-03-26T16:46:35.549Z"
   },
   {
    "duration": 1394,
    "start_time": "2022-03-26T16:46:38.860Z"
   },
   {
    "duration": 5,
    "start_time": "2022-03-26T16:47:08.379Z"
   },
   {
    "duration": 7,
    "start_time": "2022-03-26T16:47:09.963Z"
   },
   {
    "duration": 13,
    "start_time": "2022-03-26T16:47:11.090Z"
   },
   {
    "duration": 3,
    "start_time": "2022-03-26T16:47:13.709Z"
   },
   {
    "duration": 1707,
    "start_time": "2022-03-26T16:47:19.538Z"
   },
   {
    "duration": 525,
    "start_time": "2022-03-26T16:47:27.709Z"
   },
   {
    "duration": 137,
    "start_time": "2022-03-26T16:47:28.889Z"
   },
   {
    "duration": 5493,
    "start_time": "2022-03-26T16:49:20.089Z"
   },
   {
    "duration": 11,
    "start_time": "2022-03-26T16:53:55.240Z"
   },
   {
    "duration": 15,
    "start_time": "2022-03-26T16:54:40.278Z"
   },
   {
    "duration": 13,
    "start_time": "2022-03-26T16:55:03.018Z"
   },
   {
    "duration": 1244,
    "start_time": "2022-03-26T16:55:28.939Z"
   },
   {
    "duration": 12,
    "start_time": "2022-03-26T16:58:34.577Z"
   },
   {
    "duration": 11,
    "start_time": "2022-03-26T17:01:15.769Z"
   },
   {
    "duration": 11,
    "start_time": "2022-03-26T17:03:24.857Z"
   },
   {
    "duration": 1181,
    "start_time": "2022-03-26T17:03:44.331Z"
   },
   {
    "duration": 1275,
    "start_time": "2022-03-26T17:13:16.878Z"
   },
   {
    "duration": 18,
    "start_time": "2022-03-26T17:13:18.155Z"
   },
   {
    "duration": 16,
    "start_time": "2022-03-26T17:13:18.174Z"
   },
   {
    "duration": 5,
    "start_time": "2022-03-26T17:13:18.192Z"
   },
   {
    "duration": 13,
    "start_time": "2022-03-26T17:13:18.198Z"
   },
   {
    "duration": 11,
    "start_time": "2022-03-26T17:13:18.232Z"
   },
   {
    "duration": 17,
    "start_time": "2022-03-26T17:13:18.245Z"
   },
   {
    "duration": 11,
    "start_time": "2022-03-26T17:13:18.263Z"
   },
   {
    "duration": 63,
    "start_time": "2022-03-26T17:13:18.276Z"
   },
   {
    "duration": 7,
    "start_time": "2022-03-26T17:13:18.342Z"
   },
   {
    "duration": 52,
    "start_time": "2022-03-26T17:13:18.350Z"
   },
   {
    "duration": 3011,
    "start_time": "2022-03-26T17:13:18.404Z"
   },
   {
    "duration": 1444,
    "start_time": "2022-03-26T17:13:21.417Z"
   },
   {
    "duration": 290,
    "start_time": "2022-03-26T17:13:22.863Z"
   },
   {
    "duration": 11,
    "start_time": "2022-03-26T17:13:23.155Z"
   },
   {
    "duration": 217,
    "start_time": "2022-03-26T17:13:23.168Z"
   },
   {
    "duration": 12,
    "start_time": "2022-03-26T17:13:23.387Z"
   },
   {
    "duration": 33,
    "start_time": "2022-03-26T17:13:23.400Z"
   },
   {
    "duration": 763,
    "start_time": "2022-03-26T17:13:23.435Z"
   },
   {
    "duration": 13,
    "start_time": "2022-03-26T17:13:24.199Z"
   },
   {
    "duration": 123,
    "start_time": "2022-03-26T17:13:24.214Z"
   },
   {
    "duration": 0,
    "start_time": "2022-03-26T17:13:24.338Z"
   },
   {
    "duration": 0,
    "start_time": "2022-03-26T17:13:24.340Z"
   },
   {
    "duration": 0,
    "start_time": "2022-03-26T17:13:24.341Z"
   },
   {
    "duration": 0,
    "start_time": "2022-03-26T17:13:24.342Z"
   },
   {
    "duration": 0,
    "start_time": "2022-03-26T17:13:24.343Z"
   },
   {
    "duration": 0,
    "start_time": "2022-03-26T17:13:24.344Z"
   },
   {
    "duration": 0,
    "start_time": "2022-03-26T17:13:24.345Z"
   },
   {
    "duration": 0,
    "start_time": "2022-03-26T17:13:24.346Z"
   },
   {
    "duration": 0,
    "start_time": "2022-03-26T17:13:24.347Z"
   },
   {
    "duration": 0,
    "start_time": "2022-03-26T17:13:24.348Z"
   },
   {
    "duration": 0,
    "start_time": "2022-03-26T17:13:24.349Z"
   },
   {
    "duration": 0,
    "start_time": "2022-03-26T17:13:24.350Z"
   },
   {
    "duration": 0,
    "start_time": "2022-03-26T17:13:24.351Z"
   },
   {
    "duration": 0,
    "start_time": "2022-03-26T17:13:24.353Z"
   },
   {
    "duration": 0,
    "start_time": "2022-03-26T17:13:24.354Z"
   },
   {
    "duration": 0,
    "start_time": "2022-03-26T17:13:24.355Z"
   },
   {
    "duration": 4,
    "start_time": "2022-03-26T19:38:54.156Z"
   },
   {
    "duration": 858,
    "start_time": "2022-03-26T19:38:55.725Z"
   },
   {
    "duration": 345,
    "start_time": "2022-03-26T19:39:06.283Z"
   },
   {
    "duration": 42,
    "start_time": "2022-03-26T19:39:07.725Z"
   },
   {
    "duration": 4,
    "start_time": "2022-03-26T19:39:08.655Z"
   },
   {
    "duration": 6,
    "start_time": "2022-03-26T19:39:10.414Z"
   },
   {
    "duration": 8,
    "start_time": "2022-03-26T19:39:11.126Z"
   },
   {
    "duration": 3,
    "start_time": "2022-03-26T19:39:12.915Z"
   },
   {
    "duration": 3,
    "start_time": "2022-03-26T19:39:13.845Z"
   },
   {
    "duration": 4,
    "start_time": "2022-03-26T19:39:15.165Z"
   },
   {
    "duration": 2008,
    "start_time": "2022-03-26T19:39:16.626Z"
   },
   {
    "duration": 603,
    "start_time": "2022-03-26T19:39:22.115Z"
   },
   {
    "duration": 142,
    "start_time": "2022-03-26T19:39:24.675Z"
   },
   {
    "duration": 23,
    "start_time": "2022-03-26T19:45:58.915Z"
   },
   {
    "duration": 1952,
    "start_time": "2022-03-27T09:31:18.551Z"
   },
   {
    "duration": 63,
    "start_time": "2022-03-27T09:31:20.507Z"
   },
   {
    "duration": 24,
    "start_time": "2022-03-27T09:31:20.572Z"
   },
   {
    "duration": 5,
    "start_time": "2022-03-27T09:31:20.599Z"
   },
   {
    "duration": 15,
    "start_time": "2022-03-27T09:31:20.607Z"
   },
   {
    "duration": 54,
    "start_time": "2022-03-27T09:31:20.624Z"
   },
   {
    "duration": 20,
    "start_time": "2022-03-27T09:31:20.681Z"
   },
   {
    "duration": 17,
    "start_time": "2022-03-27T09:31:20.703Z"
   },
   {
    "duration": 100,
    "start_time": "2022-03-27T09:31:20.722Z"
   },
   {
    "duration": 10,
    "start_time": "2022-03-27T09:31:20.825Z"
   },
   {
    "duration": 99,
    "start_time": "2022-03-27T09:31:20.837Z"
   },
   {
    "duration": 5315,
    "start_time": "2022-03-27T09:31:20.938Z"
   },
   {
    "duration": 2318,
    "start_time": "2022-03-27T09:31:26.256Z"
   },
   {
    "duration": 513,
    "start_time": "2022-03-27T09:31:28.581Z"
   },
   {
    "duration": 15,
    "start_time": "2022-03-27T09:31:29.096Z"
   },
   {
    "duration": 381,
    "start_time": "2022-03-27T09:31:29.113Z"
   },
   {
    "duration": 16,
    "start_time": "2022-03-27T09:31:29.496Z"
   },
   {
    "duration": 29,
    "start_time": "2022-03-27T09:31:29.515Z"
   },
   {
    "duration": 1464,
    "start_time": "2022-03-27T09:31:29.546Z"
   },
   {
    "duration": 20,
    "start_time": "2022-03-27T09:31:31.012Z"
   },
   {
    "duration": 6,
    "start_time": "2022-03-27T09:31:31.034Z"
   },
   {
    "duration": 1376,
    "start_time": "2022-03-27T09:31:31.042Z"
   },
   {
    "duration": 505,
    "start_time": "2022-03-27T09:31:32.420Z"
   },
   {
    "duration": 68,
    "start_time": "2022-03-27T09:31:32.928Z"
   },
   {
    "duration": 6,
    "start_time": "2022-03-27T09:31:32.999Z"
   },
   {
    "duration": 8,
    "start_time": "2022-03-27T09:31:33.008Z"
   },
   {
    "duration": 16,
    "start_time": "2022-03-27T09:31:33.018Z"
   },
   {
    "duration": 217,
    "start_time": "2022-03-27T09:31:33.036Z"
   },
   {
    "duration": 0,
    "start_time": "2022-03-27T09:31:33.256Z"
   },
   {
    "duration": 0,
    "start_time": "2022-03-27T09:31:33.258Z"
   },
   {
    "duration": 0,
    "start_time": "2022-03-27T09:31:33.273Z"
   },
   {
    "duration": 0,
    "start_time": "2022-03-27T09:31:33.275Z"
   },
   {
    "duration": 0,
    "start_time": "2022-03-27T09:31:33.278Z"
   },
   {
    "duration": 0,
    "start_time": "2022-03-27T09:31:33.281Z"
   },
   {
    "duration": 0,
    "start_time": "2022-03-27T09:31:33.282Z"
   },
   {
    "duration": 0,
    "start_time": "2022-03-27T09:31:33.285Z"
   },
   {
    "duration": 0,
    "start_time": "2022-03-27T09:31:33.287Z"
   },
   {
    "duration": 0,
    "start_time": "2022-03-27T09:31:33.290Z"
   },
   {
    "duration": 17,
    "start_time": "2022-03-27T09:32:30.120Z"
   },
   {
    "duration": 17,
    "start_time": "2022-03-27T09:32:46.710Z"
   },
   {
    "duration": 16,
    "start_time": "2022-03-27T09:40:32.179Z"
   },
   {
    "duration": 6,
    "start_time": "2022-03-27T09:59:00.422Z"
   },
   {
    "duration": 1337,
    "start_time": "2022-03-27T09:59:01.681Z"
   },
   {
    "duration": 6,
    "start_time": "2022-03-27T09:59:24.821Z"
   },
   {
    "duration": 8,
    "start_time": "2022-03-27T09:59:25.790Z"
   },
   {
    "duration": 32,
    "start_time": "2022-03-27T09:59:27.100Z"
   },
   {
    "duration": 6,
    "start_time": "2022-03-27T10:03:01.750Z"
   },
   {
    "duration": 139,
    "start_time": "2022-03-27T10:03:26.820Z"
   },
   {
    "duration": 16,
    "start_time": "2022-03-27T10:03:31.998Z"
   },
   {
    "duration": 230,
    "start_time": "2022-03-27T10:04:06.390Z"
   },
   {
    "duration": 20,
    "start_time": "2022-03-27T10:04:17.030Z"
   },
   {
    "duration": 235,
    "start_time": "2022-03-27T10:04:50.361Z"
   },
   {
    "duration": 222,
    "start_time": "2022-03-27T10:05:02.990Z"
   },
   {
    "duration": 304,
    "start_time": "2022-03-27T10:05:07.461Z"
   },
   {
    "duration": 567,
    "start_time": "2022-03-27T10:05:25.961Z"
   },
   {
    "duration": 503,
    "start_time": "2022-03-27T10:05:35.941Z"
   },
   {
    "duration": 528,
    "start_time": "2022-03-27T10:06:48.749Z"
   },
   {
    "duration": 17,
    "start_time": "2022-03-27T10:07:00.780Z"
   },
   {
    "duration": 8,
    "start_time": "2022-03-27T10:08:59.220Z"
   },
   {
    "duration": 518,
    "start_time": "2022-03-27T10:09:08.759Z"
   },
   {
    "duration": 18,
    "start_time": "2022-03-27T10:09:17.329Z"
   },
   {
    "duration": 7,
    "start_time": "2022-03-27T10:10:00.140Z"
   },
   {
    "duration": 215,
    "start_time": "2022-03-27T10:10:05.890Z"
   },
   {
    "duration": 7,
    "start_time": "2022-03-27T10:10:40.589Z"
   },
   {
    "duration": 525,
    "start_time": "2022-03-27T10:10:43.257Z"
   },
   {
    "duration": 20,
    "start_time": "2022-03-27T10:10:50.319Z"
   },
   {
    "duration": 7,
    "start_time": "2022-03-27T10:11:07.300Z"
   },
   {
    "duration": 20,
    "start_time": "2022-03-27T10:11:11.659Z"
   },
   {
    "duration": 7,
    "start_time": "2022-03-27T10:11:24.949Z"
   },
   {
    "duration": 19,
    "start_time": "2022-03-27T10:11:33.819Z"
   },
   {
    "duration": 332,
    "start_time": "2022-03-27T10:12:52.485Z"
   },
   {
    "duration": 80,
    "start_time": "2022-03-27T10:52:42.894Z"
   },
   {
    "duration": 2046,
    "start_time": "2022-03-27T10:52:51.752Z"
   },
   {
    "duration": 27,
    "start_time": "2022-03-27T10:52:53.802Z"
   },
   {
    "duration": 27,
    "start_time": "2022-03-27T10:52:53.831Z"
   },
   {
    "duration": 5,
    "start_time": "2022-03-27T10:52:53.860Z"
   },
   {
    "duration": 14,
    "start_time": "2022-03-27T10:52:53.869Z"
   },
   {
    "duration": 16,
    "start_time": "2022-03-27T10:52:53.884Z"
   },
   {
    "duration": 59,
    "start_time": "2022-03-27T10:52:53.902Z"
   },
   {
    "duration": 30,
    "start_time": "2022-03-27T10:52:53.964Z"
   },
   {
    "duration": 120,
    "start_time": "2022-03-27T10:52:53.997Z"
   },
   {
    "duration": 27,
    "start_time": "2022-03-27T10:52:54.120Z"
   },
   {
    "duration": 97,
    "start_time": "2022-03-27T10:52:54.149Z"
   },
   {
    "duration": 5491,
    "start_time": "2022-03-27T10:52:54.248Z"
   },
   {
    "duration": 2415,
    "start_time": "2022-03-27T10:52:59.741Z"
   },
   {
    "duration": 496,
    "start_time": "2022-03-27T10:53:02.161Z"
   },
   {
    "duration": 359,
    "start_time": "2022-03-27T10:53:02.660Z"
   },
   {
    "duration": 4,
    "start_time": "2022-03-27T10:53:03.021Z"
   },
   {
    "duration": 2094,
    "start_time": "2022-03-27T10:53:03.043Z"
   },
   {
    "duration": 1213,
    "start_time": "2022-03-27T10:53:05.139Z"
   },
   {
    "duration": 165,
    "start_time": "2022-03-27T10:53:06.355Z"
   },
   {
    "duration": 5,
    "start_time": "2022-03-27T10:53:06.522Z"
   },
   {
    "duration": 18,
    "start_time": "2022-03-27T10:53:06.530Z"
   },
   {
    "duration": 18,
    "start_time": "2022-03-27T10:53:06.552Z"
   },
   {
    "duration": 209,
    "start_time": "2022-03-27T10:53:06.572Z"
   },
   {
    "duration": 0,
    "start_time": "2022-03-27T10:53:06.784Z"
   },
   {
    "duration": 0,
    "start_time": "2022-03-27T10:53:06.787Z"
   },
   {
    "duration": 0,
    "start_time": "2022-03-27T10:53:06.789Z"
   },
   {
    "duration": 0,
    "start_time": "2022-03-27T10:53:06.792Z"
   },
   {
    "duration": 0,
    "start_time": "2022-03-27T10:53:06.795Z"
   },
   {
    "duration": 0,
    "start_time": "2022-03-27T10:53:06.796Z"
   },
   {
    "duration": 0,
    "start_time": "2022-03-27T10:53:06.799Z"
   },
   {
    "duration": 0,
    "start_time": "2022-03-27T10:53:06.801Z"
   },
   {
    "duration": 0,
    "start_time": "2022-03-27T10:53:06.803Z"
   },
   {
    "duration": 0,
    "start_time": "2022-03-27T10:53:06.806Z"
   },
   {
    "duration": 4,
    "start_time": "2022-03-27T10:53:24.812Z"
   },
   {
    "duration": 5,
    "start_time": "2022-03-27T10:53:25.681Z"
   },
   {
    "duration": 7,
    "start_time": "2022-03-27T10:53:26.901Z"
   },
   {
    "duration": 2042,
    "start_time": "2022-03-27T10:53:28.301Z"
   },
   {
    "duration": 15,
    "start_time": "2022-03-27T10:54:10.262Z"
   },
   {
    "duration": 4,
    "start_time": "2022-03-27T10:54:16.211Z"
   },
   {
    "duration": 2205,
    "start_time": "2022-03-27T10:54:18.132Z"
   },
   {
    "duration": 7,
    "start_time": "2022-03-27T10:54:28.202Z"
   },
   {
    "duration": 9,
    "start_time": "2022-03-27T10:54:30.022Z"
   },
   {
    "duration": 13,
    "start_time": "2022-03-27T10:54:30.881Z"
   },
   {
    "duration": 2944,
    "start_time": "2022-03-27T10:54:33.202Z"
   },
   {
    "duration": 446,
    "start_time": "2022-03-27T11:04:12.191Z"
   },
   {
    "duration": 358,
    "start_time": "2022-03-27T11:56:18.560Z"
   },
   {
    "duration": 3343,
    "start_time": "2022-03-27T11:56:33.490Z"
   },
   {
    "duration": 20,
    "start_time": "2022-03-27T11:56:41.451Z"
   },
   {
    "duration": 336,
    "start_time": "2022-03-27T11:56:45.410Z"
   },
   {
    "duration": 439,
    "start_time": "2022-03-27T11:57:16.611Z"
   },
   {
    "duration": 653,
    "start_time": "2022-03-27T11:57:27.481Z"
   },
   {
    "duration": 12,
    "start_time": "2022-03-27T11:58:28.301Z"
   },
   {
    "duration": 16,
    "start_time": "2022-03-27T11:58:40.662Z"
   },
   {
    "duration": 14,
    "start_time": "2022-03-27T12:00:38.952Z"
   },
   {
    "duration": 16,
    "start_time": "2022-03-27T12:00:43.130Z"
   },
   {
    "duration": 731,
    "start_time": "2022-03-27T12:01:06.759Z"
   },
   {
    "duration": 36,
    "start_time": "2022-03-27T12:01:40.361Z"
   },
   {
    "duration": 3,
    "start_time": "2022-03-27T12:01:56.281Z"
   },
   {
    "duration": 2687,
    "start_time": "2022-03-27T12:01:57.280Z"
   },
   {
    "duration": 356,
    "start_time": "2022-03-27T12:02:34.490Z"
   },
   {
    "duration": 14,
    "start_time": "2022-03-27T12:03:11.892Z"
   },
   {
    "duration": 15,
    "start_time": "2022-03-27T12:03:23.809Z"
   },
   {
    "duration": 35,
    "start_time": "2022-03-27T12:03:30.520Z"
   },
   {
    "duration": 22,
    "start_time": "2022-03-27T12:03:43.440Z"
   },
   {
    "duration": 11,
    "start_time": "2022-03-27T12:04:38.491Z"
   },
   {
    "duration": 13,
    "start_time": "2022-03-27T12:04:49.731Z"
   },
   {
    "duration": 24,
    "start_time": "2022-03-27T12:06:16.152Z"
   },
   {
    "duration": 369,
    "start_time": "2022-03-27T12:06:24.171Z"
   },
   {
    "duration": 11,
    "start_time": "2022-03-27T12:06:46.761Z"
   },
   {
    "duration": 18,
    "start_time": "2022-03-27T12:07:00.331Z"
   },
   {
    "duration": 12,
    "start_time": "2022-03-27T12:07:03.162Z"
   },
   {
    "duration": 14,
    "start_time": "2022-03-27T12:07:19.311Z"
   },
   {
    "duration": 15,
    "start_time": "2022-03-27T12:08:04.261Z"
   },
   {
    "duration": 353,
    "start_time": "2022-03-27T12:08:08.491Z"
   },
   {
    "duration": 18,
    "start_time": "2022-03-27T12:08:20.011Z"
   },
   {
    "duration": 21,
    "start_time": "2022-03-27T12:08:57.891Z"
   },
   {
    "duration": 13,
    "start_time": "2022-03-27T12:09:00.610Z"
   },
   {
    "duration": 370,
    "start_time": "2022-03-27T12:09:08.640Z"
   },
   {
    "duration": 15,
    "start_time": "2022-03-27T12:09:25.864Z"
   },
   {
    "duration": 20,
    "start_time": "2022-03-27T12:09:28.292Z"
   },
   {
    "duration": 20,
    "start_time": "2022-03-27T12:09:57.663Z"
   },
   {
    "duration": 13,
    "start_time": "2022-03-27T12:09:59.502Z"
   },
   {
    "duration": 20,
    "start_time": "2022-03-27T12:11:17.962Z"
   },
   {
    "duration": 19,
    "start_time": "2022-03-27T12:11:19.652Z"
   },
   {
    "duration": 474,
    "start_time": "2022-03-27T12:11:33.582Z"
   },
   {
    "duration": 7,
    "start_time": "2022-03-27T12:14:12.255Z"
   },
   {
    "duration": 379,
    "start_time": "2022-03-27T12:14:22.764Z"
   },
   {
    "duration": 16,
    "start_time": "2022-03-27T12:15:12.624Z"
   },
   {
    "duration": 13,
    "start_time": "2022-03-27T12:15:34.379Z"
   },
   {
    "duration": 14,
    "start_time": "2022-03-27T12:16:17.205Z"
   },
   {
    "duration": 23,
    "start_time": "2022-03-27T12:16:25.735Z"
   },
   {
    "duration": 481,
    "start_time": "2022-03-27T12:16:39.368Z"
   },
   {
    "duration": 13,
    "start_time": "2022-03-27T12:16:51.194Z"
   },
   {
    "duration": 17,
    "start_time": "2022-03-27T12:17:08.334Z"
   },
   {
    "duration": 17,
    "start_time": "2022-03-27T12:17:47.394Z"
   },
   {
    "duration": 14,
    "start_time": "2022-03-27T12:17:55.084Z"
   },
   {
    "duration": 12,
    "start_time": "2022-03-27T12:18:06.504Z"
   },
   {
    "duration": 1256,
    "start_time": "2022-03-27T12:18:56.884Z"
   },
   {
    "duration": 328,
    "start_time": "2022-03-27T12:18:59.695Z"
   },
   {
    "duration": 18,
    "start_time": "2022-03-27T12:20:08.000Z"
   },
   {
    "duration": 3421,
    "start_time": "2022-03-27T12:20:36.696Z"
   },
   {
    "duration": 1360,
    "start_time": "2022-03-27T12:30:11.591Z"
   },
   {
    "duration": 32,
    "start_time": "2022-03-27T12:30:12.953Z"
   },
   {
    "duration": 15,
    "start_time": "2022-03-27T12:30:12.986Z"
   },
   {
    "duration": 9,
    "start_time": "2022-03-27T12:30:13.003Z"
   },
   {
    "duration": 16,
    "start_time": "2022-03-27T12:30:13.014Z"
   },
   {
    "duration": 21,
    "start_time": "2022-03-27T12:30:13.032Z"
   },
   {
    "duration": 13,
    "start_time": "2022-03-27T12:30:13.055Z"
   },
   {
    "duration": 11,
    "start_time": "2022-03-27T12:30:13.069Z"
   },
   {
    "duration": 38,
    "start_time": "2022-03-27T12:30:13.082Z"
   },
   {
    "duration": 7,
    "start_time": "2022-03-27T12:30:13.122Z"
   },
   {
    "duration": 77,
    "start_time": "2022-03-27T12:30:13.130Z"
   },
   {
    "duration": 3045,
    "start_time": "2022-03-27T12:30:13.208Z"
   },
   {
    "duration": 1397,
    "start_time": "2022-03-27T12:30:16.254Z"
   },
   {
    "duration": 272,
    "start_time": "2022-03-27T12:30:17.654Z"
   },
   {
    "duration": 11,
    "start_time": "2022-03-27T12:30:17.928Z"
   },
   {
    "duration": 2518,
    "start_time": "2022-03-27T12:30:17.941Z"
   },
   {
    "duration": 0,
    "start_time": "2022-03-27T12:30:20.462Z"
   },
   {
    "duration": 0,
    "start_time": "2022-03-27T12:30:20.464Z"
   },
   {
    "duration": 0,
    "start_time": "2022-03-27T12:30:20.465Z"
   },
   {
    "duration": 0,
    "start_time": "2022-03-27T12:30:20.466Z"
   },
   {
    "duration": 0,
    "start_time": "2022-03-27T12:30:20.467Z"
   },
   {
    "duration": 0,
    "start_time": "2022-03-27T12:30:20.469Z"
   },
   {
    "duration": 0,
    "start_time": "2022-03-27T12:30:20.470Z"
   },
   {
    "duration": 0,
    "start_time": "2022-03-27T12:30:20.472Z"
   },
   {
    "duration": 0,
    "start_time": "2022-03-27T12:30:20.473Z"
   },
   {
    "duration": 0,
    "start_time": "2022-03-27T12:30:20.474Z"
   },
   {
    "duration": 0,
    "start_time": "2022-03-27T12:30:20.475Z"
   },
   {
    "duration": 0,
    "start_time": "2022-03-27T12:30:20.476Z"
   },
   {
    "duration": 0,
    "start_time": "2022-03-27T12:30:20.477Z"
   },
   {
    "duration": 0,
    "start_time": "2022-03-27T12:30:20.479Z"
   },
   {
    "duration": 0,
    "start_time": "2022-03-27T12:30:20.480Z"
   },
   {
    "duration": 0,
    "start_time": "2022-03-27T12:30:20.481Z"
   },
   {
    "duration": 0,
    "start_time": "2022-03-27T12:30:20.483Z"
   },
   {
    "duration": 0,
    "start_time": "2022-03-27T12:30:20.483Z"
   },
   {
    "duration": 0,
    "start_time": "2022-03-27T12:30:20.484Z"
   },
   {
    "duration": 0,
    "start_time": "2022-03-27T12:30:20.486Z"
   },
   {
    "duration": 0,
    "start_time": "2022-03-27T12:30:20.487Z"
   },
   {
    "duration": 4,
    "start_time": "2022-03-27T12:31:57.253Z"
   },
   {
    "duration": 2232,
    "start_time": "2022-03-27T12:32:00.031Z"
   },
   {
    "duration": 14,
    "start_time": "2022-03-27T12:32:08.089Z"
   },
   {
    "duration": 1456,
    "start_time": "2022-03-27T12:32:31.200Z"
   },
   {
    "duration": 5,
    "start_time": "2022-03-27T12:33:56.261Z"
   },
   {
    "duration": 16,
    "start_time": "2022-03-27T12:33:58.160Z"
   },
   {
    "duration": 4,
    "start_time": "2022-03-27T12:34:31.751Z"
   },
   {
    "duration": 10,
    "start_time": "2022-03-27T12:34:33.775Z"
   },
   {
    "duration": 204,
    "start_time": "2022-03-27T12:34:58.690Z"
   },
   {
    "duration": 4,
    "start_time": "2022-03-27T12:35:43.603Z"
   },
   {
    "duration": 15,
    "start_time": "2022-03-27T12:35:44.871Z"
   },
   {
    "duration": 5,
    "start_time": "2022-03-27T12:36:50.171Z"
   },
   {
    "duration": 4,
    "start_time": "2022-03-27T12:36:57.831Z"
   },
   {
    "duration": 9,
    "start_time": "2022-03-27T12:37:00.831Z"
   },
   {
    "duration": 4,
    "start_time": "2022-03-27T12:37:38.620Z"
   },
   {
    "duration": 10,
    "start_time": "2022-03-27T12:37:40.481Z"
   },
   {
    "duration": 4,
    "start_time": "2022-03-27T12:38:35.910Z"
   },
   {
    "duration": 10,
    "start_time": "2022-03-27T12:38:38.528Z"
   },
   {
    "duration": 1666,
    "start_time": "2022-03-27T12:39:03.760Z"
   },
   {
    "duration": 4,
    "start_time": "2022-03-27T12:40:24.650Z"
   },
   {
    "duration": 10,
    "start_time": "2022-03-27T12:40:26.840Z"
   },
   {
    "duration": 4,
    "start_time": "2022-03-27T12:40:37.680Z"
   },
   {
    "duration": 9,
    "start_time": "2022-03-27T12:40:40.420Z"
   },
   {
    "duration": 4,
    "start_time": "2022-03-27T12:40:48.938Z"
   },
   {
    "duration": 14,
    "start_time": "2022-03-27T12:40:50.861Z"
   },
   {
    "duration": 1401,
    "start_time": "2022-03-27T12:42:18.440Z"
   },
   {
    "duration": 10,
    "start_time": "2022-03-27T12:43:49.190Z"
   },
   {
    "duration": 14,
    "start_time": "2022-03-27T12:44:02.071Z"
   },
   {
    "duration": 1469,
    "start_time": "2022-03-27T12:44:10.275Z"
   },
   {
    "duration": 11,
    "start_time": "2022-03-27T12:44:37.201Z"
   },
   {
    "duration": 1775,
    "start_time": "2022-03-27T12:44:56.591Z"
   },
   {
    "duration": 9,
    "start_time": "2022-03-27T12:45:38.610Z"
   },
   {
    "duration": 1745,
    "start_time": "2022-03-27T12:45:42.950Z"
   },
   {
    "duration": 9,
    "start_time": "2022-03-27T12:49:10.241Z"
   },
   {
    "duration": 1701,
    "start_time": "2022-03-27T12:49:27.377Z"
   },
   {
    "duration": 11,
    "start_time": "2022-03-27T12:56:24.661Z"
   },
   {
    "duration": 10,
    "start_time": "2022-03-27T12:57:55.091Z"
   },
   {
    "duration": 1870,
    "start_time": "2022-03-27T12:58:03.821Z"
   },
   {
    "duration": 9,
    "start_time": "2022-03-27T12:58:43.531Z"
   },
   {
    "duration": 1675,
    "start_time": "2022-03-27T12:58:49.000Z"
   },
   {
    "duration": 17,
    "start_time": "2022-03-27T13:00:13.350Z"
   },
   {
    "duration": 5,
    "start_time": "2022-03-27T13:00:22.921Z"
   },
   {
    "duration": 1577,
    "start_time": "2022-03-27T13:00:25.250Z"
   },
   {
    "duration": 4,
    "start_time": "2022-03-27T13:02:43.981Z"
   },
   {
    "duration": 2250,
    "start_time": "2022-03-27T13:02:49.441Z"
   },
   {
    "duration": 16,
    "start_time": "2022-03-27T13:05:15.280Z"
   },
   {
    "duration": 4,
    "start_time": "2022-03-27T13:05:34.291Z"
   },
   {
    "duration": 1568,
    "start_time": "2022-03-27T13:05:36.781Z"
   },
   {
    "duration": 1396,
    "start_time": "2022-03-27T13:05:59.960Z"
   },
   {
    "duration": 17,
    "start_time": "2022-03-27T13:06:01.358Z"
   },
   {
    "duration": 15,
    "start_time": "2022-03-27T13:06:01.378Z"
   },
   {
    "duration": 19,
    "start_time": "2022-03-27T13:06:01.394Z"
   },
   {
    "duration": 30,
    "start_time": "2022-03-27T13:06:01.416Z"
   },
   {
    "duration": 38,
    "start_time": "2022-03-27T13:06:01.448Z"
   },
   {
    "duration": 35,
    "start_time": "2022-03-27T13:06:01.488Z"
   },
   {
    "duration": 13,
    "start_time": "2022-03-27T13:06:01.525Z"
   },
   {
    "duration": 81,
    "start_time": "2022-03-27T13:06:01.540Z"
   },
   {
    "duration": 17,
    "start_time": "2022-03-27T13:06:01.623Z"
   },
   {
    "duration": 59,
    "start_time": "2022-03-27T13:06:01.641Z"
   },
   {
    "duration": 2876,
    "start_time": "2022-03-27T13:06:01.702Z"
   },
   {
    "duration": 1371,
    "start_time": "2022-03-27T13:06:04.580Z"
   },
   {
    "duration": 285,
    "start_time": "2022-03-27T13:06:05.954Z"
   },
   {
    "duration": 12,
    "start_time": "2022-03-27T13:06:06.240Z"
   },
   {
    "duration": 203,
    "start_time": "2022-03-27T13:06:06.263Z"
   },
   {
    "duration": 10,
    "start_time": "2022-03-27T13:06:06.468Z"
   },
   {
    "duration": 7,
    "start_time": "2022-03-27T13:06:06.480Z"
   },
   {
    "duration": 1034,
    "start_time": "2022-03-27T13:06:06.488Z"
   },
   {
    "duration": 374,
    "start_time": "2022-03-27T13:06:07.524Z"
   },
   {
    "duration": 138,
    "start_time": "2022-03-27T13:06:07.900Z"
   },
   {
    "duration": 4,
    "start_time": "2022-03-27T13:06:08.040Z"
   },
   {
    "duration": 20,
    "start_time": "2022-03-27T13:06:08.045Z"
   },
   {
    "duration": 9,
    "start_time": "2022-03-27T13:06:08.067Z"
   },
   {
    "duration": 3,
    "start_time": "2022-03-27T13:06:08.078Z"
   },
   {
    "duration": 5,
    "start_time": "2022-03-27T13:06:08.083Z"
   },
   {
    "duration": 9,
    "start_time": "2022-03-27T13:06:08.090Z"
   },
   {
    "duration": 1873,
    "start_time": "2022-03-27T13:06:08.101Z"
   },
   {
    "duration": 721,
    "start_time": "2022-03-27T13:06:10.064Z"
   },
   {
    "duration": 186,
    "start_time": "2022-03-27T13:06:10.787Z"
   },
   {
    "duration": 5,
    "start_time": "2022-03-27T13:06:10.975Z"
   },
   {
    "duration": 7,
    "start_time": "2022-03-27T13:06:10.982Z"
   },
   {
    "duration": 6,
    "start_time": "2022-03-27T13:06:10.990Z"
   },
   {
    "duration": 21,
    "start_time": "2022-03-27T13:06:10.997Z"
   },
   {
    "duration": 291,
    "start_time": "2022-03-27T14:05:36.315Z"
   },
   {
    "duration": 301,
    "start_time": "2022-03-27T14:06:07.393Z"
   },
   {
    "duration": 1943,
    "start_time": "2022-03-27T15:09:39.123Z"
   },
   {
    "duration": 42,
    "start_time": "2022-03-27T15:09:41.069Z"
   },
   {
    "duration": 24,
    "start_time": "2022-03-27T15:09:41.113Z"
   },
   {
    "duration": 5,
    "start_time": "2022-03-27T15:09:41.138Z"
   },
   {
    "duration": 15,
    "start_time": "2022-03-27T15:09:41.146Z"
   },
   {
    "duration": 21,
    "start_time": "2022-03-27T15:09:41.163Z"
   },
   {
    "duration": 16,
    "start_time": "2022-03-27T15:09:41.186Z"
   },
   {
    "duration": 12,
    "start_time": "2022-03-27T15:09:41.204Z"
   },
   {
    "duration": 40,
    "start_time": "2022-03-27T15:09:41.218Z"
   },
   {
    "duration": 8,
    "start_time": "2022-03-27T15:09:41.280Z"
   },
   {
    "duration": 67,
    "start_time": "2022-03-27T15:09:41.290Z"
   },
   {
    "duration": 4041,
    "start_time": "2022-03-27T15:09:41.359Z"
   },
   {
    "duration": 2415,
    "start_time": "2022-03-27T15:09:45.403Z"
   },
   {
    "duration": 434,
    "start_time": "2022-03-27T15:09:47.823Z"
   },
   {
    "duration": 25,
    "start_time": "2022-03-27T15:09:48.259Z"
   },
   {
    "duration": 281,
    "start_time": "2022-03-27T15:09:48.285Z"
   },
   {
    "duration": 207,
    "start_time": "2022-03-27T15:09:48.568Z"
   },
   {
    "duration": 15,
    "start_time": "2022-03-27T15:09:48.776Z"
   },
   {
    "duration": 7,
    "start_time": "2022-03-27T15:09:48.793Z"
   },
   {
    "duration": 1386,
    "start_time": "2022-03-27T15:09:48.802Z"
   },
   {
    "duration": 562,
    "start_time": "2022-03-27T15:09:50.190Z"
   },
   {
    "duration": 47,
    "start_time": "2022-03-27T15:09:50.754Z"
   },
   {
    "duration": 5,
    "start_time": "2022-03-27T15:09:50.802Z"
   },
   {
    "duration": 7,
    "start_time": "2022-03-27T15:09:50.808Z"
   },
   {
    "duration": 10,
    "start_time": "2022-03-27T15:09:50.817Z"
   },
   {
    "duration": 4,
    "start_time": "2022-03-27T15:09:50.828Z"
   },
   {
    "duration": 7,
    "start_time": "2022-03-27T15:09:50.833Z"
   },
   {
    "duration": 8,
    "start_time": "2022-03-27T15:09:50.842Z"
   },
   {
    "duration": 2242,
    "start_time": "2022-03-27T15:09:50.852Z"
   },
   {
    "duration": 785,
    "start_time": "2022-03-27T15:09:53.096Z"
   },
   {
    "duration": 171,
    "start_time": "2022-03-27T15:09:53.883Z"
   },
   {
    "duration": 4,
    "start_time": "2022-03-27T15:09:54.057Z"
   },
   {
    "duration": 5,
    "start_time": "2022-03-27T15:09:54.062Z"
   },
   {
    "duration": 6,
    "start_time": "2022-03-27T15:09:54.086Z"
   },
   {
    "duration": 17,
    "start_time": "2022-03-27T15:09:54.093Z"
   },
   {
    "duration": 3,
    "start_time": "2022-03-27T15:10:30.916Z"
   },
   {
    "duration": 950,
    "start_time": "2022-03-27T15:10:33.345Z"
   },
   {
    "duration": 6,
    "start_time": "2022-03-27T15:11:10.086Z"
   },
   {
    "duration": 5,
    "start_time": "2022-03-27T15:11:12.336Z"
   },
   {
    "duration": 9,
    "start_time": "2022-03-27T15:11:13.656Z"
   },
   {
    "duration": 2184,
    "start_time": "2022-03-27T15:11:18.316Z"
   },
   {
    "duration": 279,
    "start_time": "2022-03-27T15:12:03.316Z"
   },
   {
    "duration": 12,
    "start_time": "2022-03-27T15:13:36.987Z"
   },
   {
    "duration": 4,
    "start_time": "2022-03-27T15:13:51.853Z"
   },
   {
    "duration": 960,
    "start_time": "2022-03-27T15:13:54.876Z"
   },
   {
    "duration": 5,
    "start_time": "2022-03-27T15:14:30.715Z"
   },
   {
    "duration": 1547,
    "start_time": "2022-03-27T15:14:33.196Z"
   },
   {
    "duration": 5,
    "start_time": "2022-03-27T15:14:52.627Z"
   },
   {
    "duration": 6,
    "start_time": "2022-03-27T15:14:53.656Z"
   },
   {
    "duration": 12,
    "start_time": "2022-03-27T15:14:54.965Z"
   },
   {
    "duration": 2018,
    "start_time": "2022-03-27T15:14:57.785Z"
   },
   {
    "duration": 706,
    "start_time": "2022-03-27T15:17:50.036Z"
   },
   {
    "duration": 137,
    "start_time": "2022-03-27T15:17:52.910Z"
   },
   {
    "duration": 109,
    "start_time": "2022-03-27T15:31:55.835Z"
   },
   {
    "duration": 19,
    "start_time": "2022-03-27T15:32:29.363Z"
   },
   {
    "duration": 0,
    "start_time": "2022-03-27T15:33:57.624Z"
   },
   {
    "duration": 0,
    "start_time": "2022-03-27T15:38:41.833Z"
   },
   {
    "duration": 1011,
    "start_time": "2022-03-27T15:38:55.145Z"
   },
   {
    "duration": 37150,
    "start_time": "2022-03-27T15:40:37.356Z"
   },
   {
    "duration": 110574,
    "start_time": "2022-03-27T15:44:26.356Z"
   },
   {
    "duration": 1326,
    "start_time": "2022-03-27T15:56:08.941Z"
   },
   {
    "duration": 23,
    "start_time": "2022-03-27T15:56:10.269Z"
   },
   {
    "duration": 18,
    "start_time": "2022-03-27T15:56:10.294Z"
   },
   {
    "duration": 4,
    "start_time": "2022-03-27T15:56:10.313Z"
   },
   {
    "duration": 10,
    "start_time": "2022-03-27T15:56:10.320Z"
   },
   {
    "duration": 9,
    "start_time": "2022-03-27T15:56:10.332Z"
   },
   {
    "duration": 41,
    "start_time": "2022-03-27T15:56:10.343Z"
   },
   {
    "duration": 11,
    "start_time": "2022-03-27T15:56:10.386Z"
   },
   {
    "duration": 37,
    "start_time": "2022-03-27T15:56:10.399Z"
   },
   {
    "duration": 7,
    "start_time": "2022-03-27T15:56:10.438Z"
   },
   {
    "duration": 78,
    "start_time": "2022-03-27T15:56:10.447Z"
   },
   {
    "duration": 2855,
    "start_time": "2022-03-27T15:56:10.527Z"
   },
   {
    "duration": 1322,
    "start_time": "2022-03-27T15:56:13.384Z"
   },
   {
    "duration": 51634,
    "start_time": "2022-03-27T15:56:14.710Z"
   },
   {
    "duration": 335,
    "start_time": "2022-03-27T15:57:06.346Z"
   },
   {
    "duration": 11,
    "start_time": "2022-03-27T15:57:06.683Z"
   },
   {
    "duration": 298,
    "start_time": "2022-03-27T15:57:06.696Z"
   },
   {
    "duration": 211,
    "start_time": "2022-03-27T15:57:06.996Z"
   },
   {
    "duration": 11,
    "start_time": "2022-03-27T15:57:07.209Z"
   },
   {
    "duration": 16,
    "start_time": "2022-03-27T15:57:07.222Z"
   },
   {
    "duration": 854,
    "start_time": "2022-03-27T15:57:07.240Z"
   },
   {
    "duration": 1101,
    "start_time": "2022-03-27T15:57:08.096Z"
   },
   {
    "duration": 387,
    "start_time": "2022-03-27T15:57:09.199Z"
   },
   {
    "duration": 75,
    "start_time": "2022-03-27T15:57:09.588Z"
   },
   {
    "duration": 17,
    "start_time": "2022-03-27T15:57:09.666Z"
   },
   {
    "duration": 11,
    "start_time": "2022-03-27T15:57:09.685Z"
   },
   {
    "duration": 15,
    "start_time": "2022-03-27T15:57:09.698Z"
   },
   {
    "duration": 4,
    "start_time": "2022-03-27T15:57:09.715Z"
   },
   {
    "duration": 5,
    "start_time": "2022-03-27T15:57:09.721Z"
   },
   {
    "duration": 4,
    "start_time": "2022-03-27T15:57:09.728Z"
   },
   {
    "duration": 1848,
    "start_time": "2022-03-27T15:57:09.735Z"
   },
   {
    "duration": 1118,
    "start_time": "2022-03-27T15:57:11.585Z"
   },
   {
    "duration": 285,
    "start_time": "2022-03-27T15:57:12.706Z"
   },
   {
    "duration": 4,
    "start_time": "2022-03-27T15:57:12.994Z"
   },
   {
    "duration": 10,
    "start_time": "2022-03-27T15:57:13.001Z"
   },
   {
    "duration": 7,
    "start_time": "2022-03-27T15:57:13.014Z"
   },
   {
    "duration": 32,
    "start_time": "2022-03-27T15:57:13.023Z"
   },
   {
    "duration": 482,
    "start_time": "2022-03-27T15:59:40.289Z"
   },
   {
    "duration": 1572,
    "start_time": "2022-03-27T15:59:59.180Z"
   },
   {
    "duration": 251,
    "start_time": "2022-03-27T16:01:25.802Z"
   },
   {
    "duration": 1627,
    "start_time": "2022-03-27T20:28:44.499Z"
   },
   {
    "duration": 35,
    "start_time": "2022-03-27T20:28:46.129Z"
   },
   {
    "duration": 19,
    "start_time": "2022-03-27T20:28:46.166Z"
   },
   {
    "duration": 4,
    "start_time": "2022-03-27T20:28:46.188Z"
   },
   {
    "duration": 11,
    "start_time": "2022-03-27T20:28:46.202Z"
   },
   {
    "duration": 13,
    "start_time": "2022-03-27T20:28:46.215Z"
   },
   {
    "duration": 23,
    "start_time": "2022-03-27T20:28:46.231Z"
   },
   {
    "duration": 50,
    "start_time": "2022-03-27T20:28:46.256Z"
   },
   {
    "duration": 65,
    "start_time": "2022-03-27T20:28:46.308Z"
   },
   {
    "duration": 30,
    "start_time": "2022-03-27T20:28:46.376Z"
   },
   {
    "duration": 60,
    "start_time": "2022-03-27T20:28:46.408Z"
   },
   {
    "duration": 4835,
    "start_time": "2022-03-27T20:28:46.470Z"
   },
   {
    "duration": 2494,
    "start_time": "2022-03-27T20:28:51.308Z"
   },
   {
    "duration": 72828,
    "start_time": "2022-03-27T20:28:53.805Z"
   },
   {
    "duration": 428,
    "start_time": "2022-03-27T20:30:06.636Z"
   },
   {
    "duration": 14,
    "start_time": "2022-03-27T20:30:07.066Z"
   },
   {
    "duration": 335,
    "start_time": "2022-03-27T20:30:07.102Z"
   },
   {
    "duration": 262,
    "start_time": "2022-03-27T20:30:07.439Z"
   },
   {
    "duration": 26,
    "start_time": "2022-03-27T20:30:07.703Z"
   },
   {
    "duration": 8,
    "start_time": "2022-03-27T20:30:07.734Z"
   },
   {
    "duration": 1044,
    "start_time": "2022-03-27T20:30:07.747Z"
   },
   {
    "duration": 1382,
    "start_time": "2022-03-27T20:30:08.793Z"
   },
   {
    "duration": 406,
    "start_time": "2022-03-27T20:30:10.177Z"
   },
   {
    "duration": 56,
    "start_time": "2022-03-27T20:30:10.585Z"
   },
   {
    "duration": 5,
    "start_time": "2022-03-27T20:30:10.643Z"
   },
   {
    "duration": 9,
    "start_time": "2022-03-27T20:30:10.650Z"
   },
   {
    "duration": 13,
    "start_time": "2022-03-27T20:30:10.661Z"
   },
   {
    "duration": 24,
    "start_time": "2022-03-27T20:30:10.678Z"
   },
   {
    "duration": 5,
    "start_time": "2022-03-27T20:30:10.705Z"
   },
   {
    "duration": 7,
    "start_time": "2022-03-27T20:30:10.712Z"
   },
   {
    "duration": 2083,
    "start_time": "2022-03-27T20:30:10.721Z"
   },
   {
    "duration": 920,
    "start_time": "2022-03-27T20:30:12.807Z"
   },
   {
    "duration": 191,
    "start_time": "2022-03-27T20:30:13.729Z"
   },
   {
    "duration": 5,
    "start_time": "2022-03-27T20:30:13.922Z"
   },
   {
    "duration": 9,
    "start_time": "2022-03-27T20:30:13.929Z"
   },
   {
    "duration": 11,
    "start_time": "2022-03-27T20:30:13.940Z"
   },
   {
    "duration": 34,
    "start_time": "2022-03-27T20:30:13.953Z"
   },
   {
    "duration": 8,
    "start_time": "2022-03-27T20:34:57.259Z"
   },
   {
    "duration": 130,
    "start_time": "2022-03-27T20:37:44.074Z"
   },
   {
    "duration": 18,
    "start_time": "2022-03-27T20:37:51.103Z"
   },
   {
    "duration": 18,
    "start_time": "2022-03-27T20:37:59.085Z"
   },
   {
    "duration": 19,
    "start_time": "2022-03-27T20:38:02.863Z"
   },
   {
    "duration": 10,
    "start_time": "2022-03-27T20:38:14.303Z"
   },
   {
    "duration": 10,
    "start_time": "2022-03-27T20:38:44.553Z"
   },
   {
    "duration": 12,
    "start_time": "2022-03-27T20:39:23.113Z"
   },
   {
    "duration": 65,
    "start_time": "2022-03-27T20:41:34.662Z"
   },
   {
    "duration": 16,
    "start_time": "2022-03-27T20:43:30.033Z"
   },
   {
    "duration": 14,
    "start_time": "2022-03-27T20:43:39.432Z"
   },
   {
    "duration": 50,
    "start_time": "2022-03-27T20:43:51.011Z"
   },
   {
    "duration": 54,
    "start_time": "2022-03-27T20:45:00.344Z"
   },
   {
    "duration": 57,
    "start_time": "2022-03-27T20:45:18.423Z"
   },
   {
    "duration": 76,
    "start_time": "2022-03-27T20:45:23.203Z"
   },
   {
    "duration": 79,
    "start_time": "2022-03-27T20:45:32.176Z"
   },
   {
    "duration": 57,
    "start_time": "2022-03-27T20:45:39.333Z"
   },
   {
    "duration": 52,
    "start_time": "2022-03-27T20:47:11.062Z"
   },
   {
    "duration": 56,
    "start_time": "2022-03-27T20:48:32.769Z"
   },
   {
    "duration": 19,
    "start_time": "2022-03-27T20:49:59.543Z"
   },
   {
    "duration": 20,
    "start_time": "2022-03-27T20:50:06.173Z"
   },
   {
    "duration": 52,
    "start_time": "2022-03-27T20:50:20.194Z"
   },
   {
    "duration": 19,
    "start_time": "2022-03-27T20:50:48.129Z"
   },
   {
    "duration": 21,
    "start_time": "2022-03-27T20:51:02.914Z"
   },
   {
    "duration": 73,
    "start_time": "2022-03-27T20:51:42.894Z"
   },
   {
    "duration": 70,
    "start_time": "2022-03-27T20:52:10.175Z"
   },
   {
    "duration": 57,
    "start_time": "2022-03-27T20:52:26.994Z"
   },
   {
    "duration": 5,
    "start_time": "2022-03-27T20:54:18.572Z"
   },
   {
    "duration": 192,
    "start_time": "2022-03-27T20:57:45.284Z"
   },
   {
    "duration": 11,
    "start_time": "2022-03-27T20:57:49.543Z"
   },
   {
    "duration": 141,
    "start_time": "2022-03-27T21:00:26.333Z"
   },
   {
    "duration": 5839,
    "start_time": "2022-03-27T21:00:38.523Z"
   },
   {
    "duration": 20,
    "start_time": "2022-03-27T21:02:10.144Z"
   },
   {
    "duration": 5979,
    "start_time": "2022-03-27T21:02:13.215Z"
   },
   {
    "duration": 33,
    "start_time": "2022-03-27T21:03:54.554Z"
   },
   {
    "duration": 7063,
    "start_time": "2022-03-27T21:04:02.264Z"
   },
   {
    "duration": 33,
    "start_time": "2022-03-27T21:04:19.266Z"
   },
   {
    "duration": 9246,
    "start_time": "2022-03-27T21:04:52.724Z"
   },
   {
    "duration": 11,
    "start_time": "2022-03-27T21:07:54.095Z"
   },
   {
    "duration": 259,
    "start_time": "2022-03-27T21:08:30.555Z"
   },
   {
    "duration": 6032,
    "start_time": "2022-03-27T21:08:47.286Z"
   },
   {
    "duration": 0,
    "start_time": "2022-03-27T21:09:11.523Z"
   },
   {
    "duration": 6298,
    "start_time": "2022-03-27T21:09:14.726Z"
   },
   {
    "duration": 1780,
    "start_time": "2022-03-27T21:11:52.775Z"
   },
   {
    "duration": 952,
    "start_time": "2022-03-27T21:12:19.586Z"
   },
   {
    "duration": 1551,
    "start_time": "2022-03-27T21:12:50.964Z"
   },
   {
    "duration": 1156,
    "start_time": "2022-03-27T21:13:02.495Z"
   },
   {
    "duration": 6054,
    "start_time": "2022-03-27T21:14:11.924Z"
   },
   {
    "duration": 5220,
    "start_time": "2022-03-27T21:15:01.304Z"
   },
   {
    "duration": 6242,
    "start_time": "2022-03-27T21:16:50.134Z"
   },
   {
    "duration": 5403,
    "start_time": "2022-03-27T21:18:31.413Z"
   },
   {
    "duration": 5,
    "start_time": "2022-03-27T21:22:10.643Z"
   },
   {
    "duration": 6273,
    "start_time": "2022-03-27T21:22:12.593Z"
   },
   {
    "duration": 26,
    "start_time": "2022-03-27T21:27:16.259Z"
   },
   {
    "duration": 44,
    "start_time": "2022-03-27T21:28:30.629Z"
   },
   {
    "duration": 8087,
    "start_time": "2022-03-27T21:29:00.791Z"
   },
   {
    "duration": 0,
    "start_time": "2022-03-27T21:37:42.933Z"
   },
   {
    "duration": 2564,
    "start_time": "2022-03-27T21:37:52.197Z"
   },
   {
    "duration": 8190,
    "start_time": "2022-03-27T21:38:09.011Z"
   },
   {
    "duration": 5991,
    "start_time": "2022-03-27T21:39:01.472Z"
   },
   {
    "duration": 35,
    "start_time": "2022-03-27T21:39:24.499Z"
   },
   {
    "duration": 197,
    "start_time": "2022-03-27T21:39:32.180Z"
   },
   {
    "duration": 35,
    "start_time": "2022-03-27T21:39:37.238Z"
   },
   {
    "duration": 0,
    "start_time": "2022-03-27T21:40:29.457Z"
   },
   {
    "duration": 35,
    "start_time": "2022-03-27T21:40:32.359Z"
   },
   {
    "duration": 12,
    "start_time": "2022-03-27T21:40:54.307Z"
   },
   {
    "duration": 8,
    "start_time": "2022-03-27T21:41:49.622Z"
   },
   {
    "duration": 14,
    "start_time": "2022-03-27T21:42:11.650Z"
   },
   {
    "duration": 13,
    "start_time": "2022-03-27T21:43:00.255Z"
   },
   {
    "duration": 13,
    "start_time": "2022-03-27T21:43:18.171Z"
   },
   {
    "duration": 13,
    "start_time": "2022-03-27T21:43:56.510Z"
   },
   {
    "duration": 21,
    "start_time": "2022-03-27T21:44:18.890Z"
   },
   {
    "duration": 20,
    "start_time": "2022-03-27T21:44:22.749Z"
   },
   {
    "duration": 16,
    "start_time": "2022-03-27T21:44:33.691Z"
   },
   {
    "duration": 13,
    "start_time": "2022-03-27T21:44:47.377Z"
   },
   {
    "duration": 13,
    "start_time": "2022-03-27T21:44:52.362Z"
   },
   {
    "duration": 6943,
    "start_time": "2022-03-27T21:45:45.682Z"
   },
   {
    "duration": 158,
    "start_time": "2022-03-27T21:47:09.049Z"
   },
   {
    "duration": 6248,
    "start_time": "2022-03-27T21:47:16.460Z"
   },
   {
    "duration": 5702,
    "start_time": "2022-03-27T21:48:41.060Z"
   },
   {
    "duration": 6604,
    "start_time": "2022-03-27T21:49:55.517Z"
   },
   {
    "duration": 38,
    "start_time": "2022-03-27T21:52:34.669Z"
   },
   {
    "duration": 6720,
    "start_time": "2022-03-27T21:52:40.569Z"
   },
   {
    "duration": 7614,
    "start_time": "2022-03-27T21:53:04.398Z"
   },
   {
    "duration": 1187,
    "start_time": "2022-03-27T21:53:15.131Z"
   },
   {
    "duration": 6827,
    "start_time": "2022-03-27T21:53:21.699Z"
   },
   {
    "duration": 10,
    "start_time": "2022-03-27T21:54:45.561Z"
   },
   {
    "duration": 4,
    "start_time": "2022-03-27T21:55:27.451Z"
   },
   {
    "duration": 8203,
    "start_time": "2022-03-27T21:55:58.030Z"
   },
   {
    "duration": 6242,
    "start_time": "2022-03-27T21:56:26.699Z"
   },
   {
    "duration": 7197,
    "start_time": "2022-03-27T21:56:38.520Z"
   },
   {
    "duration": 5857,
    "start_time": "2022-03-27T21:56:58.920Z"
   },
   {
    "duration": 6290,
    "start_time": "2022-03-27T21:57:14.670Z"
   },
   {
    "duration": 6316,
    "start_time": "2022-03-27T21:57:21.549Z"
   },
   {
    "duration": 2096,
    "start_time": "2022-03-27T22:01:25.352Z"
   },
   {
    "duration": 31,
    "start_time": "2022-03-27T22:01:27.462Z"
   },
   {
    "duration": 34,
    "start_time": "2022-03-27T22:01:27.496Z"
   },
   {
    "duration": 6,
    "start_time": "2022-03-27T22:01:27.533Z"
   },
   {
    "duration": 23,
    "start_time": "2022-03-27T22:01:27.543Z"
   },
   {
    "duration": 35,
    "start_time": "2022-03-27T22:01:27.568Z"
   },
   {
    "duration": 15,
    "start_time": "2022-03-27T22:01:27.605Z"
   },
   {
    "duration": 14,
    "start_time": "2022-03-27T22:01:27.622Z"
   },
   {
    "duration": 71,
    "start_time": "2022-03-27T22:01:27.638Z"
   },
   {
    "duration": 58,
    "start_time": "2022-03-27T22:01:27.711Z"
   },
   {
    "duration": 9,
    "start_time": "2022-03-27T22:01:27.772Z"
   },
   {
    "duration": 3605,
    "start_time": "2022-03-27T22:01:27.801Z"
   },
   {
    "duration": 4,
    "start_time": "2022-03-27T22:01:31.408Z"
   },
   {
    "duration": 44,
    "start_time": "2022-03-27T22:01:31.416Z"
   },
   {
    "duration": 1608,
    "start_time": "2022-03-27T22:01:31.462Z"
   },
   {
    "duration": 63758,
    "start_time": "2022-03-27T22:01:33.072Z"
   },
   {
    "duration": 831,
    "start_time": "2022-03-27T22:02:36.834Z"
   },
   {
    "duration": 14,
    "start_time": "2022-03-27T22:02:37.666Z"
   },
   {
    "duration": 359,
    "start_time": "2022-03-27T22:02:37.700Z"
   },
   {
    "duration": 267,
    "start_time": "2022-03-27T22:02:38.062Z"
   },
   {
    "duration": 14,
    "start_time": "2022-03-27T22:02:38.332Z"
   },
   {
    "duration": 5,
    "start_time": "2022-03-27T22:02:38.348Z"
   },
   {
    "duration": 1866,
    "start_time": "2022-03-27T22:02:38.355Z"
   },
   {
    "duration": 3509,
    "start_time": "2022-03-27T22:02:40.224Z"
   },
   {
    "duration": 357,
    "start_time": "2022-03-27T22:02:43.736Z"
   },
   {
    "duration": 54,
    "start_time": "2022-03-27T22:02:44.095Z"
   },
   {
    "duration": 5,
    "start_time": "2022-03-27T22:02:44.150Z"
   },
   {
    "duration": 11,
    "start_time": "2022-03-27T22:02:44.157Z"
   },
   {
    "duration": 12,
    "start_time": "2022-03-27T22:02:44.170Z"
   },
   {
    "duration": 3,
    "start_time": "2022-03-27T22:02:44.201Z"
   },
   {
    "duration": 7,
    "start_time": "2022-03-27T22:02:44.206Z"
   },
   {
    "duration": 7,
    "start_time": "2022-03-27T22:02:44.214Z"
   },
   {
    "duration": 2385,
    "start_time": "2022-03-27T22:02:44.222Z"
   },
   {
    "duration": 932,
    "start_time": "2022-03-27T22:02:46.610Z"
   },
   {
    "duration": 227,
    "start_time": "2022-03-27T22:02:47.544Z"
   },
   {
    "duration": 6,
    "start_time": "2022-03-27T22:02:47.774Z"
   },
   {
    "duration": 21,
    "start_time": "2022-03-27T22:02:47.782Z"
   },
   {
    "duration": 7,
    "start_time": "2022-03-27T22:02:47.806Z"
   },
   {
    "duration": 22,
    "start_time": "2022-03-27T22:02:47.815Z"
   },
   {
    "duration": 1537,
    "start_time": "2022-03-28T12:25:12.673Z"
   },
   {
    "duration": 36,
    "start_time": "2022-03-28T12:25:14.212Z"
   },
   {
    "duration": 16,
    "start_time": "2022-03-28T12:25:14.250Z"
   },
   {
    "duration": 4,
    "start_time": "2022-03-28T12:25:14.269Z"
   },
   {
    "duration": 11,
    "start_time": "2022-03-28T12:25:14.275Z"
   },
   {
    "duration": 20,
    "start_time": "2022-03-28T12:25:14.287Z"
   },
   {
    "duration": 15,
    "start_time": "2022-03-28T12:25:14.309Z"
   },
   {
    "duration": 13,
    "start_time": "2022-03-28T12:25:14.325Z"
   },
   {
    "duration": 68,
    "start_time": "2022-03-28T12:25:14.340Z"
   },
   {
    "duration": 52,
    "start_time": "2022-03-28T12:25:14.411Z"
   },
   {
    "duration": 10,
    "start_time": "2022-03-28T12:25:14.464Z"
   },
   {
    "duration": 3298,
    "start_time": "2022-03-28T12:25:14.476Z"
   },
   {
    "duration": 4,
    "start_time": "2022-03-28T12:25:17.776Z"
   },
   {
    "duration": 54,
    "start_time": "2022-03-28T12:25:17.782Z"
   },
   {
    "duration": 1604,
    "start_time": "2022-03-28T12:25:17.838Z"
   }
  ],
  "kernelspec": {
   "display_name": "Python 3 (ipykernel)",
   "language": "python",
   "name": "python3"
  },
  "language_info": {
   "codemirror_mode": {
    "name": "ipython",
    "version": 3
   },
   "file_extension": ".py",
   "mimetype": "text/x-python",
   "name": "python",
   "nbconvert_exporter": "python",
   "pygments_lexer": "ipython3",
   "version": "3.9.7"
  },
  "toc": {
   "base_numbering": "1",
   "nav_menu": {},
   "number_sections": true,
   "sideBar": true,
   "skip_h1_title": true,
   "title_cell": "Table of Contents",
   "title_sidebar": "Contents",
   "toc_cell": true,
   "toc_position": {
    "height": "calc(100% - 180px)",
    "left": "10px",
    "top": "150px",
    "width": "255.594px"
   },
   "toc_section_display": true,
   "toc_window_display": false
  }
 },
 "nbformat": 4,
 "nbformat_minor": 2
}
